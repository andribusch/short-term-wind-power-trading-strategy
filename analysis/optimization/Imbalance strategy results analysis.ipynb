{
 "cells": [
  {
   "cell_type": "markdown",
   "id": "bcbaf61f",
   "metadata": {},
   "source": [
    "# Results analysis\n",
    "\n",
    "Analysis of the results provided by case study. Input data is the output of `revenue_calculation.py`."
   ]
  },
  {
   "cell_type": "code",
   "execution_count": 1,
   "id": "fb724793",
   "metadata": {},
   "outputs": [],
   "source": [
    "import pandas as pd\n",
    "import numpy as np\n",
    "\n",
    "import matplotlib.pyplot as plt"
   ]
  },
  {
   "cell_type": "markdown",
   "id": "bbc4fb10",
   "metadata": {},
   "source": [
    "Use Pandas Multiindex, since we have panel data"
   ]
  },
  {
   "cell_type": "code",
   "execution_count": 5,
   "id": "d1588c66",
   "metadata": {},
   "outputs": [],
   "source": [
    "df_results_naive = pd.read_excel('../../data/imbalance_strategy/full_case_study/results/total_results_naive.xlsx')\n",
    "df_results_naive = df_results_naive.groupby(['period', 'strategy']).sum()\n",
    "df = df_results_naive.unstack()\n",
    "# periods = df_results_naive.loc[:,'period'].values\n",
    "# strategies = df_results_naive.loc[:,'strategy'].values\n",
    "# arrays = [periods, strategies]\n",
    "\n",
    "# tuples = list(zip(*arrays))\n",
    "# index = pd.MultiIndex.from_tuples(tuples, names=['period', 'strategy'])"
   ]
  },
  {
   "cell_type": "code",
   "execution_count": 6,
   "id": "1c62b090",
   "metadata": {},
   "outputs": [
    {
     "data": {
      "text/html": [
       "<div>\n",
       "<style scoped>\n",
       "    .dataframe tbody tr th:only-of-type {\n",
       "        vertical-align: middle;\n",
       "    }\n",
       "\n",
       "    .dataframe tbody tr th {\n",
       "        vertical-align: top;\n",
       "    }\n",
       "\n",
       "    .dataframe thead tr th {\n",
       "        text-align: left;\n",
       "    }\n",
       "\n",
       "    .dataframe thead tr:last-of-type th {\n",
       "        text-align: right;\n",
       "    }\n",
       "</style>\n",
       "<table border=\"1\" class=\"dataframe\">\n",
       "  <thead>\n",
       "    <tr>\n",
       "      <th></th>\n",
       "      <th colspan=\"3\" halign=\"left\">Unnamed: 0</th>\n",
       "      <th colspan=\"3\" halign=\"left\">Spot revenue</th>\n",
       "      <th colspan=\"3\" halign=\"left\">Balancing_cost</th>\n",
       "      <th colspan=\"3\" halign=\"left\">Max (perfect forecast) spot revenue</th>\n",
       "      <th colspan=\"3\" halign=\"left\">Percentage_of_optimal</th>\n",
       "    </tr>\n",
       "    <tr>\n",
       "      <th>strategy</th>\n",
       "      <th>basic</th>\n",
       "      <th>intraday</th>\n",
       "      <th>stochastic_programming</th>\n",
       "      <th>basic</th>\n",
       "      <th>intraday</th>\n",
       "      <th>stochastic_programming</th>\n",
       "      <th>basic</th>\n",
       "      <th>intraday</th>\n",
       "      <th>stochastic_programming</th>\n",
       "      <th>basic</th>\n",
       "      <th>intraday</th>\n",
       "      <th>stochastic_programming</th>\n",
       "      <th>basic</th>\n",
       "      <th>intraday</th>\n",
       "      <th>stochastic_programming</th>\n",
       "    </tr>\n",
       "    <tr>\n",
       "      <th>period</th>\n",
       "      <th></th>\n",
       "      <th></th>\n",
       "      <th></th>\n",
       "      <th></th>\n",
       "      <th></th>\n",
       "      <th></th>\n",
       "      <th></th>\n",
       "      <th></th>\n",
       "      <th></th>\n",
       "      <th></th>\n",
       "      <th></th>\n",
       "      <th></th>\n",
       "      <th></th>\n",
       "      <th></th>\n",
       "      <th></th>\n",
       "    </tr>\n",
       "  </thead>\n",
       "  <tbody>\n",
       "    <tr>\n",
       "      <th>2021-01</th>\n",
       "      <td>0</td>\n",
       "      <td>0</td>\n",
       "      <td>0</td>\n",
       "      <td>2123695.97</td>\n",
       "      <td>2158699.77</td>\n",
       "      <td>2528763.83</td>\n",
       "      <td>-108790.87</td>\n",
       "      <td>15493.42</td>\n",
       "      <td>708221.22</td>\n",
       "      <td>2193107.53</td>\n",
       "      <td>2193107.53</td>\n",
       "      <td>2193107.53</td>\n",
       "      <td>0.968350</td>\n",
       "      <td>0.984311</td>\n",
       "      <td>1.153051</td>\n",
       "    </tr>\n",
       "    <tr>\n",
       "      <th>2021-02</th>\n",
       "      <td>1</td>\n",
       "      <td>1</td>\n",
       "      <td>1</td>\n",
       "      <td>2123221.55</td>\n",
       "      <td>2118859.33</td>\n",
       "      <td>2302520.05</td>\n",
       "      <td>31341.70</td>\n",
       "      <td>47402.46</td>\n",
       "      <td>203572.82</td>\n",
       "      <td>2175418.67</td>\n",
       "      <td>2175418.67</td>\n",
       "      <td>2175418.67</td>\n",
       "      <td>0.976006</td>\n",
       "      <td>0.974001</td>\n",
       "      <td>1.058426</td>\n",
       "    </tr>\n",
       "    <tr>\n",
       "      <th>2021-03</th>\n",
       "      <td>2</td>\n",
       "      <td>2</td>\n",
       "      <td>2</td>\n",
       "      <td>2621309.56</td>\n",
       "      <td>2611501.10</td>\n",
       "      <td>2770823.63</td>\n",
       "      <td>-53033.55</td>\n",
       "      <td>29166.59</td>\n",
       "      <td>281548.19</td>\n",
       "      <td>2655455.87</td>\n",
       "      <td>2655455.87</td>\n",
       "      <td>2655455.87</td>\n",
       "      <td>0.987141</td>\n",
       "      <td>0.983447</td>\n",
       "      <td>1.043446</td>\n",
       "    </tr>\n",
       "    <tr>\n",
       "      <th>2021-04</th>\n",
       "      <td>3</td>\n",
       "      <td>3</td>\n",
       "      <td>3</td>\n",
       "      <td>1910185.77</td>\n",
       "      <td>1925449.91</td>\n",
       "      <td>2102575.83</td>\n",
       "      <td>-73846.26</td>\n",
       "      <td>-41366.12</td>\n",
       "      <td>192259.35</td>\n",
       "      <td>2015695.54</td>\n",
       "      <td>2015695.54</td>\n",
       "      <td>2015695.54</td>\n",
       "      <td>0.947656</td>\n",
       "      <td>0.955229</td>\n",
       "      <td>1.043102</td>\n",
       "    </tr>\n",
       "    <tr>\n",
       "      <th>2021-05</th>\n",
       "      <td>4</td>\n",
       "      <td>4</td>\n",
       "      <td>4</td>\n",
       "      <td>1797217.67</td>\n",
       "      <td>1781628.32</td>\n",
       "      <td>1902881.32</td>\n",
       "      <td>-193789.23</td>\n",
       "      <td>-112332.43</td>\n",
       "      <td>93929.66</td>\n",
       "      <td>1868423.55</td>\n",
       "      <td>1868423.55</td>\n",
       "      <td>1868423.55</td>\n",
       "      <td>0.961890</td>\n",
       "      <td>0.953546</td>\n",
       "      <td>1.018442</td>\n",
       "    </tr>\n",
       "    <tr>\n",
       "      <th>2021-06</th>\n",
       "      <td>5</td>\n",
       "      <td>5</td>\n",
       "      <td>5</td>\n",
       "      <td>1184314.10</td>\n",
       "      <td>1186556.66</td>\n",
       "      <td>1401117.52</td>\n",
       "      <td>-139647.46</td>\n",
       "      <td>-58869.96</td>\n",
       "      <td>150820.27</td>\n",
       "      <td>1248509.45</td>\n",
       "      <td>1248509.45</td>\n",
       "      <td>1248509.45</td>\n",
       "      <td>0.948582</td>\n",
       "      <td>0.950379</td>\n",
       "      <td>1.122232</td>\n",
       "    </tr>\n",
       "    <tr>\n",
       "      <th>2021-07</th>\n",
       "      <td>6</td>\n",
       "      <td>6</td>\n",
       "      <td>6</td>\n",
       "      <td>2218984.91</td>\n",
       "      <td>2226951.57</td>\n",
       "      <td>2442175.46</td>\n",
       "      <td>67497.01</td>\n",
       "      <td>76947.19</td>\n",
       "      <td>300324.13</td>\n",
       "      <td>2312166.61</td>\n",
       "      <td>2312166.61</td>\n",
       "      <td>2312166.61</td>\n",
       "      <td>0.959699</td>\n",
       "      <td>0.963145</td>\n",
       "      <td>1.056228</td>\n",
       "    </tr>\n",
       "    <tr>\n",
       "      <th>2021-08</th>\n",
       "      <td>7</td>\n",
       "      <td>7</td>\n",
       "      <td>7</td>\n",
       "      <td>3725220.47</td>\n",
       "      <td>3838655.67</td>\n",
       "      <td>4173386.56</td>\n",
       "      <td>-496686.67</td>\n",
       "      <td>-161767.46</td>\n",
       "      <td>597961.84</td>\n",
       "      <td>3973589.49</td>\n",
       "      <td>3973589.49</td>\n",
       "      <td>3973589.49</td>\n",
       "      <td>0.937495</td>\n",
       "      <td>0.966042</td>\n",
       "      <td>1.050281</td>\n",
       "    </tr>\n",
       "    <tr>\n",
       "      <th>2021-09</th>\n",
       "      <td>8</td>\n",
       "      <td>8</td>\n",
       "      <td>8</td>\n",
       "      <td>5502440.21</td>\n",
       "      <td>5487804.17</td>\n",
       "      <td>5821635.60</td>\n",
       "      <td>207436.77</td>\n",
       "      <td>150036.53</td>\n",
       "      <td>512641.53</td>\n",
       "      <td>5546917.69</td>\n",
       "      <td>5546917.69</td>\n",
       "      <td>5546917.69</td>\n",
       "      <td>0.991982</td>\n",
       "      <td>0.989343</td>\n",
       "      <td>1.049526</td>\n",
       "    </tr>\n",
       "    <tr>\n",
       "      <th>2021-10</th>\n",
       "      <td>9</td>\n",
       "      <td>9</td>\n",
       "      <td>9</td>\n",
       "      <td>7379265.13</td>\n",
       "      <td>7374755.36</td>\n",
       "      <td>7643283.27</td>\n",
       "      <td>-37369.56</td>\n",
       "      <td>142307.93</td>\n",
       "      <td>596718.18</td>\n",
       "      <td>7604991.96</td>\n",
       "      <td>7604991.96</td>\n",
       "      <td>7604991.96</td>\n",
       "      <td>0.970319</td>\n",
       "      <td>0.969726</td>\n",
       "      <td>1.005035</td>\n",
       "    </tr>\n",
       "    <tr>\n",
       "      <th>2021-11</th>\n",
       "      <td>10</td>\n",
       "      <td>10</td>\n",
       "      <td>10</td>\n",
       "      <td>6799567.58</td>\n",
       "      <td>6839491.47</td>\n",
       "      <td>7502772.12</td>\n",
       "      <td>-286956.82</td>\n",
       "      <td>-885.90</td>\n",
       "      <td>1442048.48</td>\n",
       "      <td>6917440.56</td>\n",
       "      <td>6917440.56</td>\n",
       "      <td>6917440.56</td>\n",
       "      <td>0.982960</td>\n",
       "      <td>0.988732</td>\n",
       "      <td>1.084617</td>\n",
       "    </tr>\n",
       "    <tr>\n",
       "      <th>2021-12</th>\n",
       "      <td>11</td>\n",
       "      <td>11</td>\n",
       "      <td>11</td>\n",
       "      <td>10066979.31</td>\n",
       "      <td>10161782.27</td>\n",
       "      <td>11074780.32</td>\n",
       "      <td>-483104.87</td>\n",
       "      <td>-545.82</td>\n",
       "      <td>2605082.25</td>\n",
       "      <td>10284437.90</td>\n",
       "      <td>10284437.90</td>\n",
       "      <td>10284437.90</td>\n",
       "      <td>0.978856</td>\n",
       "      <td>0.988074</td>\n",
       "      <td>1.076848</td>\n",
       "    </tr>\n",
       "    <tr>\n",
       "      <th>2022-01</th>\n",
       "      <td>12</td>\n",
       "      <td>12</td>\n",
       "      <td>12</td>\n",
       "      <td>9733908.46</td>\n",
       "      <td>9716626.50</td>\n",
       "      <td>10402344.42</td>\n",
       "      <td>-848315.30</td>\n",
       "      <td>-377730.59</td>\n",
       "      <td>616971.30</td>\n",
       "      <td>9822150.02</td>\n",
       "      <td>9822150.02</td>\n",
       "      <td>9822150.02</td>\n",
       "      <td>0.991016</td>\n",
       "      <td>0.989257</td>\n",
       "      <td>1.059070</td>\n",
       "    </tr>\n",
       "    <tr>\n",
       "      <th>2022-02</th>\n",
       "      <td>13</td>\n",
       "      <td>13</td>\n",
       "      <td>13</td>\n",
       "      <td>5934772.26</td>\n",
       "      <td>5959001.99</td>\n",
       "      <td>6221520.60</td>\n",
       "      <td>-121078.02</td>\n",
       "      <td>102323.34</td>\n",
       "      <td>314986.67</td>\n",
       "      <td>6032999.01</td>\n",
       "      <td>6032999.01</td>\n",
       "      <td>6032999.01</td>\n",
       "      <td>0.983718</td>\n",
       "      <td>0.987735</td>\n",
       "      <td>1.031248</td>\n",
       "    </tr>\n",
       "  </tbody>\n",
       "</table>\n",
       "</div>"
      ],
      "text/plain": [
       "         Unnamed: 0                                 Spot revenue               \\\n",
       "strategy      basic intraday stochastic_programming        basic     intraday   \n",
       "period                                                                          \n",
       "2021-01           0        0                      0   2123695.97   2158699.77   \n",
       "2021-02           1        1                      1   2123221.55   2118859.33   \n",
       "2021-03           2        2                      2   2621309.56   2611501.10   \n",
       "2021-04           3        3                      3   1910185.77   1925449.91   \n",
       "2021-05           4        4                      4   1797217.67   1781628.32   \n",
       "2021-06           5        5                      5   1184314.10   1186556.66   \n",
       "2021-07           6        6                      6   2218984.91   2226951.57   \n",
       "2021-08           7        7                      7   3725220.47   3838655.67   \n",
       "2021-09           8        8                      8   5502440.21   5487804.17   \n",
       "2021-10           9        9                      9   7379265.13   7374755.36   \n",
       "2021-11          10       10                     10   6799567.58   6839491.47   \n",
       "2021-12          11       11                     11  10066979.31  10161782.27   \n",
       "2022-01          12       12                     12   9733908.46   9716626.50   \n",
       "2022-02          13       13                     13   5934772.26   5959001.99   \n",
       "\n",
       "                                Balancing_cost             \\\n",
       "strategy stochastic_programming          basic   intraday   \n",
       "period                                                      \n",
       "2021-01              2528763.83     -108790.87   15493.42   \n",
       "2021-02              2302520.05       31341.70   47402.46   \n",
       "2021-03              2770823.63      -53033.55   29166.59   \n",
       "2021-04              2102575.83      -73846.26  -41366.12   \n",
       "2021-05              1902881.32     -193789.23 -112332.43   \n",
       "2021-06              1401117.52     -139647.46  -58869.96   \n",
       "2021-07              2442175.46       67497.01   76947.19   \n",
       "2021-08              4173386.56     -496686.67 -161767.46   \n",
       "2021-09              5821635.60      207436.77  150036.53   \n",
       "2021-10              7643283.27      -37369.56  142307.93   \n",
       "2021-11              7502772.12     -286956.82    -885.90   \n",
       "2021-12             11074780.32     -483104.87    -545.82   \n",
       "2022-01             10402344.42     -848315.30 -377730.59   \n",
       "2022-02              6221520.60     -121078.02  102323.34   \n",
       "\n",
       "                                Max (perfect forecast) spot revenue  \\\n",
       "strategy stochastic_programming                               basic   \n",
       "period                                                                \n",
       "2021-01               708221.22                          2193107.53   \n",
       "2021-02               203572.82                          2175418.67   \n",
       "2021-03               281548.19                          2655455.87   \n",
       "2021-04               192259.35                          2015695.54   \n",
       "2021-05                93929.66                          1868423.55   \n",
       "2021-06               150820.27                          1248509.45   \n",
       "2021-07               300324.13                          2312166.61   \n",
       "2021-08               597961.84                          3973589.49   \n",
       "2021-09               512641.53                          5546917.69   \n",
       "2021-10               596718.18                          7604991.96   \n",
       "2021-11              1442048.48                          6917440.56   \n",
       "2021-12              2605082.25                         10284437.90   \n",
       "2022-01               616971.30                          9822150.02   \n",
       "2022-02               314986.67                          6032999.01   \n",
       "\n",
       "                                             Percentage_of_optimal            \\\n",
       "strategy     intraday stochastic_programming                 basic  intraday   \n",
       "period                                                                         \n",
       "2021-01    2193107.53             2193107.53              0.968350  0.984311   \n",
       "2021-02    2175418.67             2175418.67              0.976006  0.974001   \n",
       "2021-03    2655455.87             2655455.87              0.987141  0.983447   \n",
       "2021-04    2015695.54             2015695.54              0.947656  0.955229   \n",
       "2021-05    1868423.55             1868423.55              0.961890  0.953546   \n",
       "2021-06    1248509.45             1248509.45              0.948582  0.950379   \n",
       "2021-07    2312166.61             2312166.61              0.959699  0.963145   \n",
       "2021-08    3973589.49             3973589.49              0.937495  0.966042   \n",
       "2021-09    5546917.69             5546917.69              0.991982  0.989343   \n",
       "2021-10    7604991.96             7604991.96              0.970319  0.969726   \n",
       "2021-11    6917440.56             6917440.56              0.982960  0.988732   \n",
       "2021-12   10284437.90            10284437.90              0.978856  0.988074   \n",
       "2022-01    9822150.02             9822150.02              0.991016  0.989257   \n",
       "2022-02    6032999.01             6032999.01              0.983718  0.987735   \n",
       "\n",
       "                                 \n",
       "strategy stochastic_programming  \n",
       "period                           \n",
       "2021-01                1.153051  \n",
       "2021-02                1.058426  \n",
       "2021-03                1.043446  \n",
       "2021-04                1.043102  \n",
       "2021-05                1.018442  \n",
       "2021-06                1.122232  \n",
       "2021-07                1.056228  \n",
       "2021-08                1.050281  \n",
       "2021-09                1.049526  \n",
       "2021-10                1.005035  \n",
       "2021-11                1.084617  \n",
       "2021-12                1.076848  \n",
       "2022-01                1.059070  \n",
       "2022-02                1.031248  "
      ]
     },
     "execution_count": 6,
     "metadata": {},
     "output_type": "execute_result"
    }
   ],
   "source": [
    "df"
   ]
  },
  {
   "cell_type": "code",
   "execution_count": 7,
   "id": "78aed436",
   "metadata": {},
   "outputs": [],
   "source": [
    "# df_results_naive = df_results_naive.set_index(index)"
   ]
  },
  {
   "cell_type": "code",
   "execution_count": 8,
   "id": "7c21ed2f",
   "metadata": {},
   "outputs": [],
   "source": [
    "# basic = (df_results_naive.strategy == 'basic')\n",
    "# basic_res = df_results_naive.loc[basic]\n",
    "# basic_res"
   ]
  },
  {
   "cell_type": "code",
   "execution_count": 9,
   "id": "f42c275d",
   "metadata": {},
   "outputs": [],
   "source": [
    "# intraday = (df_results_naive.strategy == 'intraday')\n",
    "# intraday_res = df_results_naive.loc[intraday]"
   ]
  },
  {
   "cell_type": "code",
   "execution_count": 10,
   "id": "8ad62182",
   "metadata": {},
   "outputs": [],
   "source": [
    "# intraday_res"
   ]
  },
  {
   "cell_type": "code",
   "execution_count": 11,
   "id": "bc2af98b",
   "metadata": {},
   "outputs": [],
   "source": [
    "# stochastic = (df_results_naive.strategy == 'stochastic_programming')\n",
    "# stochastic_res = df_results_naive.loc[stochastic]"
   ]
  },
  {
   "cell_type": "code",
   "execution_count": 12,
   "id": "0b345be7",
   "metadata": {},
   "outputs": [],
   "source": [
    "# fig = plt.figure(figsize=(10, 8))\n",
    "# ax = fig.add_subplot(1, 1, 1)\n",
    "\n",
    "# basic_res.loc[:, 'Percentage_of_optimal'].plot(ax=ax, c='grey', linestyle='--', label='strategy 1')\n",
    "# intraday_res.loc[:, 'Percentage_of_optimal'].plot(ax=ax, c='grey',linestyle='dotted', label='strategy 2')\n",
    "# stochastic_res.loc[:, 'Percentage_of_optimal'].plot(ax=ax, c='grey', label='strategy 3')\n",
    "\n",
    "# # ax.set_xlabel('Period')\n",
    "# ax.set_ylabel('Percentage of optimal')\n",
    "# ax.grid()\n",
    "# ax.legend()\n",
    "# print(ax.get_xlabel())\n",
    "# fig.autofmt_xdate()\n",
    "# ax.set_xlabel = ('')\n",
    "# # ax.xaxis.set_major_locator(mdates.MonthLocator(interval=12))\n",
    "# # plt.savefig('Strategy_perfomance', dpi=300)"
   ]
  },
  {
   "cell_type": "markdown",
   "id": "80018a2c",
   "metadata": {},
   "source": [
    "## Plot Monthly performances"
   ]
  },
  {
   "cell_type": "code",
   "execution_count": 13,
   "id": "69c95c6e",
   "metadata": {},
   "outputs": [
    {
     "data": {
      "image/png": "[encoded data removed]",
      "text/plain": [
       "<Figure size 720x576 with 1 Axes>"
      ]
     },
     "metadata": {
      "needs_background": "light"
     },
     "output_type": "display_data"
    }
   ],
   "source": [
    "fig = plt.figure(figsize=(10, 8))\n",
    "ax = fig.add_subplot(1, 1, 1)\n",
    "df['Spot revenue']['basic'].plot(ax=ax, c='grey', linestyle='--', label='Strategy 1')\n",
    "df['Spot revenue']['intraday'].plot(ax=ax, c='grey',linestyle='dotted', label='Strategy 2')\n",
    "df['Spot revenue']['stochastic_programming'].plot(ax=ax, c='grey', label='Strategy 3')\n",
    "\n",
    "\n",
    "ax.set_title(\"Spot market (Day-Ahead + Intraday) revenues for different strategies\")\n",
    "ax.set_ylabel('Spot market revenue (EUR)')\n",
    "ax.grid()\n",
    "ax.legend()\n",
    "\n",
    "plt.savefig('spot_revenues.png', dpi=300)"
   ]
  },
  {
   "cell_type": "code",
   "execution_count": 14,
   "id": "1705f6a4",
   "metadata": {},
   "outputs": [
    {
     "data": {
      "image/png": "[encoded data removed]",
      "text/plain": [
       "<Figure size 720x576 with 1 Axes>"
      ]
     },
     "metadata": {
      "needs_background": "light"
     },
     "output_type": "display_data"
    }
   ],
   "source": [
    "fig = plt.figure(figsize=(10, 8))\n",
    "ax = fig.add_subplot(1, 1, 1)\n",
    "df['Balancing_cost']['basic'].plot(ax=ax, c='grey', linestyle='--', label='Strategy 1')\n",
    "df['Balancing_cost']['intraday'].plot(ax=ax, c='grey',linestyle='dotted', label='Strategy 2')\n",
    "df['Balancing_cost']['stochastic_programming'].plot(ax=ax, c='grey', label='Strategy 3')\n",
    "\n",
    "\n",
    "ax.set_title(\"Imbalance settlement revenues for different strategies\")\n",
    "ax.set_ylabel('Balancing revenue (EUR)')\n",
    "ax.grid()\n",
    "ax.legend()\n",
    "\n",
    "plt.savefig('balancing_revenues.png', dpi=300)"
   ]
  },
  {
   "cell_type": "code",
   "execution_count": 15,
   "id": "80ed2599",
   "metadata": {},
   "outputs": [
    {
     "data": {
      "image/png": "[encoded data removed]",
      "text/plain": [
       "<Figure size 720x576 with 1 Axes>"
      ]
     },
     "metadata": {
      "needs_background": "light"
     },
     "output_type": "display_data"
    }
   ],
   "source": [
    "fig = plt.figure(figsize=(10, 8))\n",
    "ax = fig.add_subplot(1, 1, 1)\n",
    "df['Percentage_of_optimal']['basic'].plot(ax=ax, c='grey', linestyle='--', label='Strategy 1')\n",
    "df['Percentage_of_optimal']['intraday'].plot(ax=ax, c='grey',linestyle='dotted', label='Strategy 2')\n",
    "df['Percentage_of_optimal']['stochastic_programming'].plot(ax=ax, c='grey', label='Strategy 3')\n",
    "\n",
    "\n",
    "ax.set_title(\"Percentage of perfect forecast revenues\")\n",
    "ax.set_ylabel('Percentage of optimal')\n",
    "ax.grid()\n",
    "ax.legend()\n",
    "\n",
    "plt.savefig('percentages_optimal.png', dpi=300)"
   ]
  },
  {
   "cell_type": "code",
   "execution_count": 16,
   "id": "657a9125",
   "metadata": {},
   "outputs": [
    {
     "data": {
      "image/png": "[encoded data removed]",
      "text/plain": [
       "<Figure size 720x576 with 1 Axes>"
      ]
     },
     "metadata": {
      "needs_background": "light"
     },
     "output_type": "display_data"
    }
   ],
   "source": [
    "fig = plt.figure(figsize=(10, 8))\n",
    "ax = fig.add_subplot(1, 1, 1)\n",
    "(df['Balancing_cost']['basic'] + df['Spot revenue']['basic']).plot(ax=ax, c='grey', linestyle='--', label='Strategy 1')\n",
    "(df['Balancing_cost']['intraday'] + df['Spot revenue']['intraday']).plot(ax=ax, c='grey',linestyle='dotted', label='Strategy 2')\n",
    "(df['Balancing_cost']['stochastic_programming'] + df['Spot revenue']['stochastic_programming']).plot(ax=ax, c='grey', label='Strategy 3')\n",
    "\n",
    "\n",
    "ax.set_title(\"Total revenues for different strategies\")\n",
    "ax.set_ylabel('Total revenue (EUR)')\n",
    "ax.grid()\n",
    "ax.legend()\n",
    "\n",
    "plt.savefig('total_perfomances_plot.png', dpi=300)"
   ]
  },
  {
   "cell_type": "markdown",
   "id": "298700cc",
   "metadata": {},
   "source": [
    "### Spot analysis"
   ]
  },
  {
   "cell_type": "code",
   "execution_count": 17,
   "id": "94caac3d",
   "metadata": {},
   "outputs": [
    {
     "data": {
      "text/html": [
       "<div>\n",
       "<style scoped>\n",
       "    .dataframe tbody tr th:only-of-type {\n",
       "        vertical-align: middle;\n",
       "    }\n",
       "\n",
       "    .dataframe tbody tr th {\n",
       "        vertical-align: top;\n",
       "    }\n",
       "\n",
       "    .dataframe thead th {\n",
       "        text-align: right;\n",
       "    }\n",
       "</style>\n",
       "<table border=\"1\" class=\"dataframe\">\n",
       "  <thead>\n",
       "    <tr style=\"text-align: right;\">\n",
       "      <th>strategy</th>\n",
       "      <th>basic</th>\n",
       "      <th>intraday</th>\n",
       "      <th>stochastic_programming</th>\n",
       "    </tr>\n",
       "  </thead>\n",
       "  <tbody>\n",
       "    <tr>\n",
       "      <th>count</th>\n",
       "      <td>1.400000e+01</td>\n",
       "      <td>1.400000e+01</td>\n",
       "      <td>1.400000e+01</td>\n",
       "    </tr>\n",
       "    <tr>\n",
       "      <th>mean</th>\n",
       "      <td>4.508649e+06</td>\n",
       "      <td>4.527697e+06</td>\n",
       "      <td>4.877899e+06</td>\n",
       "    </tr>\n",
       "    <tr>\n",
       "      <th>std</th>\n",
       "      <td>3.046565e+06</td>\n",
       "      <td>3.056128e+06</td>\n",
       "      <td>3.255943e+06</td>\n",
       "    </tr>\n",
       "    <tr>\n",
       "      <th>min</th>\n",
       "      <td>1.184314e+06</td>\n",
       "      <td>1.186557e+06</td>\n",
       "      <td>1.401118e+06</td>\n",
       "    </tr>\n",
       "    <tr>\n",
       "      <th>25%</th>\n",
       "      <td>2.123340e+06</td>\n",
       "      <td>2.128819e+06</td>\n",
       "      <td>2.337434e+06</td>\n",
       "    </tr>\n",
       "    <tr>\n",
       "      <th>50%</th>\n",
       "      <td>3.173265e+06</td>\n",
       "      <td>3.225078e+06</td>\n",
       "      <td>3.472105e+06</td>\n",
       "    </tr>\n",
       "    <tr>\n",
       "      <th>75%</th>\n",
       "      <td>6.583369e+06</td>\n",
       "      <td>6.619369e+06</td>\n",
       "      <td>7.182459e+06</td>\n",
       "    </tr>\n",
       "    <tr>\n",
       "      <th>max</th>\n",
       "      <td>1.006698e+07</td>\n",
       "      <td>1.016178e+07</td>\n",
       "      <td>1.107478e+07</td>\n",
       "    </tr>\n",
       "  </tbody>\n",
       "</table>\n",
       "</div>"
      ],
      "text/plain": [
       "strategy         basic      intraday  stochastic_programming\n",
       "count     1.400000e+01  1.400000e+01            1.400000e+01\n",
       "mean      4.508649e+06  4.527697e+06            4.877899e+06\n",
       "std       3.046565e+06  3.056128e+06            3.255943e+06\n",
       "min       1.184314e+06  1.186557e+06            1.401118e+06\n",
       "25%       2.123340e+06  2.128819e+06            2.337434e+06\n",
       "50%       3.173265e+06  3.225078e+06            3.472105e+06\n",
       "75%       6.583369e+06  6.619369e+06            7.182459e+06\n",
       "max       1.006698e+07  1.016178e+07            1.107478e+07"
      ]
     },
     "execution_count": 17,
     "metadata": {},
     "output_type": "execute_result"
    }
   ],
   "source": [
    "df['Spot revenue'].describe()"
   ]
  },
  {
   "cell_type": "markdown",
   "id": "44047e7b",
   "metadata": {},
   "source": [
    "**Interpretation:** The intraday performs better"
   ]
  },
  {
   "cell_type": "code",
   "execution_count": 18,
   "id": "aa2fc5df",
   "metadata": {},
   "outputs": [],
   "source": [
    "spot_diff_basic_intra = df['Spot revenue']['basic'] - df['Spot revenue']['intraday']"
   ]
  },
  {
   "cell_type": "code",
   "execution_count": 19,
   "id": "d9530140",
   "metadata": {},
   "outputs": [
    {
     "name": "stdout",
     "output_type": "stream",
     "text": [
      "On average, basic strategy earns -19049 EUR less than intraday on spot markets\n"
     ]
    }
   ],
   "source": [
    "print(f'On average, basic strategy earns {round(spot_diff_basic_intra.mean())} EUR less than intraday on spot markets')"
   ]
  },
  {
   "cell_type": "markdown",
   "id": "728f31e4",
   "metadata": {},
   "source": [
    "### Balancing analysis"
   ]
  },
  {
   "cell_type": "code",
   "execution_count": 20,
   "id": "ac79a8e6",
   "metadata": {},
   "outputs": [
    {
     "data": {
      "text/html": [
       "<div>\n",
       "<style scoped>\n",
       "    .dataframe tbody tr th:only-of-type {\n",
       "        vertical-align: middle;\n",
       "    }\n",
       "\n",
       "    .dataframe tbody tr th {\n",
       "        vertical-align: top;\n",
       "    }\n",
       "\n",
       "    .dataframe thead th {\n",
       "        text-align: right;\n",
       "    }\n",
       "</style>\n",
       "<table border=\"1\" class=\"dataframe\">\n",
       "  <thead>\n",
       "    <tr style=\"text-align: right;\">\n",
       "      <th>strategy</th>\n",
       "      <th>basic</th>\n",
       "      <th>intraday</th>\n",
       "      <th>stochastic_programming</th>\n",
       "    </tr>\n",
       "  </thead>\n",
       "  <tbody>\n",
       "    <tr>\n",
       "      <th>count</th>\n",
       "      <td>14.000000</td>\n",
       "      <td>14.00000</td>\n",
       "      <td>1.400000e+01</td>\n",
       "    </tr>\n",
       "    <tr>\n",
       "      <th>mean</th>\n",
       "      <td>-181167.366429</td>\n",
       "      <td>-13558.63000</td>\n",
       "      <td>6.155061e+05</td>\n",
       "    </tr>\n",
       "    <tr>\n",
       "      <th>std</th>\n",
       "      <td>272361.456073</td>\n",
       "      <td>137718.51381</td>\n",
       "      <td>6.679133e+05</td>\n",
       "    </tr>\n",
       "    <tr>\n",
       "      <th>min</th>\n",
       "      <td>-848315.300000</td>\n",
       "      <td>-377730.59000</td>\n",
       "      <td>9.392966e+04</td>\n",
       "    </tr>\n",
       "    <tr>\n",
       "      <th>25%</th>\n",
       "      <td>-263664.922500</td>\n",
       "      <td>-54494.00000</td>\n",
       "      <td>2.230667e+05</td>\n",
       "    </tr>\n",
       "    <tr>\n",
       "      <th>50%</th>\n",
       "      <td>-114934.445000</td>\n",
       "      <td>7473.80000</td>\n",
       "      <td>4.138141e+05</td>\n",
       "    </tr>\n",
       "    <tr>\n",
       "      <th>75%</th>\n",
       "      <td>-41285.557500</td>\n",
       "      <td>69561.00750</td>\n",
       "      <td>6.122189e+05</td>\n",
       "    </tr>\n",
       "    <tr>\n",
       "      <th>max</th>\n",
       "      <td>207436.770000</td>\n",
       "      <td>150036.53000</td>\n",
       "      <td>2.605082e+06</td>\n",
       "    </tr>\n",
       "  </tbody>\n",
       "</table>\n",
       "</div>"
      ],
      "text/plain": [
       "strategy          basic      intraday  stochastic_programming\n",
       "count         14.000000      14.00000            1.400000e+01\n",
       "mean     -181167.366429  -13558.63000            6.155061e+05\n",
       "std       272361.456073  137718.51381            6.679133e+05\n",
       "min      -848315.300000 -377730.59000            9.392966e+04\n",
       "25%      -263664.922500  -54494.00000            2.230667e+05\n",
       "50%      -114934.445000    7473.80000            4.138141e+05\n",
       "75%       -41285.557500   69561.00750            6.122189e+05\n",
       "max       207436.770000  150036.53000            2.605082e+06"
      ]
     },
     "execution_count": 20,
     "metadata": {},
     "output_type": "execute_result"
    }
   ],
   "source": [
    "df['Balancing_cost'].describe()"
   ]
  },
  {
   "cell_type": "markdown",
   "id": "a8532caa",
   "metadata": {},
   "source": [
    "**Interpretation:** Intraday strategy has the smallest standard deviation, which is expected, since the strategy is designed close the error between actual and forecast and does not attempt counter cyclical behaviour. Stochastic programming, on the other hand has a large standard deviation, which indicates, the common relationship between risk and reward.   \n",
    "\n",
    "What is very suprising, is that the stochastic_programming strategy did not lose (on monthly basis) in any month. The min. is ~9300 EUR balance revenue per month. "
   ]
  },
  {
   "cell_type": "code",
   "execution_count": 21,
   "id": "adf1c18a",
   "metadata": {},
   "outputs": [],
   "source": [
    "balance_diff_basic_intra = df['Balancing_cost']['basic'] - df['Balancing_cost']['intraday']"
   ]
  },
  {
   "cell_type": "code",
   "execution_count": 22,
   "id": "cc291f5f",
   "metadata": {},
   "outputs": [
    {
     "name": "stdout",
     "output_type": "stream",
     "text": [
      "On average, basic strategy earns -167609 EUR less than intraday on balance markets\n"
     ]
    }
   ],
   "source": [
    "print(f'On average, basic strategy earns {round(balance_diff_basic_intra.mean())} EUR less than intraday on balance markets')"
   ]
  },
  {
   "cell_type": "markdown",
   "id": "f4c4f59c",
   "metadata": {},
   "source": [
    "### Totals"
   ]
  },
  {
   "cell_type": "code",
   "execution_count": 23,
   "id": "72abb3be",
   "metadata": {},
   "outputs": [
    {
     "data": {
      "text/html": [
       "<div>\n",
       "<style scoped>\n",
       "    .dataframe tbody tr th:only-of-type {\n",
       "        vertical-align: middle;\n",
       "    }\n",
       "\n",
       "    .dataframe tbody tr th {\n",
       "        vertical-align: top;\n",
       "    }\n",
       "\n",
       "    .dataframe thead th {\n",
       "        text-align: right;\n",
       "    }\n",
       "</style>\n",
       "<table border=\"1\" class=\"dataframe\">\n",
       "  <thead>\n",
       "    <tr style=\"text-align: right;\">\n",
       "      <th>strategy</th>\n",
       "      <th>basic</th>\n",
       "      <th>intraday</th>\n",
       "      <th>stochastic_programming</th>\n",
       "    </tr>\n",
       "  </thead>\n",
       "  <tbody>\n",
       "    <tr>\n",
       "      <th>count</th>\n",
       "      <td>1.400000e+01</td>\n",
       "      <td>1.400000e+01</td>\n",
       "      <td>1.400000e+01</td>\n",
       "    </tr>\n",
       "    <tr>\n",
       "      <th>mean</th>\n",
       "      <td>4.327481e+06</td>\n",
       "      <td>4.514139e+06</td>\n",
       "      <td>5.493405e+06</td>\n",
       "    </tr>\n",
       "    <tr>\n",
       "      <th>std</th>\n",
       "      <td>2.899977e+06</td>\n",
       "      <td>3.035780e+06</td>\n",
       "      <td>3.770943e+06</td>\n",
       "    </tr>\n",
       "    <tr>\n",
       "      <th>min</th>\n",
       "      <td>1.044667e+06</td>\n",
       "      <td>1.127687e+06</td>\n",
       "      <td>1.551938e+06</td>\n",
       "    </tr>\n",
       "    <tr>\n",
       "      <th>25%</th>\n",
       "      <td>2.049820e+06</td>\n",
       "      <td>2.168245e+06</td>\n",
       "      <td>2.565195e+06</td>\n",
       "    </tr>\n",
       "    <tr>\n",
       "      <th>50%</th>\n",
       "      <td>2.898405e+06</td>\n",
       "      <td>3.158778e+06</td>\n",
       "      <td>4.004167e+06</td>\n",
       "    </tr>\n",
       "    <tr>\n",
       "      <th>75%</th>\n",
       "      <td>6.337882e+06</td>\n",
       "      <td>6.644286e+06</td>\n",
       "      <td>7.814128e+06</td>\n",
       "    </tr>\n",
       "    <tr>\n",
       "      <th>max</th>\n",
       "      <td>9.583874e+06</td>\n",
       "      <td>1.016124e+07</td>\n",
       "      <td>1.367986e+07</td>\n",
       "    </tr>\n",
       "  </tbody>\n",
       "</table>\n",
       "</div>"
      ],
      "text/plain": [
       "strategy         basic      intraday  stochastic_programming\n",
       "count     1.400000e+01  1.400000e+01            1.400000e+01\n",
       "mean      4.327481e+06  4.514139e+06            5.493405e+06\n",
       "std       2.899977e+06  3.035780e+06            3.770943e+06\n",
       "min       1.044667e+06  1.127687e+06            1.551938e+06\n",
       "25%       2.049820e+06  2.168245e+06            2.565195e+06\n",
       "50%       2.898405e+06  3.158778e+06            4.004167e+06\n",
       "75%       6.337882e+06  6.644286e+06            7.814128e+06\n",
       "max       9.583874e+06  1.016124e+07            1.367986e+07"
      ]
     },
     "execution_count": 23,
     "metadata": {},
     "output_type": "execute_result"
    }
   ],
   "source": [
    "(df['Balancing_cost']+df['Spot revenue']).describe()"
   ]
  },
  {
   "cell_type": "code",
   "execution_count": 24,
   "id": "f53a90ce",
   "metadata": {},
   "outputs": [
    {
     "data": {
      "text/html": [
       "<div>\n",
       "<style scoped>\n",
       "    .dataframe tbody tr th:only-of-type {\n",
       "        vertical-align: middle;\n",
       "    }\n",
       "\n",
       "    .dataframe tbody tr th {\n",
       "        vertical-align: top;\n",
       "    }\n",
       "\n",
       "    .dataframe thead th {\n",
       "        text-align: right;\n",
       "    }\n",
       "</style>\n",
       "<table border=\"1\" class=\"dataframe\">\n",
       "  <thead>\n",
       "    <tr style=\"text-align: right;\">\n",
       "      <th>strategy</th>\n",
       "      <th>basic</th>\n",
       "      <th>intraday</th>\n",
       "      <th>stochastic_programming</th>\n",
       "    </tr>\n",
       "  </thead>\n",
       "  <tbody>\n",
       "    <tr>\n",
       "      <th>count</th>\n",
       "      <td>1.400000e+01</td>\n",
       "      <td>1.400000e+01</td>\n",
       "      <td>1.400000e+01</td>\n",
       "    </tr>\n",
       "    <tr>\n",
       "      <th>mean</th>\n",
       "      <td>4.617950e+06</td>\n",
       "      <td>4.617950e+06</td>\n",
       "      <td>4.617950e+06</td>\n",
       "    </tr>\n",
       "    <tr>\n",
       "      <th>std</th>\n",
       "      <td>3.080734e+06</td>\n",
       "      <td>3.080734e+06</td>\n",
       "      <td>3.080734e+06</td>\n",
       "    </tr>\n",
       "    <tr>\n",
       "      <th>min</th>\n",
       "      <td>1.248509e+06</td>\n",
       "      <td>1.248509e+06</td>\n",
       "      <td>1.248509e+06</td>\n",
       "    </tr>\n",
       "    <tr>\n",
       "      <th>25%</th>\n",
       "      <td>2.179841e+06</td>\n",
       "      <td>2.179841e+06</td>\n",
       "      <td>2.179841e+06</td>\n",
       "    </tr>\n",
       "    <tr>\n",
       "      <th>50%</th>\n",
       "      <td>3.314523e+06</td>\n",
       "      <td>3.314523e+06</td>\n",
       "      <td>3.314523e+06</td>\n",
       "    </tr>\n",
       "    <tr>\n",
       "      <th>75%</th>\n",
       "      <td>6.696330e+06</td>\n",
       "      <td>6.696330e+06</td>\n",
       "      <td>6.696330e+06</td>\n",
       "    </tr>\n",
       "    <tr>\n",
       "      <th>max</th>\n",
       "      <td>1.028444e+07</td>\n",
       "      <td>1.028444e+07</td>\n",
       "      <td>1.028444e+07</td>\n",
       "    </tr>\n",
       "  </tbody>\n",
       "</table>\n",
       "</div>"
      ],
      "text/plain": [
       "strategy         basic      intraday  stochastic_programming\n",
       "count     1.400000e+01  1.400000e+01            1.400000e+01\n",
       "mean      4.617950e+06  4.617950e+06            4.617950e+06\n",
       "std       3.080734e+06  3.080734e+06            3.080734e+06\n",
       "min       1.248509e+06  1.248509e+06            1.248509e+06\n",
       "25%       2.179841e+06  2.179841e+06            2.179841e+06\n",
       "50%       3.314523e+06  3.314523e+06            3.314523e+06\n",
       "75%       6.696330e+06  6.696330e+06            6.696330e+06\n",
       "max       1.028444e+07  1.028444e+07            1.028444e+07"
      ]
     },
     "execution_count": 24,
     "metadata": {},
     "output_type": "execute_result"
    }
   ],
   "source": [
    "df['Max (perfect forecast) spot revenue'].describe()"
   ]
  },
  {
   "cell_type": "code",
   "execution_count": 25,
   "id": "f71a5983",
   "metadata": {},
   "outputs": [],
   "source": [
    "diff_basic_intra = (df['Balancing_cost']['basic'] + df['Spot revenue']['basic']) -\\\n",
    "                    (df['Balancing_cost']['intraday']+df['Spot revenue']['intraday'])"
   ]
  },
  {
   "cell_type": "code",
   "execution_count": 26,
   "id": "7c4289ee",
   "metadata": {},
   "outputs": [
    {
     "name": "stdout",
     "output_type": "stream",
     "text": [
      "On average, basic strategy earns -186657 EUR less than on balance markets\n"
     ]
    }
   ],
   "source": [
    "print(f'On average, basic strategy earns {round(diff_basic_intra.mean())} EUR less than on balance markets')"
   ]
  },
  {
   "cell_type": "code",
   "execution_count": null,
   "id": "55ec167f",
   "metadata": {},
   "outputs": [],
   "source": []
  },
  {
   "cell_type": "markdown",
   "id": "987a6f08",
   "metadata": {},
   "source": [
    "## Results with ARIMA"
   ]
  },
  {
   "cell_type": "code",
   "execution_count": 27,
   "id": "abebafb6",
   "metadata": {},
   "outputs": [],
   "source": [
    "df_results_arima = pd.read_excel('../../data/imbalance_strategy/full_case_study/results/total_results_arima.xlsx')\n",
    "df_results_arima = df_results_arima.groupby(['period', 'strategy']).sum()\n",
    "df = df_results_arima.unstack()"
   ]
  },
  {
   "cell_type": "code",
   "execution_count": 28,
   "id": "fe721408",
   "metadata": {},
   "outputs": [
    {
     "data": {
      "text/html": [
       "<div>\n",
       "<style scoped>\n",
       "    .dataframe tbody tr th:only-of-type {\n",
       "        vertical-align: middle;\n",
       "    }\n",
       "\n",
       "    .dataframe tbody tr th {\n",
       "        vertical-align: top;\n",
       "    }\n",
       "\n",
       "    .dataframe thead tr th {\n",
       "        text-align: left;\n",
       "    }\n",
       "\n",
       "    .dataframe thead tr:last-of-type th {\n",
       "        text-align: right;\n",
       "    }\n",
       "</style>\n",
       "<table border=\"1\" class=\"dataframe\">\n",
       "  <thead>\n",
       "    <tr>\n",
       "      <th></th>\n",
       "      <th colspan=\"3\" halign=\"left\">Unnamed: 0</th>\n",
       "      <th colspan=\"3\" halign=\"left\">Spot revenue</th>\n",
       "      <th colspan=\"3\" halign=\"left\">Balancing_cost</th>\n",
       "      <th colspan=\"3\" halign=\"left\">Max (perfect forecast) spot revenue</th>\n",
       "      <th colspan=\"3\" halign=\"left\">Percentage_of_optimal</th>\n",
       "    </tr>\n",
       "    <tr>\n",
       "      <th>strategy</th>\n",
       "      <th>basic</th>\n",
       "      <th>intraday</th>\n",
       "      <th>stochastic_programming</th>\n",
       "      <th>basic</th>\n",
       "      <th>intraday</th>\n",
       "      <th>stochastic_programming</th>\n",
       "      <th>basic</th>\n",
       "      <th>intraday</th>\n",
       "      <th>stochastic_programming</th>\n",
       "      <th>basic</th>\n",
       "      <th>intraday</th>\n",
       "      <th>stochastic_programming</th>\n",
       "      <th>basic</th>\n",
       "      <th>intraday</th>\n",
       "      <th>stochastic_programming</th>\n",
       "    </tr>\n",
       "    <tr>\n",
       "      <th>period</th>\n",
       "      <th></th>\n",
       "      <th></th>\n",
       "      <th></th>\n",
       "      <th></th>\n",
       "      <th></th>\n",
       "      <th></th>\n",
       "      <th></th>\n",
       "      <th></th>\n",
       "      <th></th>\n",
       "      <th></th>\n",
       "      <th></th>\n",
       "      <th></th>\n",
       "      <th></th>\n",
       "      <th></th>\n",
       "      <th></th>\n",
       "    </tr>\n",
       "  </thead>\n",
       "  <tbody>\n",
       "    <tr>\n",
       "      <th>2021-01</th>\n",
       "      <td>0</td>\n",
       "      <td>0</td>\n",
       "      <td>0</td>\n",
       "      <td>2123695.97</td>\n",
       "      <td>2158699.77</td>\n",
       "      <td>2461503.29</td>\n",
       "      <td>-108790.87</td>\n",
       "      <td>15493.42</td>\n",
       "      <td>556399.67</td>\n",
       "      <td>2193107.53</td>\n",
       "      <td>2193107.53</td>\n",
       "      <td>2193107.53</td>\n",
       "      <td>0.968350</td>\n",
       "      <td>0.984311</td>\n",
       "      <td>1.122381</td>\n",
       "    </tr>\n",
       "    <tr>\n",
       "      <th>2021-02</th>\n",
       "      <td>1</td>\n",
       "      <td>1</td>\n",
       "      <td>1</td>\n",
       "      <td>2123221.55</td>\n",
       "      <td>2118859.33</td>\n",
       "      <td>2271671.60</td>\n",
       "      <td>31341.70</td>\n",
       "      <td>47402.46</td>\n",
       "      <td>145346.23</td>\n",
       "      <td>2175418.67</td>\n",
       "      <td>2175418.67</td>\n",
       "      <td>2175418.67</td>\n",
       "      <td>0.976006</td>\n",
       "      <td>0.974001</td>\n",
       "      <td>1.044246</td>\n",
       "    </tr>\n",
       "    <tr>\n",
       "      <th>2021-03</th>\n",
       "      <td>2</td>\n",
       "      <td>2</td>\n",
       "      <td>2</td>\n",
       "      <td>2621309.56</td>\n",
       "      <td>2611501.10</td>\n",
       "      <td>2738411.07</td>\n",
       "      <td>-53033.55</td>\n",
       "      <td>29166.59</td>\n",
       "      <td>214815.39</td>\n",
       "      <td>2655455.87</td>\n",
       "      <td>2655455.87</td>\n",
       "      <td>2655455.87</td>\n",
       "      <td>0.987141</td>\n",
       "      <td>0.983447</td>\n",
       "      <td>1.031240</td>\n",
       "    </tr>\n",
       "    <tr>\n",
       "      <th>2021-04</th>\n",
       "      <td>3</td>\n",
       "      <td>3</td>\n",
       "      <td>3</td>\n",
       "      <td>1910185.77</td>\n",
       "      <td>1925449.91</td>\n",
       "      <td>2077633.80</td>\n",
       "      <td>-73846.26</td>\n",
       "      <td>-41366.12</td>\n",
       "      <td>156478.08</td>\n",
       "      <td>2015695.54</td>\n",
       "      <td>2015695.54</td>\n",
       "      <td>2015695.54</td>\n",
       "      <td>0.947656</td>\n",
       "      <td>0.955229</td>\n",
       "      <td>1.030728</td>\n",
       "    </tr>\n",
       "    <tr>\n",
       "      <th>2021-05</th>\n",
       "      <td>4</td>\n",
       "      <td>4</td>\n",
       "      <td>4</td>\n",
       "      <td>1797217.67</td>\n",
       "      <td>1781628.32</td>\n",
       "      <td>1893473.51</td>\n",
       "      <td>-193789.23</td>\n",
       "      <td>-112332.43</td>\n",
       "      <td>58196.85</td>\n",
       "      <td>1868423.55</td>\n",
       "      <td>1868423.55</td>\n",
       "      <td>1868423.55</td>\n",
       "      <td>0.961890</td>\n",
       "      <td>0.953546</td>\n",
       "      <td>1.013407</td>\n",
       "    </tr>\n",
       "    <tr>\n",
       "      <th>2021-06</th>\n",
       "      <td>5</td>\n",
       "      <td>5</td>\n",
       "      <td>5</td>\n",
       "      <td>1184314.10</td>\n",
       "      <td>1186556.66</td>\n",
       "      <td>1357626.30</td>\n",
       "      <td>-139647.46</td>\n",
       "      <td>-58869.96</td>\n",
       "      <td>120618.94</td>\n",
       "      <td>1248509.45</td>\n",
       "      <td>1248509.45</td>\n",
       "      <td>1248509.45</td>\n",
       "      <td>0.948582</td>\n",
       "      <td>0.950379</td>\n",
       "      <td>1.087398</td>\n",
       "    </tr>\n",
       "    <tr>\n",
       "      <th>2021-07</th>\n",
       "      <td>6</td>\n",
       "      <td>6</td>\n",
       "      <td>6</td>\n",
       "      <td>2218984.91</td>\n",
       "      <td>2226951.57</td>\n",
       "      <td>2394122.54</td>\n",
       "      <td>67497.01</td>\n",
       "      <td>76947.19</td>\n",
       "      <td>244659.12</td>\n",
       "      <td>2312166.61</td>\n",
       "      <td>2312166.61</td>\n",
       "      <td>2312166.61</td>\n",
       "      <td>0.959699</td>\n",
       "      <td>0.963145</td>\n",
       "      <td>1.035446</td>\n",
       "    </tr>\n",
       "    <tr>\n",
       "      <th>2021-08</th>\n",
       "      <td>7</td>\n",
       "      <td>7</td>\n",
       "      <td>7</td>\n",
       "      <td>3725220.47</td>\n",
       "      <td>3838655.67</td>\n",
       "      <td>4109194.21</td>\n",
       "      <td>-496686.67</td>\n",
       "      <td>-161767.46</td>\n",
       "      <td>395705.10</td>\n",
       "      <td>3973589.49</td>\n",
       "      <td>3973589.49</td>\n",
       "      <td>3973589.49</td>\n",
       "      <td>0.937495</td>\n",
       "      <td>0.966042</td>\n",
       "      <td>1.034127</td>\n",
       "    </tr>\n",
       "    <tr>\n",
       "      <th>2021-09</th>\n",
       "      <td>8</td>\n",
       "      <td>8</td>\n",
       "      <td>8</td>\n",
       "      <td>5502440.21</td>\n",
       "      <td>5487804.17</td>\n",
       "      <td>5758501.00</td>\n",
       "      <td>207436.77</td>\n",
       "      <td>150036.53</td>\n",
       "      <td>411262.88</td>\n",
       "      <td>5546917.69</td>\n",
       "      <td>5546917.69</td>\n",
       "      <td>5546917.69</td>\n",
       "      <td>0.991982</td>\n",
       "      <td>0.989343</td>\n",
       "      <td>1.038144</td>\n",
       "    </tr>\n",
       "    <tr>\n",
       "      <th>2021-10</th>\n",
       "      <td>9</td>\n",
       "      <td>9</td>\n",
       "      <td>9</td>\n",
       "      <td>7379265.13</td>\n",
       "      <td>7374755.36</td>\n",
       "      <td>7603927.18</td>\n",
       "      <td>-37369.56</td>\n",
       "      <td>142307.93</td>\n",
       "      <td>489288.62</td>\n",
       "      <td>7604991.96</td>\n",
       "      <td>7604991.96</td>\n",
       "      <td>7604991.96</td>\n",
       "      <td>0.970319</td>\n",
       "      <td>0.969726</td>\n",
       "      <td>0.999860</td>\n",
       "    </tr>\n",
       "    <tr>\n",
       "      <th>2021-11</th>\n",
       "      <td>10</td>\n",
       "      <td>10</td>\n",
       "      <td>10</td>\n",
       "      <td>6799567.58</td>\n",
       "      <td>6839491.47</td>\n",
       "      <td>7371899.85</td>\n",
       "      <td>-286956.82</td>\n",
       "      <td>-885.90</td>\n",
       "      <td>1102914.51</td>\n",
       "      <td>6917440.56</td>\n",
       "      <td>6917440.56</td>\n",
       "      <td>6917440.56</td>\n",
       "      <td>0.982960</td>\n",
       "      <td>0.988732</td>\n",
       "      <td>1.065698</td>\n",
       "    </tr>\n",
       "    <tr>\n",
       "      <th>2021-12</th>\n",
       "      <td>11</td>\n",
       "      <td>11</td>\n",
       "      <td>11</td>\n",
       "      <td>10066979.31</td>\n",
       "      <td>10161782.27</td>\n",
       "      <td>10909401.43</td>\n",
       "      <td>-483104.87</td>\n",
       "      <td>-545.82</td>\n",
       "      <td>2022336.17</td>\n",
       "      <td>10284437.90</td>\n",
       "      <td>10284437.90</td>\n",
       "      <td>10284437.90</td>\n",
       "      <td>0.978856</td>\n",
       "      <td>0.988074</td>\n",
       "      <td>1.060768</td>\n",
       "    </tr>\n",
       "    <tr>\n",
       "      <th>2022-01</th>\n",
       "      <td>12</td>\n",
       "      <td>12</td>\n",
       "      <td>12</td>\n",
       "      <td>9733908.46</td>\n",
       "      <td>9716626.50</td>\n",
       "      <td>10244609.03</td>\n",
       "      <td>-848315.30</td>\n",
       "      <td>-377730.59</td>\n",
       "      <td>346109.20</td>\n",
       "      <td>9822150.02</td>\n",
       "      <td>9822150.02</td>\n",
       "      <td>9822150.02</td>\n",
       "      <td>0.991016</td>\n",
       "      <td>0.989257</td>\n",
       "      <td>1.043011</td>\n",
       "    </tr>\n",
       "    <tr>\n",
       "      <th>2022-02</th>\n",
       "      <td>13</td>\n",
       "      <td>13</td>\n",
       "      <td>13</td>\n",
       "      <td>5934772.26</td>\n",
       "      <td>5959001.99</td>\n",
       "      <td>6185990.75</td>\n",
       "      <td>-121078.02</td>\n",
       "      <td>102323.34</td>\n",
       "      <td>266577.99</td>\n",
       "      <td>6032999.01</td>\n",
       "      <td>6032999.01</td>\n",
       "      <td>6032999.01</td>\n",
       "      <td>0.983718</td>\n",
       "      <td>0.987735</td>\n",
       "      <td>1.025359</td>\n",
       "    </tr>\n",
       "  </tbody>\n",
       "</table>\n",
       "</div>"
      ],
      "text/plain": [
       "         Unnamed: 0                                 Spot revenue               \\\n",
       "strategy      basic intraday stochastic_programming        basic     intraday   \n",
       "period                                                                          \n",
       "2021-01           0        0                      0   2123695.97   2158699.77   \n",
       "2021-02           1        1                      1   2123221.55   2118859.33   \n",
       "2021-03           2        2                      2   2621309.56   2611501.10   \n",
       "2021-04           3        3                      3   1910185.77   1925449.91   \n",
       "2021-05           4        4                      4   1797217.67   1781628.32   \n",
       "2021-06           5        5                      5   1184314.10   1186556.66   \n",
       "2021-07           6        6                      6   2218984.91   2226951.57   \n",
       "2021-08           7        7                      7   3725220.47   3838655.67   \n",
       "2021-09           8        8                      8   5502440.21   5487804.17   \n",
       "2021-10           9        9                      9   7379265.13   7374755.36   \n",
       "2021-11          10       10                     10   6799567.58   6839491.47   \n",
       "2021-12          11       11                     11  10066979.31  10161782.27   \n",
       "2022-01          12       12                     12   9733908.46   9716626.50   \n",
       "2022-02          13       13                     13   5934772.26   5959001.99   \n",
       "\n",
       "                                Balancing_cost             \\\n",
       "strategy stochastic_programming          basic   intraday   \n",
       "period                                                      \n",
       "2021-01              2461503.29     -108790.87   15493.42   \n",
       "2021-02              2271671.60       31341.70   47402.46   \n",
       "2021-03              2738411.07      -53033.55   29166.59   \n",
       "2021-04              2077633.80      -73846.26  -41366.12   \n",
       "2021-05              1893473.51     -193789.23 -112332.43   \n",
       "2021-06              1357626.30     -139647.46  -58869.96   \n",
       "2021-07              2394122.54       67497.01   76947.19   \n",
       "2021-08              4109194.21     -496686.67 -161767.46   \n",
       "2021-09              5758501.00      207436.77  150036.53   \n",
       "2021-10              7603927.18      -37369.56  142307.93   \n",
       "2021-11              7371899.85     -286956.82    -885.90   \n",
       "2021-12             10909401.43     -483104.87    -545.82   \n",
       "2022-01             10244609.03     -848315.30 -377730.59   \n",
       "2022-02              6185990.75     -121078.02  102323.34   \n",
       "\n",
       "                                Max (perfect forecast) spot revenue  \\\n",
       "strategy stochastic_programming                               basic   \n",
       "period                                                                \n",
       "2021-01               556399.67                          2193107.53   \n",
       "2021-02               145346.23                          2175418.67   \n",
       "2021-03               214815.39                          2655455.87   \n",
       "2021-04               156478.08                          2015695.54   \n",
       "2021-05                58196.85                          1868423.55   \n",
       "2021-06               120618.94                          1248509.45   \n",
       "2021-07               244659.12                          2312166.61   \n",
       "2021-08               395705.10                          3973589.49   \n",
       "2021-09               411262.88                          5546917.69   \n",
       "2021-10               489288.62                          7604991.96   \n",
       "2021-11              1102914.51                          6917440.56   \n",
       "2021-12              2022336.17                         10284437.90   \n",
       "2022-01               346109.20                          9822150.02   \n",
       "2022-02               266577.99                          6032999.01   \n",
       "\n",
       "                                             Percentage_of_optimal            \\\n",
       "strategy     intraday stochastic_programming                 basic  intraday   \n",
       "period                                                                         \n",
       "2021-01    2193107.53             2193107.53              0.968350  0.984311   \n",
       "2021-02    2175418.67             2175418.67              0.976006  0.974001   \n",
       "2021-03    2655455.87             2655455.87              0.987141  0.983447   \n",
       "2021-04    2015695.54             2015695.54              0.947656  0.955229   \n",
       "2021-05    1868423.55             1868423.55              0.961890  0.953546   \n",
       "2021-06    1248509.45             1248509.45              0.948582  0.950379   \n",
       "2021-07    2312166.61             2312166.61              0.959699  0.963145   \n",
       "2021-08    3973589.49             3973589.49              0.937495  0.966042   \n",
       "2021-09    5546917.69             5546917.69              0.991982  0.989343   \n",
       "2021-10    7604991.96             7604991.96              0.970319  0.969726   \n",
       "2021-11    6917440.56             6917440.56              0.982960  0.988732   \n",
       "2021-12   10284437.90            10284437.90              0.978856  0.988074   \n",
       "2022-01    9822150.02             9822150.02              0.991016  0.989257   \n",
       "2022-02    6032999.01             6032999.01              0.983718  0.987735   \n",
       "\n",
       "                                 \n",
       "strategy stochastic_programming  \n",
       "period                           \n",
       "2021-01                1.122381  \n",
       "2021-02                1.044246  \n",
       "2021-03                1.031240  \n",
       "2021-04                1.030728  \n",
       "2021-05                1.013407  \n",
       "2021-06                1.087398  \n",
       "2021-07                1.035446  \n",
       "2021-08                1.034127  \n",
       "2021-09                1.038144  \n",
       "2021-10                0.999860  \n",
       "2021-11                1.065698  \n",
       "2021-12                1.060768  \n",
       "2022-01                1.043011  \n",
       "2022-02                1.025359  "
      ]
     },
     "execution_count": 28,
     "metadata": {},
     "output_type": "execute_result"
    }
   ],
   "source": [
    "df"
   ]
  },
  {
   "cell_type": "code",
   "execution_count": 29,
   "id": "a45251b4",
   "metadata": {},
   "outputs": [
    {
     "data": {
      "text/plain": [
       "<matplotlib.legend.Legend at 0x7fe240dbffa0>"
      ]
     },
     "execution_count": 29,
     "metadata": {},
     "output_type": "execute_result"
    },
    {
     "data": {
      "image/png": "[encoded data removed]",
      "text/plain": [
       "<Figure size 720x576 with 1 Axes>"
      ]
     },
     "metadata": {
      "needs_background": "light"
     },
     "output_type": "display_data"
    }
   ],
   "source": [
    "fig = plt.figure(figsize=(10, 8))\n",
    "ax = fig.add_subplot(1, 1, 1)\n",
    "df['Spot revenue']['basic'].plot(ax=ax, c='grey', linestyle='--', label='Strategy 1')\n",
    "df['Spot revenue']['intraday'].plot(ax=ax, c='grey',linestyle='dotted', label='Strategy 2')\n",
    "df['Spot revenue']['stochastic_programming'].plot(ax=ax, c='grey', label='Strategy 3')\n",
    "\n",
    "\n",
    "ax.set_title(\"Spot market (Day-Ahead + Intraday) revenues for different strategies\")\n",
    "ax.set_ylabel('Spot market revenue (EUR)')\n",
    "ax.grid()\n",
    "ax.legend()\n"
   ]
  },
  {
   "cell_type": "code",
   "execution_count": 30,
   "id": "d6fa0d1c",
   "metadata": {},
   "outputs": [
    {
     "data": {
      "text/plain": [
       "<matplotlib.legend.Legend at 0x7fe240d7fdc0>"
      ]
     },
     "execution_count": 30,
     "metadata": {},
     "output_type": "execute_result"
    },
    {
     "data": {
      "image/png": "[encoded data removed]",
      "text/plain": [
       "<Figure size 720x576 with 1 Axes>"
      ]
     },
     "metadata": {
      "needs_background": "light"
     },
     "output_type": "display_data"
    }
   ],
   "source": [
    "fig = plt.figure(figsize=(10, 8))\n",
    "ax = fig.add_subplot(1, 1, 1)\n",
    "df['Balancing_cost']['basic'].plot(ax=ax, c='grey', linestyle='--', label='Strategy 1')\n",
    "df['Balancing_cost']['intraday'].plot(ax=ax, c='grey',linestyle='dotted', label='Strategy 2')\n",
    "df['Balancing_cost']['stochastic_programming'].plot(ax=ax, c='grey', label='Strategy 3')\n",
    "\n",
    "\n",
    "ax.set_title(\"Imbalance settlement revenues for different strategies\")\n",
    "ax.set_ylabel('Balancing revenue (EUR)')\n",
    "ax.grid()\n",
    "ax.legend()"
   ]
  },
  {
   "cell_type": "code",
   "execution_count": 31,
   "id": "476aab45",
   "metadata": {},
   "outputs": [
    {
     "data": {
      "text/plain": [
       "<matplotlib.legend.Legend at 0x7fe240d02700>"
      ]
     },
     "execution_count": 31,
     "metadata": {},
     "output_type": "execute_result"
    },
    {
     "data": {
      "image/png": "[encoded data removed]",
      "text/plain": [
       "<Figure size 720x576 with 1 Axes>"
      ]
     },
     "metadata": {
      "needs_background": "light"
     },
     "output_type": "display_data"
    }
   ],
   "source": [
    "fig = plt.figure(figsize=(10, 8))\n",
    "ax = fig.add_subplot(1, 1, 1)\n",
    "df['Percentage_of_optimal']['basic'].plot(ax=ax, c='grey', linestyle='--', label='Strategy 1')\n",
    "df['Percentage_of_optimal']['intraday'].plot(ax=ax, c='grey',linestyle='dotted', label='Strategy 2')\n",
    "df['Percentage_of_optimal']['stochastic_programming'].plot(ax=ax, c='grey', label='Strategy 3')\n",
    "\n",
    "\n",
    "ax.set_title(\"Percentage of perfect forecast revenues\")\n",
    "ax.set_ylabel('Percentage of optimal')\n",
    "ax.grid()\n",
    "ax.legend()"
   ]
  },
  {
   "cell_type": "code",
   "execution_count": 32,
   "id": "21c6d8b6",
   "metadata": {},
   "outputs": [
    {
     "data": {
      "text/plain": [
       "<matplotlib.legend.Legend at 0x7fe240c15520>"
      ]
     },
     "execution_count": 32,
     "metadata": {},
     "output_type": "execute_result"
    },
    {
     "data": {
      "image/png": "[encoded data removed]",
      "text/plain": [
       "<Figure size 720x576 with 1 Axes>"
      ]
     },
     "metadata": {
      "needs_background": "light"
     },
     "output_type": "display_data"
    }
   ],
   "source": [
    "fig = plt.figure(figsize=(10, 8))\n",
    "ax = fig.add_subplot(1, 1, 1)\n",
    "(df['Balancing_cost']['basic'] + df['Spot revenue']['basic']).plot(ax=ax, c='grey', linestyle='--', label='Strategy 1')\n",
    "(df['Balancing_cost']['intraday'] + df['Spot revenue']['intraday']).plot(ax=ax, c='grey',linestyle='dotted', label='Strategy 2')\n",
    "(df['Balancing_cost']['stochastic_programming'] + df['Spot revenue']['stochastic_programming']).plot(ax=ax, c='grey', label='Strategy 3')\n",
    "\n",
    "\n",
    "ax.set_title(\"Total revenues for different strategies\")\n",
    "ax.set_ylabel('Total revenue (EUR)')\n",
    "ax.grid()\n",
    "ax.legend()"
   ]
  },
  {
   "cell_type": "code",
   "execution_count": 33,
   "id": "007218e9",
   "metadata": {},
   "outputs": [
    {
     "data": {
      "text/html": [
       "<div>\n",
       "<style scoped>\n",
       "    .dataframe tbody tr th:only-of-type {\n",
       "        vertical-align: middle;\n",
       "    }\n",
       "\n",
       "    .dataframe tbody tr th {\n",
       "        vertical-align: top;\n",
       "    }\n",
       "\n",
       "    .dataframe thead th {\n",
       "        text-align: right;\n",
       "    }\n",
       "</style>\n",
       "<table border=\"1\" class=\"dataframe\">\n",
       "  <thead>\n",
       "    <tr style=\"text-align: right;\">\n",
       "      <th>strategy</th>\n",
       "      <th>basic</th>\n",
       "      <th>intraday</th>\n",
       "      <th>stochastic_programming</th>\n",
       "    </tr>\n",
       "  </thead>\n",
       "  <tbody>\n",
       "    <tr>\n",
       "      <th>count</th>\n",
       "      <td>1.400000e+01</td>\n",
       "      <td>1.400000e+01</td>\n",
       "      <td>1.400000e+01</td>\n",
       "    </tr>\n",
       "    <tr>\n",
       "      <th>mean</th>\n",
       "      <td>4.508649e+06</td>\n",
       "      <td>4.527697e+06</td>\n",
       "      <td>4.812712e+06</td>\n",
       "    </tr>\n",
       "    <tr>\n",
       "      <th>std</th>\n",
       "      <td>3.046565e+06</td>\n",
       "      <td>3.056128e+06</td>\n",
       "      <td>3.214970e+06</td>\n",
       "    </tr>\n",
       "    <tr>\n",
       "      <th>min</th>\n",
       "      <td>1.184314e+06</td>\n",
       "      <td>1.186557e+06</td>\n",
       "      <td>1.357626e+06</td>\n",
       "    </tr>\n",
       "    <tr>\n",
       "      <th>25%</th>\n",
       "      <td>2.123340e+06</td>\n",
       "      <td>2.128819e+06</td>\n",
       "      <td>2.302284e+06</td>\n",
       "    </tr>\n",
       "    <tr>\n",
       "      <th>50%</th>\n",
       "      <td>3.173265e+06</td>\n",
       "      <td>3.225078e+06</td>\n",
       "      <td>3.423803e+06</td>\n",
       "    </tr>\n",
       "    <tr>\n",
       "      <th>75%</th>\n",
       "      <td>6.583369e+06</td>\n",
       "      <td>6.619369e+06</td>\n",
       "      <td>7.075423e+06</td>\n",
       "    </tr>\n",
       "    <tr>\n",
       "      <th>max</th>\n",
       "      <td>1.006698e+07</td>\n",
       "      <td>1.016178e+07</td>\n",
       "      <td>1.090940e+07</td>\n",
       "    </tr>\n",
       "  </tbody>\n",
       "</table>\n",
       "</div>"
      ],
      "text/plain": [
       "strategy         basic      intraday  stochastic_programming\n",
       "count     1.400000e+01  1.400000e+01            1.400000e+01\n",
       "mean      4.508649e+06  4.527697e+06            4.812712e+06\n",
       "std       3.046565e+06  3.056128e+06            3.214970e+06\n",
       "min       1.184314e+06  1.186557e+06            1.357626e+06\n",
       "25%       2.123340e+06  2.128819e+06            2.302284e+06\n",
       "50%       3.173265e+06  3.225078e+06            3.423803e+06\n",
       "75%       6.583369e+06  6.619369e+06            7.075423e+06\n",
       "max       1.006698e+07  1.016178e+07            1.090940e+07"
      ]
     },
     "execution_count": 33,
     "metadata": {},
     "output_type": "execute_result"
    }
   ],
   "source": [
    "df['Spot revenue'].describe()"
   ]
  },
  {
   "cell_type": "code",
   "execution_count": 34,
   "id": "ac095c80",
   "metadata": {},
   "outputs": [
    {
     "data": {
      "text/html": [
       "<div>\n",
       "<style scoped>\n",
       "    .dataframe tbody tr th:only-of-type {\n",
       "        vertical-align: middle;\n",
       "    }\n",
       "\n",
       "    .dataframe tbody tr th {\n",
       "        vertical-align: top;\n",
       "    }\n",
       "\n",
       "    .dataframe thead th {\n",
       "        text-align: right;\n",
       "    }\n",
       "</style>\n",
       "<table border=\"1\" class=\"dataframe\">\n",
       "  <thead>\n",
       "    <tr style=\"text-align: right;\">\n",
       "      <th>strategy</th>\n",
       "      <th>basic</th>\n",
       "      <th>intraday</th>\n",
       "      <th>stochastic_programming</th>\n",
       "    </tr>\n",
       "  </thead>\n",
       "  <tbody>\n",
       "    <tr>\n",
       "      <th>count</th>\n",
       "      <td>14.000000</td>\n",
       "      <td>14.00000</td>\n",
       "      <td>1.400000e+01</td>\n",
       "    </tr>\n",
       "    <tr>\n",
       "      <th>mean</th>\n",
       "      <td>-181167.366429</td>\n",
       "      <td>-13558.63000</td>\n",
       "      <td>4.664792e+05</td>\n",
       "    </tr>\n",
       "    <tr>\n",
       "      <th>std</th>\n",
       "      <td>272361.456073</td>\n",
       "      <td>137718.51381</td>\n",
       "      <td>5.184988e+05</td>\n",
       "    </tr>\n",
       "    <tr>\n",
       "      <th>min</th>\n",
       "      <td>-848315.300000</td>\n",
       "      <td>-377730.59000</td>\n",
       "      <td>5.819685e+04</td>\n",
       "    </tr>\n",
       "    <tr>\n",
       "      <th>25%</th>\n",
       "      <td>-263664.922500</td>\n",
       "      <td>-54494.00000</td>\n",
       "      <td>1.710624e+05</td>\n",
       "    </tr>\n",
       "    <tr>\n",
       "      <th>50%</th>\n",
       "      <td>-114934.445000</td>\n",
       "      <td>7473.80000</td>\n",
       "      <td>3.063436e+05</td>\n",
       "    </tr>\n",
       "    <tr>\n",
       "      <th>75%</th>\n",
       "      <td>-41285.557500</td>\n",
       "      <td>69561.00750</td>\n",
       "      <td>4.697822e+05</td>\n",
       "    </tr>\n",
       "    <tr>\n",
       "      <th>max</th>\n",
       "      <td>207436.770000</td>\n",
       "      <td>150036.53000</td>\n",
       "      <td>2.022336e+06</td>\n",
       "    </tr>\n",
       "  </tbody>\n",
       "</table>\n",
       "</div>"
      ],
      "text/plain": [
       "strategy          basic      intraday  stochastic_programming\n",
       "count         14.000000      14.00000            1.400000e+01\n",
       "mean     -181167.366429  -13558.63000            4.664792e+05\n",
       "std       272361.456073  137718.51381            5.184988e+05\n",
       "min      -848315.300000 -377730.59000            5.819685e+04\n",
       "25%      -263664.922500  -54494.00000            1.710624e+05\n",
       "50%      -114934.445000    7473.80000            3.063436e+05\n",
       "75%       -41285.557500   69561.00750            4.697822e+05\n",
       "max       207436.770000  150036.53000            2.022336e+06"
      ]
     },
     "execution_count": 34,
     "metadata": {},
     "output_type": "execute_result"
    }
   ],
   "source": [
    "df['Balancing_cost'].describe()"
   ]
  },
  {
   "cell_type": "code",
   "execution_count": 35,
   "id": "7bd18399",
   "metadata": {},
   "outputs": [],
   "source": [
    "spot_diff_basic_intra = df['Spot revenue']['basic'] - df['Spot revenue']['intraday']"
   ]
  },
  {
   "cell_type": "code",
   "execution_count": 36,
   "id": "694facb3",
   "metadata": {},
   "outputs": [
    {
     "data": {
      "text/html": [
       "<div>\n",
       "<style scoped>\n",
       "    .dataframe tbody tr th:only-of-type {\n",
       "        vertical-align: middle;\n",
       "    }\n",
       "\n",
       "    .dataframe tbody tr th {\n",
       "        vertical-align: top;\n",
       "    }\n",
       "\n",
       "    .dataframe thead th {\n",
       "        text-align: right;\n",
       "    }\n",
       "</style>\n",
       "<table border=\"1\" class=\"dataframe\">\n",
       "  <thead>\n",
       "    <tr style=\"text-align: right;\">\n",
       "      <th>strategy</th>\n",
       "      <th>basic</th>\n",
       "      <th>intraday</th>\n",
       "      <th>stochastic_programming</th>\n",
       "    </tr>\n",
       "  </thead>\n",
       "  <tbody>\n",
       "    <tr>\n",
       "      <th>count</th>\n",
       "      <td>1.400000e+01</td>\n",
       "      <td>1.400000e+01</td>\n",
       "      <td>1.400000e+01</td>\n",
       "    </tr>\n",
       "    <tr>\n",
       "      <th>mean</th>\n",
       "      <td>4.327481e+06</td>\n",
       "      <td>4.514139e+06</td>\n",
       "      <td>5.279191e+06</td>\n",
       "    </tr>\n",
       "    <tr>\n",
       "      <th>std</th>\n",
       "      <td>2.899977e+06</td>\n",
       "      <td>3.035780e+06</td>\n",
       "      <td>3.596509e+06</td>\n",
       "    </tr>\n",
       "    <tr>\n",
       "      <th>min</th>\n",
       "      <td>1.044667e+06</td>\n",
       "      <td>1.127687e+06</td>\n",
       "      <td>1.478245e+06</td>\n",
       "    </tr>\n",
       "    <tr>\n",
       "      <th>25%</th>\n",
       "      <td>2.049820e+06</td>\n",
       "      <td>2.168245e+06</td>\n",
       "      <td>2.472459e+06</td>\n",
       "    </tr>\n",
       "    <tr>\n",
       "      <th>50%</th>\n",
       "      <td>2.898405e+06</td>\n",
       "      <td>3.158778e+06</td>\n",
       "      <td>3.761401e+06</td>\n",
       "    </tr>\n",
       "    <tr>\n",
       "      <th>75%</th>\n",
       "      <td>6.337882e+06</td>\n",
       "      <td>6.644286e+06</td>\n",
       "      <td>7.683054e+06</td>\n",
       "    </tr>\n",
       "    <tr>\n",
       "      <th>max</th>\n",
       "      <td>9.583874e+06</td>\n",
       "      <td>1.016124e+07</td>\n",
       "      <td>1.293174e+07</td>\n",
       "    </tr>\n",
       "  </tbody>\n",
       "</table>\n",
       "</div>"
      ],
      "text/plain": [
       "strategy         basic      intraday  stochastic_programming\n",
       "count     1.400000e+01  1.400000e+01            1.400000e+01\n",
       "mean      4.327481e+06  4.514139e+06            5.279191e+06\n",
       "std       2.899977e+06  3.035780e+06            3.596509e+06\n",
       "min       1.044667e+06  1.127687e+06            1.478245e+06\n",
       "25%       2.049820e+06  2.168245e+06            2.472459e+06\n",
       "50%       2.898405e+06  3.158778e+06            3.761401e+06\n",
       "75%       6.337882e+06  6.644286e+06            7.683054e+06\n",
       "max       9.583874e+06  1.016124e+07            1.293174e+07"
      ]
     },
     "execution_count": 36,
     "metadata": {},
     "output_type": "execute_result"
    }
   ],
   "source": [
    "(df['Balancing_cost']+df['Spot revenue']).describe()"
   ]
  },
  {
   "cell_type": "markdown",
   "id": "d9b1601c",
   "metadata": {},
   "source": [
    "## Results with lower asymmetry multiplier"
   ]
  },
  {
   "cell_type": "code",
   "execution_count": 37,
   "id": "c1bd49c3",
   "metadata": {},
   "outputs": [],
   "source": [
    "df_results_arima = pd.read_excel('../../data/imbalance_strategy/full_case_study/results/total_results_arima_multiplier0.1.xlsx')\n",
    "df_results_arima = df_results_arima.groupby(['period', 'strategy']).sum()\n",
    "df = df_results_arima.unstack()"
   ]
  },
  {
   "cell_type": "code",
   "execution_count": 38,
   "id": "4709480e",
   "metadata": {},
   "outputs": [
    {
     "data": {
      "text/html": [
       "<div>\n",
       "<style scoped>\n",
       "    .dataframe tbody tr th:only-of-type {\n",
       "        vertical-align: middle;\n",
       "    }\n",
       "\n",
       "    .dataframe tbody tr th {\n",
       "        vertical-align: top;\n",
       "    }\n",
       "\n",
       "    .dataframe thead th {\n",
       "        text-align: right;\n",
       "    }\n",
       "</style>\n",
       "<table border=\"1\" class=\"dataframe\">\n",
       "  <thead>\n",
       "    <tr style=\"text-align: right;\">\n",
       "      <th>strategy</th>\n",
       "      <th>basic</th>\n",
       "      <th>intraday</th>\n",
       "      <th>stochastic_programming</th>\n",
       "    </tr>\n",
       "  </thead>\n",
       "  <tbody>\n",
       "    <tr>\n",
       "      <th>count</th>\n",
       "      <td>1.400000e+01</td>\n",
       "      <td>1.400000e+01</td>\n",
       "      <td>1.400000e+01</td>\n",
       "    </tr>\n",
       "    <tr>\n",
       "      <th>mean</th>\n",
       "      <td>4.508649e+06</td>\n",
       "      <td>4.527697e+06</td>\n",
       "      <td>4.713517e+06</td>\n",
       "    </tr>\n",
       "    <tr>\n",
       "      <th>std</th>\n",
       "      <td>3.046565e+06</td>\n",
       "      <td>3.056128e+06</td>\n",
       "      <td>3.168876e+06</td>\n",
       "    </tr>\n",
       "    <tr>\n",
       "      <th>min</th>\n",
       "      <td>1.184314e+06</td>\n",
       "      <td>1.186557e+06</td>\n",
       "      <td>1.281658e+06</td>\n",
       "    </tr>\n",
       "    <tr>\n",
       "      <th>25%</th>\n",
       "      <td>2.123340e+06</td>\n",
       "      <td>2.128819e+06</td>\n",
       "      <td>2.238482e+06</td>\n",
       "    </tr>\n",
       "    <tr>\n",
       "      <th>50%</th>\n",
       "      <td>3.173265e+06</td>\n",
       "      <td>3.225078e+06</td>\n",
       "      <td>3.351474e+06</td>\n",
       "    </tr>\n",
       "    <tr>\n",
       "      <th>75%</th>\n",
       "      <td>6.583369e+06</td>\n",
       "      <td>6.619369e+06</td>\n",
       "      <td>6.936205e+06</td>\n",
       "    </tr>\n",
       "    <tr>\n",
       "      <th>max</th>\n",
       "      <td>1.006698e+07</td>\n",
       "      <td>1.016178e+07</td>\n",
       "      <td>1.071296e+07</td>\n",
       "    </tr>\n",
       "  </tbody>\n",
       "</table>\n",
       "</div>"
      ],
      "text/plain": [
       "strategy         basic      intraday  stochastic_programming\n",
       "count     1.400000e+01  1.400000e+01            1.400000e+01\n",
       "mean      4.508649e+06  4.527697e+06            4.713517e+06\n",
       "std       3.046565e+06  3.056128e+06            3.168876e+06\n",
       "min       1.184314e+06  1.186557e+06            1.281658e+06\n",
       "25%       2.123340e+06  2.128819e+06            2.238482e+06\n",
       "50%       3.173265e+06  3.225078e+06            3.351474e+06\n",
       "75%       6.583369e+06  6.619369e+06            6.936205e+06\n",
       "max       1.006698e+07  1.016178e+07            1.071296e+07"
      ]
     },
     "execution_count": 38,
     "metadata": {},
     "output_type": "execute_result"
    }
   ],
   "source": [
    "df['Spot revenue'].describe()"
   ]
  },
  {
   "cell_type": "code",
   "execution_count": 39,
   "id": "1a20264a",
   "metadata": {},
   "outputs": [
    {
     "data": {
      "text/html": [
       "<div>\n",
       "<style scoped>\n",
       "    .dataframe tbody tr th:only-of-type {\n",
       "        vertical-align: middle;\n",
       "    }\n",
       "\n",
       "    .dataframe tbody tr th {\n",
       "        vertical-align: top;\n",
       "    }\n",
       "\n",
       "    .dataframe thead th {\n",
       "        text-align: right;\n",
       "    }\n",
       "</style>\n",
       "<table border=\"1\" class=\"dataframe\">\n",
       "  <thead>\n",
       "    <tr style=\"text-align: right;\">\n",
       "      <th>strategy</th>\n",
       "      <th>basic</th>\n",
       "      <th>intraday</th>\n",
       "      <th>stochastic_programming</th>\n",
       "    </tr>\n",
       "  </thead>\n",
       "  <tbody>\n",
       "    <tr>\n",
       "      <th>count</th>\n",
       "      <td>14.000000</td>\n",
       "      <td>14.00000</td>\n",
       "      <td>1.400000e+01</td>\n",
       "    </tr>\n",
       "    <tr>\n",
       "      <th>mean</th>\n",
       "      <td>-181167.366429</td>\n",
       "      <td>-13558.63000</td>\n",
       "      <td>3.657956e+05</td>\n",
       "    </tr>\n",
       "    <tr>\n",
       "      <th>std</th>\n",
       "      <td>272361.456073</td>\n",
       "      <td>137718.51381</td>\n",
       "      <td>3.858781e+05</td>\n",
       "    </tr>\n",
       "    <tr>\n",
       "      <th>min</th>\n",
       "      <td>-848315.300000</td>\n",
       "      <td>-377730.59000</td>\n",
       "      <td>3.231257e+04</td>\n",
       "    </tr>\n",
       "    <tr>\n",
       "      <th>25%</th>\n",
       "      <td>-263664.922500</td>\n",
       "      <td>-54494.00000</td>\n",
       "      <td>1.416342e+05</td>\n",
       "    </tr>\n",
       "    <tr>\n",
       "      <th>50%</th>\n",
       "      <td>-114934.445000</td>\n",
       "      <td>7473.80000</td>\n",
       "      <td>2.592673e+05</td>\n",
       "    </tr>\n",
       "    <tr>\n",
       "      <th>75%</th>\n",
       "      <td>-41285.557500</td>\n",
       "      <td>69561.00750</td>\n",
       "      <td>4.043974e+05</td>\n",
       "    </tr>\n",
       "    <tr>\n",
       "      <th>max</th>\n",
       "      <td>207436.770000</td>\n",
       "      <td>150036.53000</td>\n",
       "      <td>1.519733e+06</td>\n",
       "    </tr>\n",
       "  </tbody>\n",
       "</table>\n",
       "</div>"
      ],
      "text/plain": [
       "strategy          basic      intraday  stochastic_programming\n",
       "count         14.000000      14.00000            1.400000e+01\n",
       "mean     -181167.366429  -13558.63000            3.657956e+05\n",
       "std       272361.456073  137718.51381            3.858781e+05\n",
       "min      -848315.300000 -377730.59000            3.231257e+04\n",
       "25%      -263664.922500  -54494.00000            1.416342e+05\n",
       "50%      -114934.445000    7473.80000            2.592673e+05\n",
       "75%       -41285.557500   69561.00750            4.043974e+05\n",
       "max       207436.770000  150036.53000            1.519733e+06"
      ]
     },
     "execution_count": 39,
     "metadata": {},
     "output_type": "execute_result"
    }
   ],
   "source": [
    "df['Balancing_cost'].describe()"
   ]
  },
  {
   "cell_type": "code",
   "execution_count": 40,
   "id": "a5e604ec",
   "metadata": {},
   "outputs": [
    {
     "data": {
      "text/html": [
       "<div>\n",
       "<style scoped>\n",
       "    .dataframe tbody tr th:only-of-type {\n",
       "        vertical-align: middle;\n",
       "    }\n",
       "\n",
       "    .dataframe tbody tr th {\n",
       "        vertical-align: top;\n",
       "    }\n",
       "\n",
       "    .dataframe thead th {\n",
       "        text-align: right;\n",
       "    }\n",
       "</style>\n",
       "<table border=\"1\" class=\"dataframe\">\n",
       "  <thead>\n",
       "    <tr style=\"text-align: right;\">\n",
       "      <th>strategy</th>\n",
       "      <th>basic</th>\n",
       "      <th>intraday</th>\n",
       "      <th>stochastic_programming</th>\n",
       "    </tr>\n",
       "  </thead>\n",
       "  <tbody>\n",
       "    <tr>\n",
       "      <th>count</th>\n",
       "      <td>1.400000e+01</td>\n",
       "      <td>1.400000e+01</td>\n",
       "      <td>1.400000e+01</td>\n",
       "    </tr>\n",
       "    <tr>\n",
       "      <th>mean</th>\n",
       "      <td>4.327481e+06</td>\n",
       "      <td>4.514139e+06</td>\n",
       "      <td>5.079313e+06</td>\n",
       "    </tr>\n",
       "    <tr>\n",
       "      <th>std</th>\n",
       "      <td>2.899977e+06</td>\n",
       "      <td>3.035780e+06</td>\n",
       "      <td>3.442959e+06</td>\n",
       "    </tr>\n",
       "    <tr>\n",
       "      <th>min</th>\n",
       "      <td>1.044667e+06</td>\n",
       "      <td>1.127687e+06</td>\n",
       "      <td>1.394925e+06</td>\n",
       "    </tr>\n",
       "    <tr>\n",
       "      <th>25%</th>\n",
       "      <td>2.049820e+06</td>\n",
       "      <td>2.168245e+06</td>\n",
       "      <td>2.399753e+06</td>\n",
       "    </tr>\n",
       "    <tr>\n",
       "      <th>50%</th>\n",
       "      <td>2.898405e+06</td>\n",
       "      <td>3.158778e+06</td>\n",
       "      <td>3.573177e+06</td>\n",
       "    </tr>\n",
       "    <tr>\n",
       "      <th>75%</th>\n",
       "      <td>6.337882e+06</td>\n",
       "      <td>6.644286e+06</td>\n",
       "      <td>7.558115e+06</td>\n",
       "    </tr>\n",
       "    <tr>\n",
       "      <th>max</th>\n",
       "      <td>9.583874e+06</td>\n",
       "      <td>1.016124e+07</td>\n",
       "      <td>1.223270e+07</td>\n",
       "    </tr>\n",
       "  </tbody>\n",
       "</table>\n",
       "</div>"
      ],
      "text/plain": [
       "strategy         basic      intraday  stochastic_programming\n",
       "count     1.400000e+01  1.400000e+01            1.400000e+01\n",
       "mean      4.327481e+06  4.514139e+06            5.079313e+06\n",
       "std       2.899977e+06  3.035780e+06            3.442959e+06\n",
       "min       1.044667e+06  1.127687e+06            1.394925e+06\n",
       "25%       2.049820e+06  2.168245e+06            2.399753e+06\n",
       "50%       2.898405e+06  3.158778e+06            3.573177e+06\n",
       "75%       6.337882e+06  6.644286e+06            7.558115e+06\n",
       "max       9.583874e+06  1.016124e+07            1.223270e+07"
      ]
     },
     "execution_count": 40,
     "metadata": {},
     "output_type": "execute_result"
    }
   ],
   "source": [
    "(df['Balancing_cost']+df['Spot revenue']).describe()"
   ]
  },
  {
   "cell_type": "markdown",
   "id": "1ad557f5",
   "metadata": {},
   "source": [
    "## Analysis of the individual decisions"
   ]
  },
  {
   "cell_type": "code",
   "execution_count": 45,
   "id": "68ce639e",
   "metadata": {},
   "outputs": [],
   "source": [
    "df_decisions = pd.read_excel('../../src/optimization_backtesting/stochastic_strategy_decisions_asymmetry=0.1.xlsx')\n",
    "df_decisions.drop('Unnamed: 0', inplace=True, axis=1)"
   ]
  },
  {
   "cell_type": "code",
   "execution_count": 47,
   "id": "eae15e59",
   "metadata": {},
   "outputs": [
    {
     "data": {
      "text/plain": [
       "<AxesSubplot:>"
      ]
     },
     "execution_count": 47,
     "metadata": {},
     "output_type": "execute_result"
    },
    {
     "data": {
      "image/png": "[encoded data removed]",
      "text/plain": [
       "<Figure size 432x288 with 1 Axes>"
      ]
     },
     "metadata": {
      "needs_background": "light"
     },
     "output_type": "display_data"
    }
   ],
   "source": [
    "df_decisions.optimal_quantile.hist()"
   ]
  },
  {
   "cell_type": "code",
   "execution_count": 51,
   "id": "83911232",
   "metadata": {},
   "outputs": [
    {
     "data": {
      "text/plain": [
       "optimal_quantile     0.833660\n",
       "optimal_position    90.502893\n",
       "Name: 0.7, dtype: float64"
      ]
     },
     "execution_count": 51,
     "metadata": {},
     "output_type": "execute_result"
    }
   ],
   "source": [
    "df_decisions.quantile(0.7)"
   ]
  },
  {
   "cell_type": "code",
   "execution_count": 48,
   "id": "7416914d",
   "metadata": {},
   "outputs": [
    {
     "data": {
      "text/plain": [
       "<AxesSubplot:>"
      ]
     },
     "execution_count": 48,
     "metadata": {},
     "output_type": "execute_result"
    },
    {
     "data": {
      "image/png": "[encoded data removed]",
      "text/plain": [
       "<Figure size 432x288 with 1 Axes>"
      ]
     },
     "metadata": {
      "needs_background": "light"
     },
     "output_type": "display_data"
    }
   ],
   "source": [
    "df_decisions.optimal_position.hist()"
   ]
  },
  {
   "cell_type": "markdown",
   "id": "85d9b6a8",
   "metadata": {},
   "source": [
    "## Calculation of EVPI\n",
    "\n",
    "In order to know, how much economic value does the imbalance forecast have, we evaluate, what is the difference in  100% accurate forecasts and naive-forecast 2h ahead about the imbalance price, so the \"Perfect forecast\" is used in conjunction with optimization logic.\n",
    "\n",
    "Define EVPI as \n",
    "$$EVPI = WS - RC$$\n",
    "\n",
    "where WS - wait and see, RC - Recourse\n",
    "\n",
    "We are interested also in percentage terms \n",
    "$$EVPI(\\%) = \\frac{WS-RC}{RC}$$ "
   ]
  },
  {
   "cell_type": "code",
   "execution_count": 3,
   "id": "4a6db13e",
   "metadata": {},
   "outputs": [],
   "source": [
    "df_results_perfect = pd.read_excel('../../src/optimization_backtesting/total_results_perfect_information_asymmetry0.4.xlsx')\n",
    "df_results_perfect = df_results_perfect.groupby(['period', 'strategy']).sum()\n",
    "df = df_results_perfect.unstack()"
   ]
  },
  {
   "cell_type": "code",
   "execution_count": 16,
   "id": "37935633",
   "metadata": {},
   "outputs": [
    {
     "data": {
      "image/png": "[encoded data removed]",
      "text/plain": [
       "<Figure size 432x288 with 1 Axes>"
      ]
     },
     "metadata": {
      "needs_background": "light"
     },
     "output_type": "display_data"
    }
   ],
   "source": [
    "totals = []\n",
    "\n",
    "asymmetry_multipliers = [0.1, 0.2, 0.3, 0.4]\n",
    "\n",
    "for mul in asymmetry_multipliers:\n",
    "    df_results_perfect = pd.read_excel(f'../../src/optimization_backtesting/total_results_perfect_information_asymmetry{str(mul)}.xlsx')\n",
    "    df_results_perfect = df_results_perfect.groupby(['period', 'strategy']).sum()\n",
    "    df = df_results_perfect.unstack()\n",
    "\n",
    "    total=df['Balancing_cost']+df['Spot revenue']\n",
    "    plt.plot(total['stochastic_programming'], label=mul)\n",
    "    plt.legend()\n",
    "    totals.append(total['stochastic_programming'])"
   ]
  },
  {
   "cell_type": "code",
   "execution_count": 37,
   "id": "cd868da9",
   "metadata": {},
   "outputs": [
    {
     "name": "stdout",
     "output_type": "stream",
     "text": [
      "The mean revenue in month with perfect imbalance forecast=6157315.154285714\n"
     ]
    }
   ],
   "source": [
    "df_results_perfect = pd.read_excel(f'../../src/optimization_backtesting/total_results_perfect_information_asymmetry0.2.xlsx')\n",
    "df_results_perfect = df_results_perfect.groupby(['period', 'strategy']).sum()\n",
    "df = df_results_perfect.unstack()\n",
    "\n",
    "total_perfect=df['Balancing_cost']+df['Spot revenue']\n",
    "print(f'The mean revenue in month with perfect imbalance forecast={total_perfect[\"stochastic_programming\"].mean()}')"
   ]
  },
  {
   "cell_type": "code",
   "execution_count": 38,
   "id": "62a17316",
   "metadata": {},
   "outputs": [
    {
     "name": "stdout",
     "output_type": "stream",
     "text": [
      "The mean revenue in month with naive imbalance forecast=5442899.396428571\n"
     ]
    }
   ],
   "source": [
    "df_results_naive = pd.read_excel(f'../../src/optimization_backtesting/total_results_naive_asymmetry0.2.xlsx')\n",
    "df_results_naive = df_results_naive.groupby(['period', 'strategy']).sum()\n",
    "df = df_results_naive.unstack()\n",
    "\n",
    "total_naive=df['Balancing_cost']+df['Spot revenue']\n",
    "print(f'The mean revenue in month with naive imbalance forecast={total_naive[\"stochastic_programming\"].mean()}')"
   ]
  },
  {
   "cell_type": "code",
   "execution_count": 39,
   "id": "35449ce8",
   "metadata": {},
   "outputs": [
    {
     "name": "stdout",
     "output_type": "stream",
     "text": [
      "The mean revenue in month with arima imbalance forecast=5231332.245\n"
     ]
    }
   ],
   "source": [
    "df_results_arima = pd.read_excel(f'../../src/optimization_backtesting/total_results_arima_asymmetry0.2.xlsx')\n",
    "df_results_arima = df_results_arima.groupby(['period', 'strategy']).sum()\n",
    "df = df_results_arima.unstack()\n",
    "\n",
    "total_arima=df['Balancing_cost']+df['Spot revenue']\n",
    "print(f'The mean revenue in month with arima imbalance forecast={total_arima[\"stochastic_programming\"].mean()}')"
   ]
  },
  {
   "cell_type": "code",
   "execution_count": 40,
   "id": "3633ff7f",
   "metadata": {},
   "outputs": [],
   "source": [
    "evpi = total_perfect-total_naive"
   ]
  },
  {
   "cell_type": "code",
   "execution_count": 45,
   "id": "14b9d1be",
   "metadata": {},
   "outputs": [
    {
     "data": {
      "image/png": "[encoded data removed]",
      "text/plain": [
       "<Figure size 432x288 with 1 Axes>"
      ]
     },
     "metadata": {
      "needs_background": "light"
     },
     "output_type": "display_data"
    }
   ],
   "source": [
    "evpi['stochastic_programming'].plot(c='grey', label='EVPI')\n",
    "\n",
    "plt.grid()\n",
    "plt.ylabel('Expected added value from perfect information')\n",
    "plt.legend()\n",
    "plt.tight_layout()\n",
    "plt.savefig('EVPI_monthly.png', pad_inches=0.2, dpi=300)"
   ]
  },
  {
   "cell_type": "code",
   "execution_count": 46,
   "id": "73c9bb98",
   "metadata": {},
   "outputs": [
    {
     "data": {
      "text/plain": [
       "strategy\n",
       "basic                          0.000000\n",
       "intraday                       0.000000\n",
       "stochastic_programming    714415.757857\n",
       "dtype: float64"
      ]
     },
     "execution_count": 46,
     "metadata": {},
     "output_type": "execute_result"
    }
   ],
   "source": [
    "evpi.mean()"
   ]
  },
  {
   "cell_type": "code",
   "execution_count": 53,
   "id": "86ffb136",
   "metadata": {},
   "outputs": [
    {
     "name": "stdout",
     "output_type": "stream",
     "text": [
      "The percentage of my model by adding perfect forecast is  13.125646936004658%\n"
     ]
    }
   ],
   "source": [
    "print(f\"The percentage of my model by adding perfect forecast is  {(evpi['stochastic_programming'].mean() / total_naive['stochastic_programming'].mean())*100}%\")"
   ]
  },
  {
   "cell_type": "markdown",
   "id": "ec80b6e0",
   "metadata": {},
   "source": [
    "## VSS - Value of stochastic solution\n",
    "\n",
    "It would be easier in terms of modelling, to replace random variable with expected value. In our case, the random variable is $\\alpha$ and if we replace it with expected value, we get deterministic model.\n",
    "\n",
    "Now, the expected value solution can be compared to the stochastic modelling solution\n",
    "\n",
    "To calculate the VSS\n",
    "$$VSS = SP - DP$$\n",
    "\n",
    "DP - Deterministic program  \n",
    "SP - Stochastic program  "
   ]
  },
  {
   "cell_type": "code",
   "execution_count": 54,
   "id": "ab89136b",
   "metadata": {},
   "outputs": [
    {
     "name": "stdout",
     "output_type": "stream",
     "text": [
      "The mean revenue in month with expected value program=4747755.419285715\n"
     ]
    }
   ],
   "source": [
    "df_deterministic = pd.read_excel(f'../../src/optimization_backtesting/total_results_deterministic.xlsx')\n",
    "df_deterministic = df_deterministic.groupby(['period', 'strategy']).sum()\n",
    "df = df_deterministic.unstack()\n",
    "\n",
    "total_deterministic=df['Balancing_cost']+df['Spot revenue']\n",
    "print(f'The mean revenue in month with expected value program={total_deterministic[\"stochastic_programming\"].mean()}')"
   ]
  },
  {
   "cell_type": "code",
   "execution_count": 58,
   "id": "23902f8c",
   "metadata": {},
   "outputs": [
    {
     "name": "stdout",
     "output_type": "stream",
     "text": [
      "The mean revenue in month with naive imbalance forecast=5442899.396428571\n"
     ]
    }
   ],
   "source": [
    "df_results_stochastic = pd.read_excel(f'../../src/optimization_backtesting/total_results_naive_asymmetry0.2.xlsx')\n",
    "df_results_stochastic = df_results_stochastic.groupby(['period', 'strategy']).sum()\n",
    "df = df_results_stochastic.unstack()\n",
    "\n",
    "total_stochastic=df['Balancing_cost']+df['Spot revenue']\n",
    "print(f'The mean revenue in month with naive imbalance forecast={total_stochastic[\"stochastic_programming\"].mean()}')"
   ]
  },
  {
   "cell_type": "code",
   "execution_count": 59,
   "id": "f97cab7c",
   "metadata": {},
   "outputs": [
    {
     "data": {
      "image/png": "[encoded data removed]",
      "text/plain": [
       "<Figure size 432x288 with 1 Axes>"
      ]
     },
     "metadata": {
      "needs_background": "light"
     },
     "output_type": "display_data"
    }
   ],
   "source": [
    "vss = total_stochastic - total_deterministic\n",
    "vss['stochastic_programming'].plot(c='grey', label='VSS')\n",
    "\n",
    "plt.grid()\n",
    "plt.ylabel('Value of stochastic solution')\n",
    "plt.legend()\n",
    "plt.tight_layout()\n",
    "plt.savefig('VSS_monthly.png', pad_inches=0.2, dpi=300)"
   ]
  },
  {
   "cell_type": "markdown",
   "id": "ba8cd874",
   "metadata": {},
   "source": [
    "Since the november-december period is strongly different, we use median as value for central tendency"
   ]
  },
  {
   "cell_type": "code",
   "execution_count": 66,
   "id": "4906f0fc",
   "metadata": {},
   "outputs": [
    {
     "data": {
      "text/plain": [
       "strategy\n",
       "basic                          0.000000\n",
       "intraday                       0.000000\n",
       "stochastic_programming    695143.977143\n",
       "dtype: float64"
      ]
     },
     "execution_count": 66,
     "metadata": {},
     "output_type": "execute_result"
    }
   ],
   "source": [
    "vss.mean()"
   ]
  },
  {
   "cell_type": "code",
   "execution_count": 69,
   "id": "96a92f7f",
   "metadata": {},
   "outputs": [
    {
     "name": "stdout",
     "output_type": "stream",
     "text": [
      "The stochastic solution increases value from expected value solution by 8.113350541084792%\n"
     ]
    }
   ],
   "source": [
    "print(f\"The stochastic solution increases value from expected value solution by {(vss['stochastic_programming'].median() / total_deterministic['stochastic_programming'].mean())*100}%\")"
   ]
  },
  {
   "cell_type": "code",
   "execution_count": 70,
   "id": "ae084481",
   "metadata": {},
   "outputs": [
    {
     "name": "stdout",
     "output_type": "stream",
     "text": [
      "The stochastic solution increases value from expected value solution by 14.641528801570814%\n"
     ]
    }
   ],
   "source": [
    "print(f\"The stochastic solution increases value from expected value solution by {(vss['stochastic_programming'].mean() / total_deterministic['stochastic_programming'].mean())*100}%\")"
   ]
  },
  {
   "cell_type": "markdown",
   "id": "08c1c2e4",
   "metadata": {},
   "source": [
    "---"
   ]
  },
  {
   "cell_type": "code",
   "execution_count": null,
   "id": "18221f0e",
   "metadata": {},
   "outputs": [],
   "source": []
  },
  {
   "cell_type": "code",
   "execution_count": null,
   "id": "e590499f",
   "metadata": {},
   "outputs": [],
   "source": [
    "ax=df_results_naive.unstack(level=0).plot(subplots=True, rot=0, figsize=(9, 7), layout=(1, 3))"
   ]
  },
  {
   "cell_type": "code",
   "execution_count": null,
   "id": "af5fd5a1",
   "metadata": {},
   "outputs": [],
   "source": [
    "df_results_naive = pd.read_excel('../data/imbalance_strategy/full_case_study/results/total_results_naive.xlsx')\n",
    "df_results_naive = df_results_naive.groupby(['period', 'strategy'])"
   ]
  },
  {
   "cell_type": "code",
   "execution_count": null,
   "id": "13e3b185",
   "metadata": {},
   "outputs": [],
   "source": [
    "df_results_naive = df_results_naive.sum().drop('Unnamed: 0', axis=1)"
   ]
  },
  {
   "cell_type": "code",
   "execution_count": null,
   "id": "e45007e9",
   "metadata": {},
   "outputs": [],
   "source": [
    "df_results_naive.unstack().plot(kind='bar', subplots=True, layout=(14, 3), figsize=(29, 27))\n",
    "plt.show()"
   ]
  },
  {
   "cell_type": "code",
   "execution_count": null,
   "id": "e6e4c37c",
   "metadata": {},
   "outputs": [],
   "source": [
    "df_results_naive.unstack().plot(kind='line', subplots=True, layout=(14, 3), figsize=(29, 27))\n",
    "plt.show()"
   ]
  },
  {
   "cell_type": "code",
   "execution_count": null,
   "id": "3b17eb18",
   "metadata": {},
   "outputs": [],
   "source": [
    "ax=df_results_naive.sum().unstack(level=0).plot(subplots=True, rot=0, figsize=(9, 7), layout=(24, 3))"
   ]
  },
  {
   "cell_type": "code",
   "execution_count": null,
   "id": "02d67da1",
   "metadata": {},
   "outputs": [],
   "source": []
  }
 ],
 "metadata": {
  "kernelspec": {
   "display_name": "Python 3 (ipykernel)",
   "language": "python",
   "name": "python3"
  },
  "language_info": {
   "codemirror_mode": {
    "name": "ipython",
    "version": 3
   },
   "file_extension": ".py",
   "mimetype": "text/x-python",
   "name": "python",
   "nbconvert_exporter": "python",
   "pygments_lexer": "ipython3",
   "version": "3.9.7"
  }
 },
 "nbformat": 4,
 "nbformat_minor": 5
}
