{
 "cells": [
  {
   "cell_type": "markdown",
   "id": "ad73eea3",
   "metadata": {},
   "source": [
    "# System imbalance forecasting\n",
    "\n",
    "Evaluate different forecasts. How accurate are they on different time horizons and how well does the accuracy translate into economic variables.  \n",
    "\n",
    "This analysis also answers the research question **Which prediction methods obtain the most accurate result for 2h before delivery prediction of imbalance price?**\n",
    "\n",
    "**Is the complexity of deep learning methods justified?**"
   ]
  },
  {
   "cell_type": "markdown",
   "id": "b6c5ece5",
   "metadata": {},
   "source": [
    "**Used materials in analysis:**    \n",
    "https://faculty.washington.edu/ezivot/econ584/notes/unitroot.pdf  \n",
    "https://www.digitalocean.com/community/tutorials/a-guide-to-time-series-forecasting-with-arima-in-python-3  \n",
    "Hyndman, R.J., & Athanasopoulos, G. (2018) Forecasting: principles and practice, 2nd edition, OTexts: Melbourne, Australia. OTexts.com/fpp2. Accessed on 10.04.2022  \n",
    "https://www.statsmodels.org/stable/tsa.html  "
   ]
  },
  {
   "cell_type": "code",
   "execution_count": 1,
   "id": "bf7398a1",
   "metadata": {},
   "outputs": [
    {
     "name": "stderr",
     "output_type": "stream",
     "text": [
      "/home/da5id/anaconda3/lib/python3.9/site-packages/statsmodels/tsa/base/tsa_model.py:7: FutureWarning: pandas.Int64Index is deprecated and will be removed from pandas in a future version. Use pandas.Index with the appropriate dtype instead.\n",
      "  from pandas import (to_datetime, Int64Index, DatetimeIndex, Period,\n",
      "/home/da5id/anaconda3/lib/python3.9/site-packages/statsmodels/tsa/base/tsa_model.py:7: FutureWarning: pandas.Float64Index is deprecated and will be removed from pandas in a future version. Use pandas.Index with the appropriate dtype instead.\n",
      "  from pandas import (to_datetime, Int64Index, DatetimeIndex, Period,\n",
      "2022-05-30 02:58:08.090443: W tensorflow/stream_executor/platform/default/dso_loader.cc:64] Could not load dynamic library 'libcudart.so.11.0'; dlerror: libcudart.so.11.0: cannot open shared object file: No such file or directory\n",
      "2022-05-30 02:58:08.090466: I tensorflow/stream_executor/cuda/cudart_stub.cc:29] Ignore above cudart dlerror if you do not have a GPU set up on your machine.\n"
     ]
    }
   ],
   "source": [
    "import numpy as np\n",
    "import pandas as pd\n",
    "import matplotlib.pyplot as plt\n",
    "import datetime\n",
    "import math, copy, time\n",
    "import seaborn\n",
    "\n",
    "import statsmodels.api as sm\n",
    "from statsmodels.tsa.stattools import adfuller, kpss\n",
    "from statsmodels.tsa.seasonal import seasonal_decompose\n",
    "# from sklearn.metrics import mean_squared_error\n",
    "# from statsmodels.tools.eval_measures import rmse, meanabs\n",
    "\n",
    "from statsmodels.graphics.tsaplots import plot_acf, plot_pacf\n",
    "\n",
    "from  sklearn.preprocessing import MinMaxScaler\n",
    "import tensorflow as tf\n",
    "\n",
    "import torch\n",
    "import torch.nn as nn\n",
    "import torch.nn.functional as F\n",
    "from torch.autograd import Variable\n",
    "\n",
    "# pip install pmdarima\n",
    "import pmdarima as pm"
   ]
  },
  {
   "cell_type": "code",
   "execution_count": 2,
   "id": "101214e8",
   "metadata": {},
   "outputs": [],
   "source": [
    "import warnings\n",
    "warnings.filterwarnings('ignore')"
   ]
  },
  {
   "cell_type": "markdown",
   "id": "f97c002a",
   "metadata": {},
   "source": [
    "## Data preparation\n",
    "\n",
    "Original data obtained from Baltic Transparency Dashboard, via API. Script, that puts together the dataset is in `data_miner.py`  \n",
    "\n",
    "To deal with missing values, I use **cubic spline interpolation** imputing strategy\n",
    "\n",
    "**2 different approaches**  \n",
    "1) Take the hourly imbalance values and use hourly time step  \n",
    "2) Take minute-based values and aggregate to arbitary time step"
   ]
  },
  {
   "cell_type": "code",
   "execution_count": 3,
   "id": "3dc42c63",
   "metadata": {},
   "outputs": [],
   "source": [
    "AGGREGATION_STEP = 60"
   ]
  },
  {
   "cell_type": "code",
   "execution_count": 4,
   "id": "159401c5",
   "metadata": {},
   "outputs": [],
   "source": [
    "def change_timeseries_aggregation_step(timeseries_df: pd.DataFrame, aggregation_step: int):\n",
    "    '''\n",
    "    Take univariate timeseries with 1min data and aggregate.\n",
    "    :param timeseries:\n",
    "    :param aggregation_step:\n",
    "    :return:\n",
    "    '''\n",
    "    n_count = timeseries_df.shape[0]\n",
    "    n_count_aggregated = round(n_count / aggregation_step)\n",
    "    new_entries = {'from': [], 'aggregate': []}\n",
    "    for i in range(0, n_count, aggregation_step):\n",
    "        chunk = timeseries_df.iloc[i:(i + aggregation_step), :]\n",
    "        aggregate = (chunk.iloc[:, 1].mean())\n",
    "\n",
    "        new_entry_timestamp = str(chunk.index[0]).split('+')[0]\n",
    "        new_entries['from'].append(new_entry_timestamp)\n",
    "        new_entries['aggregate'].append(aggregate)\n",
    "    aggregated_df = pd.DataFrame(data=new_entries)\n",
    "    return aggregated_df"
   ]
  },
  {
   "cell_type": "code",
   "execution_count": 5,
   "id": "f79c6d06",
   "metadata": {
    "scrolled": false
   },
   "outputs": [],
   "source": [
    "df_timeseries = pd.read_excel('../../data/imbalance_strategy/full_case_study/imbalance_volumes_2019_2022_2h_shift.xlsx', index_col=0, parse_dates=True)\n",
    "df_timeseries.drop(['in_2h'], inplace=True, axis=1)\n",
    "\n",
    "# df_timeseries"
   ]
  },
  {
   "cell_type": "markdown",
   "id": "cbc544fc",
   "metadata": {},
   "source": [
    "Select only training data!"
   ]
  },
  {
   "cell_type": "code",
   "execution_count": 6,
   "id": "ab0cafc2",
   "metadata": {},
   "outputs": [],
   "source": [
    "df_timeseries = df_timeseries['2020']"
   ]
  },
  {
   "cell_type": "code",
   "execution_count": 7,
   "id": "f8bc9f74",
   "metadata": {},
   "outputs": [
    {
     "data": {
      "text/html": [
       "<div>\n",
       "<style scoped>\n",
       "    .dataframe tbody tr th:only-of-type {\n",
       "        vertical-align: middle;\n",
       "    }\n",
       "\n",
       "    .dataframe tbody tr th {\n",
       "        vertical-align: top;\n",
       "    }\n",
       "\n",
       "    .dataframe thead th {\n",
       "        text-align: right;\n",
       "    }\n",
       "</style>\n",
       "<table border=\"1\" class=\"dataframe\">\n",
       "  <thead>\n",
       "    <tr style=\"text-align: right;\">\n",
       "      <th></th>\n",
       "      <th>Actual</th>\n",
       "    </tr>\n",
       "    <tr>\n",
       "      <th>from</th>\n",
       "      <th></th>\n",
       "    </tr>\n",
       "  </thead>\n",
       "  <tbody>\n",
       "  </tbody>\n",
       "</table>\n",
       "</div>"
      ],
      "text/plain": [
       "Empty DataFrame\n",
       "Columns: [Actual]\n",
       "Index: []"
      ]
     },
     "execution_count": 7,
     "metadata": {},
     "output_type": "execute_result"
    }
   ],
   "source": [
    "df_timeseries[df_timeseries['Actual'].isna()]"
   ]
  },
  {
   "cell_type": "code",
   "execution_count": 8,
   "id": "b58e4c69",
   "metadata": {},
   "outputs": [],
   "source": [
    "df_timeseries['Actual'].interpolate(method='spline', order=3, inplace=True)"
   ]
  },
  {
   "cell_type": "markdown",
   "id": "caafb629",
   "metadata": {},
   "source": [
    "## Models\n",
    "\n",
    "1) ARIMA timeseries models  \n",
    "2) Exponential smoothing model  "
   ]
  },
  {
   "cell_type": "markdown",
   "id": "7f561a5e",
   "metadata": {},
   "source": [
    "---"
   ]
  },
  {
   "cell_type": "code",
   "execution_count": 9,
   "id": "24179f52",
   "metadata": {},
   "outputs": [
    {
     "data": {
      "image/png": "[encoded data removed]",
      "text/plain": [
       "<Figure size 432x288 with 1 Axes>"
      ]
     },
     "metadata": {
      "needs_background": "light"
     },
     "output_type": "display_data"
    }
   ],
   "source": [
    "df_timeseries['Actual'].dropna().plot(title='Baltic System imbalance')\n",
    "plt.show()"
   ]
  },
  {
   "cell_type": "markdown",
   "id": "edd33f84",
   "metadata": {},
   "source": [
    "## 1. Statistical methods \n",
    "\n",
    "In this section, we look at the classical statistical methods for timeseries forecating. Specifically the Box-Jenkins method (ARIMA) and Exponential smoothing method."
   ]
  },
  {
   "cell_type": "markdown",
   "id": "8e3a1436",
   "metadata": {},
   "source": [
    "## 1.1 ARIMA (Autoregressive Integrated Moving Average)\n",
    "\n",
    "In order to find suitable model, I follow Box-Jenkins method. ARIMA model requires to define the AR, I and MA terms.  \n",
    "**Steps:**  \n",
    "\n",
    "0) Is the timeseries stationary? Stationarity guarantees, that the statistical characteristics will be similar in different times (strong - The random process PDF is the same at any $t$, weak - Random process characteristics (mean and variance are the same at any $t$.    \n",
    "\n",
    "I use ADF Unit Root test, in order to objectively identify, whether the process has unit root ($|\\phi| < 1$). The alternative test for  unit-root, is Phillips- Perron. The test statistic differs from the ADF, by ignoring all the serial correlation in test-regression (https://faculty.washington.edu/ezivot/econ584/notes/unitroot.pdf). This makes it prone to heteroscedacity.  \n",
    "\n",
    "In addition, I use stationarity test KPSS (Kwiatkowski-Phillips-Schmidt-Shin), to see if ...\n",
    "\n",
    "1) Determine the order of AR and MA terms first, by visually, looking at ACF and PACF plots - the ARIMA model should remove all autocorrelation structures from the timeseries, so the resulting model residuals do not have any autocorrelation structure (Box-Ljung Q-statistic test)   \n",
    "\n",
    "2) Check the AIC criterions of models.  \n",
    "3) "
   ]
  },
  {
   "cell_type": "markdown",
   "id": "6c94494a",
   "metadata": {},
   "source": [
    "Augmented Dickey-Fuller test statistic\n",
    "\n",
    "$$y_t = \\beta D_t + \\phi y_{t-1} + \\sum^{p}_{j=1}\\psi_j\\Delta y_{t-j} + \\epsilon_t$$ \n",
    "where  \n",
    "$D$ - Deterministic trend and constant  \n",
    "$\\beta$ - Regression model estimates (evaluated, using OLS)  \n"
   ]
  },
  {
   "cell_type": "code",
   "execution_count": 10,
   "id": "bf9c1fcb",
   "metadata": {},
   "outputs": [
    {
     "name": "stdout",
     "output_type": "stream",
     "text": [
      "p-value: 1.4669986159592121e-22\n",
      "Used lags: 24\n",
      "H1: (the timeseries are difference stationary, the process has unit root)\n"
     ]
    }
   ],
   "source": [
    "result_adf = adfuller(df_timeseries['Actual'])\n",
    "critical_value = result_adf[4]['5%']\n",
    "adf_stat = result_adf[0]\n",
    "\n",
    "print(f\"p-value: {result_adf[1]}\")\n",
    "print(f\"Used lags: {result_adf[2]}\")\n",
    "\n",
    "if adf_stat < critical_value:\n",
    "    print(\"H1: (the timeseries are difference stationary, the process has unit root)\")\n",
    "else:\n",
    "    print(\"H0: The process is not stationary!\")"
   ]
  },
  {
   "cell_type": "markdown",
   "id": "f41e8a3c",
   "metadata": {},
   "source": [
    "Test statistic for KPSS test: $$y_t = \\beta D_t + \\mu_t + u_t$$, where  \n",
    "$D$ - Deterministic trend and constant  \n",
    "$\\beta$ - Regression model estimates (evaluated, using OLS)  \n",
    "$$\\mu_t = \\mu_{t-1} + \\epsilon_t, \\epsilon_t \\sim W N(0, \\sigma^2_\\epsilon)$$\n"
   ]
  },
  {
   "cell_type": "code",
   "execution_count": 11,
   "id": "d64856bc",
   "metadata": {},
   "outputs": [
    {
     "name": "stdout",
     "output_type": "stream",
     "text": [
      "p-value: 0.015595100848878728\n",
      "Used lags: 45\n",
      "0.463\n",
      "0.677453890662334\n",
      "H1: the timeseries are not trend stationary\n"
     ]
    }
   ],
   "source": [
    "result_kpss = kpss(df_timeseries['Actual'], nlags='auto')\n",
    "\n",
    "critical_value = result_kpss[3]['5%']\n",
    "kpss_stat = result_kpss[0]\n",
    "\n",
    "print(f\"p-value: {result_kpss[1]}\")\n",
    "print(f\"Used lags: {result_kpss[2]}\")\n",
    "print(critical_value)\n",
    "print(kpss_stat)\n",
    "\n",
    "if kpss_stat > critical_value:\n",
    "    print(\"H1: the timeseries are not trend stationary\")\n",
    "else:\n",
    "    print(\"H0: the timeseries are trend stationary\")"
   ]
  },
  {
   "cell_type": "markdown",
   "id": "2a36e818",
   "metadata": {},
   "source": [
    "Look for autocorrelation visual patterns on ACF and PACF plots"
   ]
  },
  {
   "cell_type": "code",
   "execution_count": 12,
   "id": "a7ab4015",
   "metadata": {},
   "outputs": [
    {
     "data": {
      "image/png": "[encoded data removed]",
      "text/plain": [
       "<Figure size 432x288 with 2 Axes>"
      ]
     },
     "metadata": {
      "needs_background": "light"
     },
     "output_type": "display_data"
    }
   ],
   "source": [
    "fig, axes = plt.subplots(2, 1, sharex=True)\n",
    "plot_acf(df_timeseries['Actual'], ax=axes[0])\n",
    "plot_pacf(df_timeseries['Actual'], ax=axes[1])\n",
    "plt.show()"
   ]
  },
  {
   "cell_type": "markdown",
   "id": "eef0268d",
   "metadata": {},
   "source": [
    "From the ACF&PACF plots, we can assume, that the process is probably AR(2), but to verify it, we calculate the AIC information criterion.  \n",
    "$$\\text{AIC} = -2 \\log(L) + 2(p+q+k+1)$$\n",
    "\n",
    "Test the following models:  \n",
    "1) ARMA(1, 0)  \n",
    "2) ARMA(2, 0)  \n",
    "3) ARMA(3, 0)  \n",
    "4) ARMA(2, 1)  \n",
    "5) ARMA(2, 2)  \n",
    "6) ARMA(3, 1)  \n",
    "7) ARMA(3, 2)  "
   ]
  },
  {
   "cell_type": "code",
   "execution_count": 13,
   "id": "8a1ec4ca",
   "metadata": {},
   "outputs": [
    {
     "data": {
      "text/html": [
       "<table class=\"simpletable\">\n",
       "<caption>SARIMAX Results</caption>\n",
       "<tr>\n",
       "  <th>Dep. Variable:</th>        <td>Actual</td>      <th>  No. Observations:  </th>    <td>8784</td>   \n",
       "</tr>\n",
       "<tr>\n",
       "  <th>Model:</th>            <td>ARIMA(1, 0, 0)</td>  <th>  Log Likelihood     </th> <td>-46645.765</td>\n",
       "</tr>\n",
       "<tr>\n",
       "  <th>Date:</th>            <td>Mon, 30 May 2022</td> <th>  AIC                </th>  <td>93297.530</td>\n",
       "</tr>\n",
       "<tr>\n",
       "  <th>Time:</th>                <td>02:58:15</td>     <th>  BIC                </th>  <td>93318.772</td>\n",
       "</tr>\n",
       "<tr>\n",
       "  <th>Sample:</th>             <td>01-01-2020</td>    <th>  HQIC               </th>  <td>93304.767</td>\n",
       "</tr>\n",
       "<tr>\n",
       "  <th></th>                   <td>- 12-31-2020</td>   <th>                     </th>      <td> </td>    \n",
       "</tr>\n",
       "<tr>\n",
       "  <th>Covariance Type:</th>        <td>opg</td>       <th>                     </th>      <td> </td>    \n",
       "</tr>\n",
       "</table>\n",
       "<table class=\"simpletable\">\n",
       "<tr>\n",
       "     <td></td>       <th>coef</th>     <th>std err</th>      <th>z</th>      <th>P>|z|</th>  <th>[0.025</th>    <th>0.975]</th>  \n",
       "</tr>\n",
       "<tr>\n",
       "  <th>const</th>  <td>   12.6221</td> <td>    1.937</td> <td>    6.516</td> <td> 0.000</td> <td>    8.826</td> <td>   16.419</td>\n",
       "</tr>\n",
       "<tr>\n",
       "  <th>ar.L1</th>  <td>    0.7284</td> <td>    0.004</td> <td>  186.180</td> <td> 0.000</td> <td>    0.721</td> <td>    0.736</td>\n",
       "</tr>\n",
       "<tr>\n",
       "  <th>sigma2</th> <td> 2398.4423</td> <td>   17.555</td> <td>  136.626</td> <td> 0.000</td> <td> 2364.036</td> <td> 2432.849</td>\n",
       "</tr>\n",
       "</table>\n",
       "<table class=\"simpletable\">\n",
       "<tr>\n",
       "  <th>Ljung-Box (L1) (Q):</th>     <td>0.19</td> <th>  Jarque-Bera (JB):  </th> <td>15710.65</td>\n",
       "</tr>\n",
       "<tr>\n",
       "  <th>Prob(Q):</th>                <td>0.66</td> <th>  Prob(JB):          </th>   <td>0.00</td>  \n",
       "</tr>\n",
       "<tr>\n",
       "  <th>Heteroskedasticity (H):</th> <td>0.91</td> <th>  Skew:              </th>   <td>-0.18</td> \n",
       "</tr>\n",
       "<tr>\n",
       "  <th>Prob(H) (two-sided):</th>    <td>0.01</td> <th>  Kurtosis:          </th>   <td>9.54</td>  \n",
       "</tr>\n",
       "</table><br/><br/>Warnings:<br/>[1] Covariance matrix calculated using the outer product of gradients (complex-step)."
      ],
      "text/plain": [
       "<class 'statsmodels.iolib.summary.Summary'>\n",
       "\"\"\"\n",
       "                               SARIMAX Results                                \n",
       "==============================================================================\n",
       "Dep. Variable:                 Actual   No. Observations:                 8784\n",
       "Model:                 ARIMA(1, 0, 0)   Log Likelihood              -46645.765\n",
       "Date:                Mon, 30 May 2022   AIC                          93297.530\n",
       "Time:                        02:58:15   BIC                          93318.772\n",
       "Sample:                    01-01-2020   HQIC                         93304.767\n",
       "                         - 12-31-2020                                         \n",
       "Covariance Type:                  opg                                         \n",
       "==============================================================================\n",
       "                 coef    std err          z      P>|z|      [0.025      0.975]\n",
       "------------------------------------------------------------------------------\n",
       "const         12.6221      1.937      6.516      0.000       8.826      16.419\n",
       "ar.L1          0.7284      0.004    186.180      0.000       0.721       0.736\n",
       "sigma2      2398.4423     17.555    136.626      0.000    2364.036    2432.849\n",
       "===================================================================================\n",
       "Ljung-Box (L1) (Q):                   0.19   Jarque-Bera (JB):             15710.65\n",
       "Prob(Q):                              0.66   Prob(JB):                         0.00\n",
       "Heteroskedasticity (H):               0.91   Skew:                            -0.18\n",
       "Prob(H) (two-sided):                  0.01   Kurtosis:                         9.54\n",
       "===================================================================================\n",
       "\n",
       "Warnings:\n",
       "[1] Covariance matrix calculated using the outer product of gradients (complex-step).\n",
       "\"\"\""
      ]
     },
     "execution_count": 13,
     "metadata": {},
     "output_type": "execute_result"
    }
   ],
   "source": [
    "model = sm.tsa.arima.ARIMA(df_timeseries['Actual'], order=(1, 0, 0))\n",
    "fitted = model.fit()\n",
    "fitted.summary()"
   ]
  },
  {
   "cell_type": "code",
   "execution_count": 14,
   "id": "1c407580",
   "metadata": {},
   "outputs": [
    {
     "data": {
      "text/html": [
       "<table class=\"simpletable\">\n",
       "<caption>SARIMAX Results</caption>\n",
       "<tr>\n",
       "  <th>Dep. Variable:</th>        <td>Actual</td>      <th>  No. Observations:  </th>    <td>8784</td>   \n",
       "</tr>\n",
       "<tr>\n",
       "  <th>Model:</th>            <td>ARIMA(2, 0, 0)</td>  <th>  Log Likelihood     </th> <td>-46645.592</td>\n",
       "</tr>\n",
       "<tr>\n",
       "  <th>Date:</th>            <td>Mon, 30 May 2022</td> <th>  AIC                </th>  <td>93299.184</td>\n",
       "</tr>\n",
       "<tr>\n",
       "  <th>Time:</th>                <td>02:58:16</td>     <th>  BIC                </th>  <td>93327.507</td>\n",
       "</tr>\n",
       "<tr>\n",
       "  <th>Sample:</th>             <td>01-01-2020</td>    <th>  HQIC               </th>  <td>93308.834</td>\n",
       "</tr>\n",
       "<tr>\n",
       "  <th></th>                   <td>- 12-31-2020</td>   <th>                     </th>      <td> </td>    \n",
       "</tr>\n",
       "<tr>\n",
       "  <th>Covariance Type:</th>        <td>opg</td>       <th>                     </th>      <td> </td>    \n",
       "</tr>\n",
       "</table>\n",
       "<table class=\"simpletable\">\n",
       "<tr>\n",
       "     <td></td>       <th>coef</th>     <th>std err</th>      <th>z</th>      <th>P>|z|</th>  <th>[0.025</th>    <th>0.975]</th>  \n",
       "</tr>\n",
       "<tr>\n",
       "  <th>const</th>  <td>   12.6221</td> <td>    1.955</td> <td>    6.457</td> <td> 0.000</td> <td>    8.791</td> <td>   16.454</td>\n",
       "</tr>\n",
       "<tr>\n",
       "  <th>ar.L1</th>  <td>    0.7238</td> <td>    0.006</td> <td>  116.891</td> <td> 0.000</td> <td>    0.712</td> <td>    0.736</td>\n",
       "</tr>\n",
       "<tr>\n",
       "  <th>ar.L2</th>  <td>    0.0063</td> <td>    0.007</td> <td>    0.857</td> <td> 0.391</td> <td>   -0.008</td> <td>    0.021</td>\n",
       "</tr>\n",
       "<tr>\n",
       "  <th>sigma2</th> <td> 2398.6099</td> <td>   17.662</td> <td>  135.806</td> <td> 0.000</td> <td> 2363.993</td> <td> 2433.227</td>\n",
       "</tr>\n",
       "</table>\n",
       "<table class=\"simpletable\">\n",
       "<tr>\n",
       "  <th>Ljung-Box (L1) (Q):</th>     <td>0.00</td> <th>  Jarque-Bera (JB):  </th> <td>15653.42</td>\n",
       "</tr>\n",
       "<tr>\n",
       "  <th>Prob(Q):</th>                <td>1.00</td> <th>  Prob(JB):          </th>   <td>0.00</td>  \n",
       "</tr>\n",
       "<tr>\n",
       "  <th>Heteroskedasticity (H):</th> <td>0.91</td> <th>  Skew:              </th>   <td>-0.17</td> \n",
       "</tr>\n",
       "<tr>\n",
       "  <th>Prob(H) (two-sided):</th>    <td>0.01</td> <th>  Kurtosis:          </th>   <td>9.53</td>  \n",
       "</tr>\n",
       "</table><br/><br/>Warnings:<br/>[1] Covariance matrix calculated using the outer product of gradients (complex-step)."
      ],
      "text/plain": [
       "<class 'statsmodels.iolib.summary.Summary'>\n",
       "\"\"\"\n",
       "                               SARIMAX Results                                \n",
       "==============================================================================\n",
       "Dep. Variable:                 Actual   No. Observations:                 8784\n",
       "Model:                 ARIMA(2, 0, 0)   Log Likelihood              -46645.592\n",
       "Date:                Mon, 30 May 2022   AIC                          93299.184\n",
       "Time:                        02:58:16   BIC                          93327.507\n",
       "Sample:                    01-01-2020   HQIC                         93308.834\n",
       "                         - 12-31-2020                                         \n",
       "Covariance Type:                  opg                                         \n",
       "==============================================================================\n",
       "                 coef    std err          z      P>|z|      [0.025      0.975]\n",
       "------------------------------------------------------------------------------\n",
       "const         12.6221      1.955      6.457      0.000       8.791      16.454\n",
       "ar.L1          0.7238      0.006    116.891      0.000       0.712       0.736\n",
       "ar.L2          0.0063      0.007      0.857      0.391      -0.008       0.021\n",
       "sigma2      2398.6099     17.662    135.806      0.000    2363.993    2433.227\n",
       "===================================================================================\n",
       "Ljung-Box (L1) (Q):                   0.00   Jarque-Bera (JB):             15653.42\n",
       "Prob(Q):                              1.00   Prob(JB):                         0.00\n",
       "Heteroskedasticity (H):               0.91   Skew:                            -0.17\n",
       "Prob(H) (two-sided):                  0.01   Kurtosis:                         9.53\n",
       "===================================================================================\n",
       "\n",
       "Warnings:\n",
       "[1] Covariance matrix calculated using the outer product of gradients (complex-step).\n",
       "\"\"\""
      ]
     },
     "execution_count": 14,
     "metadata": {},
     "output_type": "execute_result"
    }
   ],
   "source": [
    "model = sm.tsa.arima.ARIMA(df_timeseries['Actual'].dropna(), order=(2, 0, 0))\n",
    "fitted = model.fit()\n",
    "fitted.summary()"
   ]
  },
  {
   "cell_type": "code",
   "execution_count": 15,
   "id": "1f333ab3",
   "metadata": {},
   "outputs": [
    {
     "data": {
      "text/html": [
       "<table class=\"simpletable\">\n",
       "<caption>SARIMAX Results</caption>\n",
       "<tr>\n",
       "  <th>Dep. Variable:</th>        <td>Actual</td>      <th>  No. Observations:  </th>    <td>8784</td>   \n",
       "</tr>\n",
       "<tr>\n",
       "  <th>Model:</th>            <td>ARIMA(3, 0, 0)</td>  <th>  Log Likelihood     </th> <td>-46644.244</td>\n",
       "</tr>\n",
       "<tr>\n",
       "  <th>Date:</th>            <td>Mon, 30 May 2022</td> <th>  AIC                </th>  <td>93298.488</td>\n",
       "</tr>\n",
       "<tr>\n",
       "  <th>Time:</th>                <td>02:58:16</td>     <th>  BIC                </th>  <td>93333.892</td>\n",
       "</tr>\n",
       "<tr>\n",
       "  <th>Sample:</th>             <td>01-01-2020</td>    <th>  HQIC               </th>  <td>93310.550</td>\n",
       "</tr>\n",
       "<tr>\n",
       "  <th></th>                   <td>- 12-31-2020</td>   <th>                     </th>      <td> </td>    \n",
       "</tr>\n",
       "<tr>\n",
       "  <th>Covariance Type:</th>        <td>opg</td>       <th>                     </th>      <td> </td>    \n",
       "</tr>\n",
       "</table>\n",
       "<table class=\"simpletable\">\n",
       "<tr>\n",
       "     <td></td>       <th>coef</th>     <th>std err</th>      <th>z</th>      <th>P>|z|</th>  <th>[0.025</th>    <th>0.975]</th>  \n",
       "</tr>\n",
       "<tr>\n",
       "  <th>const</th>  <td>   12.6221</td> <td>    1.923</td> <td>    6.565</td> <td> 0.000</td> <td>    8.854</td> <td>   16.390</td>\n",
       "</tr>\n",
       "<tr>\n",
       "  <th>ar.L1</th>  <td>    0.7239</td> <td>    0.006</td> <td>  116.531</td> <td> 0.000</td> <td>    0.712</td> <td>    0.736</td>\n",
       "</tr>\n",
       "<tr>\n",
       "  <th>ar.L2</th>  <td>    0.0190</td> <td>    0.010</td> <td>    1.969</td> <td> 0.049</td> <td> 8.59e-05</td> <td>    0.038</td>\n",
       "</tr>\n",
       "<tr>\n",
       "  <th>ar.L3</th>  <td>   -0.0175</td> <td>    0.008</td> <td>   -2.189</td> <td> 0.029</td> <td>   -0.033</td> <td>   -0.002</td>\n",
       "</tr>\n",
       "<tr>\n",
       "  <th>sigma2</th> <td> 2397.9017</td> <td>   17.732</td> <td>  135.228</td> <td> 0.000</td> <td> 2363.147</td> <td> 2432.656</td>\n",
       "</tr>\n",
       "</table>\n",
       "<table class=\"simpletable\">\n",
       "<tr>\n",
       "  <th>Ljung-Box (L1) (Q):</th>     <td>0.02</td> <th>  Jarque-Bera (JB):  </th> <td>15829.23</td>\n",
       "</tr>\n",
       "<tr>\n",
       "  <th>Prob(Q):</th>                <td>0.89</td> <th>  Prob(JB):          </th>   <td>0.00</td>  \n",
       "</tr>\n",
       "<tr>\n",
       "  <th>Heteroskedasticity (H):</th> <td>0.91</td> <th>  Skew:              </th>   <td>-0.18</td> \n",
       "</tr>\n",
       "<tr>\n",
       "  <th>Prob(H) (two-sided):</th>    <td>0.01</td> <th>  Kurtosis:          </th>   <td>9.57</td>  \n",
       "</tr>\n",
       "</table><br/><br/>Warnings:<br/>[1] Covariance matrix calculated using the outer product of gradients (complex-step)."
      ],
      "text/plain": [
       "<class 'statsmodels.iolib.summary.Summary'>\n",
       "\"\"\"\n",
       "                               SARIMAX Results                                \n",
       "==============================================================================\n",
       "Dep. Variable:                 Actual   No. Observations:                 8784\n",
       "Model:                 ARIMA(3, 0, 0)   Log Likelihood              -46644.244\n",
       "Date:                Mon, 30 May 2022   AIC                          93298.488\n",
       "Time:                        02:58:16   BIC                          93333.892\n",
       "Sample:                    01-01-2020   HQIC                         93310.550\n",
       "                         - 12-31-2020                                         \n",
       "Covariance Type:                  opg                                         \n",
       "==============================================================================\n",
       "                 coef    std err          z      P>|z|      [0.025      0.975]\n",
       "------------------------------------------------------------------------------\n",
       "const         12.6221      1.923      6.565      0.000       8.854      16.390\n",
       "ar.L1          0.7239      0.006    116.531      0.000       0.712       0.736\n",
       "ar.L2          0.0190      0.010      1.969      0.049    8.59e-05       0.038\n",
       "ar.L3         -0.0175      0.008     -2.189      0.029      -0.033      -0.002\n",
       "sigma2      2397.9017     17.732    135.228      0.000    2363.147    2432.656\n",
       "===================================================================================\n",
       "Ljung-Box (L1) (Q):                   0.02   Jarque-Bera (JB):             15829.23\n",
       "Prob(Q):                              0.89   Prob(JB):                         0.00\n",
       "Heteroskedasticity (H):               0.91   Skew:                            -0.18\n",
       "Prob(H) (two-sided):                  0.01   Kurtosis:                         9.57\n",
       "===================================================================================\n",
       "\n",
       "Warnings:\n",
       "[1] Covariance matrix calculated using the outer product of gradients (complex-step).\n",
       "\"\"\""
      ]
     },
     "execution_count": 15,
     "metadata": {},
     "output_type": "execute_result"
    }
   ],
   "source": [
    "model = sm.tsa.arima.ARIMA(df_timeseries['Actual'], order=(3, 0, 0))\n",
    "fitted = model.fit()\n",
    "fitted.summary()"
   ]
  },
  {
   "cell_type": "code",
   "execution_count": 16,
   "id": "3e49498e",
   "metadata": {},
   "outputs": [
    {
     "data": {
      "text/html": [
       "<table class=\"simpletable\">\n",
       "<caption>SARIMAX Results</caption>\n",
       "<tr>\n",
       "  <th>Dep. Variable:</th>        <td>Actual</td>      <th>  No. Observations:  </th>    <td>8784</td>   \n",
       "</tr>\n",
       "<tr>\n",
       "  <th>Model:</th>            <td>ARIMA(2, 0, 1)</td>  <th>  Log Likelihood     </th> <td>-46620.677</td>\n",
       "</tr>\n",
       "<tr>\n",
       "  <th>Date:</th>            <td>Mon, 30 May 2022</td> <th>  AIC                </th>  <td>93251.355</td>\n",
       "</tr>\n",
       "<tr>\n",
       "  <th>Time:</th>                <td>02:58:19</td>     <th>  BIC                </th>  <td>93286.758</td>\n",
       "</tr>\n",
       "<tr>\n",
       "  <th>Sample:</th>             <td>01-01-2020</td>    <th>  HQIC               </th>  <td>93263.416</td>\n",
       "</tr>\n",
       "<tr>\n",
       "  <th></th>                   <td>- 12-31-2020</td>   <th>                     </th>      <td> </td>    \n",
       "</tr>\n",
       "<tr>\n",
       "  <th>Covariance Type:</th>        <td>opg</td>       <th>                     </th>      <td> </td>    \n",
       "</tr>\n",
       "</table>\n",
       "<table class=\"simpletable\">\n",
       "<tr>\n",
       "     <td></td>       <th>coef</th>     <th>std err</th>      <th>z</th>      <th>P>|z|</th>  <th>[0.025</th>    <th>0.975]</th>  \n",
       "</tr>\n",
       "<tr>\n",
       "  <th>const</th>  <td>   12.5970</td> <td>    1.949</td> <td>    6.462</td> <td> 0.000</td> <td>    8.776</td> <td>   16.418</td>\n",
       "</tr>\n",
       "<tr>\n",
       "  <th>ar.L1</th>  <td>   -0.2666</td> <td>    0.004</td> <td>  -65.218</td> <td> 0.000</td> <td>   -0.275</td> <td>   -0.259</td>\n",
       "</tr>\n",
       "<tr>\n",
       "  <th>ar.L2</th>  <td>    0.7296</td> <td>    0.004</td> <td>  179.796</td> <td> 0.000</td> <td>    0.722</td> <td>    0.738</td>\n",
       "</tr>\n",
       "<tr>\n",
       "  <th>ma.L1</th>  <td>    0.9929</td> <td>    0.002</td> <td>  440.154</td> <td> 0.000</td> <td>    0.988</td> <td>    0.997</td>\n",
       "</tr>\n",
       "<tr>\n",
       "  <th>sigma2</th> <td> 2384.7612</td> <td>   17.685</td> <td>  134.843</td> <td> 0.000</td> <td> 2350.098</td> <td> 2419.424</td>\n",
       "</tr>\n",
       "</table>\n",
       "<table class=\"simpletable\">\n",
       "<tr>\n",
       "  <th>Ljung-Box (L1) (Q):</th>     <td>0.09</td> <th>  Jarque-Bera (JB):  </th> <td>15506.10</td>\n",
       "</tr>\n",
       "<tr>\n",
       "  <th>Prob(Q):</th>                <td>0.77</td> <th>  Prob(JB):          </th>   <td>0.00</td>  \n",
       "</tr>\n",
       "<tr>\n",
       "  <th>Heteroskedasticity (H):</th> <td>0.92</td> <th>  Skew:              </th>   <td>-0.19</td> \n",
       "</tr>\n",
       "<tr>\n",
       "  <th>Prob(H) (two-sided):</th>    <td>0.03</td> <th>  Kurtosis:          </th>   <td>9.50</td>  \n",
       "</tr>\n",
       "</table><br/><br/>Warnings:<br/>[1] Covariance matrix calculated using the outer product of gradients (complex-step)."
      ],
      "text/plain": [
       "<class 'statsmodels.iolib.summary.Summary'>\n",
       "\"\"\"\n",
       "                               SARIMAX Results                                \n",
       "==============================================================================\n",
       "Dep. Variable:                 Actual   No. Observations:                 8784\n",
       "Model:                 ARIMA(2, 0, 1)   Log Likelihood              -46620.677\n",
       "Date:                Mon, 30 May 2022   AIC                          93251.355\n",
       "Time:                        02:58:19   BIC                          93286.758\n",
       "Sample:                    01-01-2020   HQIC                         93263.416\n",
       "                         - 12-31-2020                                         \n",
       "Covariance Type:                  opg                                         \n",
       "==============================================================================\n",
       "                 coef    std err          z      P>|z|      [0.025      0.975]\n",
       "------------------------------------------------------------------------------\n",
       "const         12.5970      1.949      6.462      0.000       8.776      16.418\n",
       "ar.L1         -0.2666      0.004    -65.218      0.000      -0.275      -0.259\n",
       "ar.L2          0.7296      0.004    179.796      0.000       0.722       0.738\n",
       "ma.L1          0.9929      0.002    440.154      0.000       0.988       0.997\n",
       "sigma2      2384.7612     17.685    134.843      0.000    2350.098    2419.424\n",
       "===================================================================================\n",
       "Ljung-Box (L1) (Q):                   0.09   Jarque-Bera (JB):             15506.10\n",
       "Prob(Q):                              0.77   Prob(JB):                         0.00\n",
       "Heteroskedasticity (H):               0.92   Skew:                            -0.19\n",
       "Prob(H) (two-sided):                  0.03   Kurtosis:                         9.50\n",
       "===================================================================================\n",
       "\n",
       "Warnings:\n",
       "[1] Covariance matrix calculated using the outer product of gradients (complex-step).\n",
       "\"\"\""
      ]
     },
     "execution_count": 16,
     "metadata": {},
     "output_type": "execute_result"
    }
   ],
   "source": [
    "model = sm.tsa.arima.ARIMA(df_timeseries['Actual'], order=(2, 0, 1))\n",
    "fitted = model.fit()\n",
    "fitted.summary()"
   ]
  },
  {
   "cell_type": "code",
   "execution_count": 17,
   "id": "8b80667e",
   "metadata": {},
   "outputs": [
    {
     "data": {
      "text/html": [
       "<table class=\"simpletable\">\n",
       "<caption>SARIMAX Results</caption>\n",
       "<tr>\n",
       "  <th>Dep. Variable:</th>        <td>Actual</td>      <th>  No. Observations:  </th>    <td>8784</td>   \n",
       "</tr>\n",
       "<tr>\n",
       "  <th>Model:</th>            <td>ARIMA(2, 0, 2)</td>  <th>  Log Likelihood     </th> <td>-46607.003</td>\n",
       "</tr>\n",
       "<tr>\n",
       "  <th>Date:</th>            <td>Mon, 30 May 2022</td> <th>  AIC                </th>  <td>93226.006</td>\n",
       "</tr>\n",
       "<tr>\n",
       "  <th>Time:</th>                <td>02:58:24</td>     <th>  BIC                </th>  <td>93268.490</td>\n",
       "</tr>\n",
       "<tr>\n",
       "  <th>Sample:</th>             <td>01-01-2020</td>    <th>  HQIC               </th>  <td>93240.479</td>\n",
       "</tr>\n",
       "<tr>\n",
       "  <th></th>                   <td>- 12-31-2020</td>   <th>                     </th>      <td> </td>    \n",
       "</tr>\n",
       "<tr>\n",
       "  <th>Covariance Type:</th>        <td>opg</td>       <th>                     </th>      <td> </td>    \n",
       "</tr>\n",
       "</table>\n",
       "<table class=\"simpletable\">\n",
       "<tr>\n",
       "     <td></td>       <th>coef</th>     <th>std err</th>      <th>z</th>      <th>P>|z|</th>  <th>[0.025</th>    <th>0.975]</th>  \n",
       "</tr>\n",
       "<tr>\n",
       "  <th>const</th>  <td>   12.6081</td> <td>    3.421</td> <td>    3.686</td> <td> 0.000</td> <td>    5.903</td> <td>   19.313</td>\n",
       "</tr>\n",
       "<tr>\n",
       "  <th>ar.L1</th>  <td>    1.6271</td> <td>    0.017</td> <td>   97.920</td> <td> 0.000</td> <td>    1.595</td> <td>    1.660</td>\n",
       "</tr>\n",
       "<tr>\n",
       "  <th>ar.L2</th>  <td>   -0.6355</td> <td>    0.015</td> <td>  -42.652</td> <td> 0.000</td> <td>   -0.665</td> <td>   -0.606</td>\n",
       "</tr>\n",
       "<tr>\n",
       "  <th>ma.L1</th>  <td>   -0.9143</td> <td>    0.019</td> <td>  -48.761</td> <td> 0.000</td> <td>   -0.951</td> <td>   -0.878</td>\n",
       "</tr>\n",
       "<tr>\n",
       "  <th>ma.L2</th>  <td>   -0.0314</td> <td>    0.012</td> <td>   -2.627</td> <td> 0.009</td> <td>   -0.055</td> <td>   -0.008</td>\n",
       "</tr>\n",
       "<tr>\n",
       "  <th>sigma2</th> <td> 2377.5283</td> <td>   17.533</td> <td>  135.607</td> <td> 0.000</td> <td> 2343.165</td> <td> 2411.891</td>\n",
       "</tr>\n",
       "</table>\n",
       "<table class=\"simpletable\">\n",
       "<tr>\n",
       "  <th>Ljung-Box (L1) (Q):</th>     <td>0.01</td> <th>  Jarque-Bera (JB):  </th> <td>15667.82</td>\n",
       "</tr>\n",
       "<tr>\n",
       "  <th>Prob(Q):</th>                <td>0.91</td> <th>  Prob(JB):          </th>   <td>0.00</td>  \n",
       "</tr>\n",
       "<tr>\n",
       "  <th>Heteroskedasticity (H):</th> <td>0.91</td> <th>  Skew:              </th>   <td>-0.15</td> \n",
       "</tr>\n",
       "<tr>\n",
       "  <th>Prob(H) (two-sided):</th>    <td>0.01</td> <th>  Kurtosis:          </th>   <td>9.54</td>  \n",
       "</tr>\n",
       "</table><br/><br/>Warnings:<br/>[1] Covariance matrix calculated using the outer product of gradients (complex-step)."
      ],
      "text/plain": [
       "<class 'statsmodels.iolib.summary.Summary'>\n",
       "\"\"\"\n",
       "                               SARIMAX Results                                \n",
       "==============================================================================\n",
       "Dep. Variable:                 Actual   No. Observations:                 8784\n",
       "Model:                 ARIMA(2, 0, 2)   Log Likelihood              -46607.003\n",
       "Date:                Mon, 30 May 2022   AIC                          93226.006\n",
       "Time:                        02:58:24   BIC                          93268.490\n",
       "Sample:                    01-01-2020   HQIC                         93240.479\n",
       "                         - 12-31-2020                                         \n",
       "Covariance Type:                  opg                                         \n",
       "==============================================================================\n",
       "                 coef    std err          z      P>|z|      [0.025      0.975]\n",
       "------------------------------------------------------------------------------\n",
       "const         12.6081      3.421      3.686      0.000       5.903      19.313\n",
       "ar.L1          1.6271      0.017     97.920      0.000       1.595       1.660\n",
       "ar.L2         -0.6355      0.015    -42.652      0.000      -0.665      -0.606\n",
       "ma.L1         -0.9143      0.019    -48.761      0.000      -0.951      -0.878\n",
       "ma.L2         -0.0314      0.012     -2.627      0.009      -0.055      -0.008\n",
       "sigma2      2377.5283     17.533    135.607      0.000    2343.165    2411.891\n",
       "===================================================================================\n",
       "Ljung-Box (L1) (Q):                   0.01   Jarque-Bera (JB):             15667.82\n",
       "Prob(Q):                              0.91   Prob(JB):                         0.00\n",
       "Heteroskedasticity (H):               0.91   Skew:                            -0.15\n",
       "Prob(H) (two-sided):                  0.01   Kurtosis:                         9.54\n",
       "===================================================================================\n",
       "\n",
       "Warnings:\n",
       "[1] Covariance matrix calculated using the outer product of gradients (complex-step).\n",
       "\"\"\""
      ]
     },
     "execution_count": 17,
     "metadata": {},
     "output_type": "execute_result"
    }
   ],
   "source": [
    "model = sm.tsa.arima.ARIMA(df_timeseries['Actual'], order=(2, 0, 2))\n",
    "fitted = model.fit()\n",
    "fitted.summary()"
   ]
  },
  {
   "cell_type": "code",
   "execution_count": 18,
   "id": "d6a0ba7b",
   "metadata": {},
   "outputs": [
    {
     "data": {
      "text/html": [
       "<table class=\"simpletable\">\n",
       "<caption>SARIMAX Results</caption>\n",
       "<tr>\n",
       "  <th>Dep. Variable:</th>        <td>Actual</td>      <th>  No. Observations:  </th>    <td>8784</td>   \n",
       "</tr>\n",
       "<tr>\n",
       "  <th>Model:</th>            <td>ARIMA(3, 0, 1)</td>  <th>  Log Likelihood     </th> <td>-46620.594</td>\n",
       "</tr>\n",
       "<tr>\n",
       "  <th>Date:</th>            <td>Mon, 30 May 2022</td> <th>  AIC                </th>  <td>93253.188</td>\n",
       "</tr>\n",
       "<tr>\n",
       "  <th>Time:</th>                <td>02:58:30</td>     <th>  BIC                </th>  <td>93295.672</td>\n",
       "</tr>\n",
       "<tr>\n",
       "  <th>Sample:</th>             <td>01-01-2020</td>    <th>  HQIC               </th>  <td>93267.662</td>\n",
       "</tr>\n",
       "<tr>\n",
       "  <th></th>                   <td>- 12-31-2020</td>   <th>                     </th>      <td> </td>    \n",
       "</tr>\n",
       "<tr>\n",
       "  <th>Covariance Type:</th>        <td>opg</td>       <th>                     </th>      <td> </td>    \n",
       "</tr>\n",
       "</table>\n",
       "<table class=\"simpletable\">\n",
       "<tr>\n",
       "     <td></td>       <th>coef</th>     <th>std err</th>      <th>z</th>      <th>P>|z|</th>  <th>[0.025</th>    <th>0.975]</th>  \n",
       "</tr>\n",
       "<tr>\n",
       "  <th>const</th>  <td>   12.5786</td> <td>    1.946</td> <td>    6.465</td> <td> 0.000</td> <td>    8.765</td> <td>   16.392</td>\n",
       "</tr>\n",
       "<tr>\n",
       "  <th>ar.L1</th>  <td>   -0.2635</td> <td>    0.007</td> <td>  -40.413</td> <td> 0.000</td> <td>   -0.276</td> <td>   -0.251</td>\n",
       "</tr>\n",
       "<tr>\n",
       "  <th>ar.L2</th>  <td>    0.7283</td> <td>    0.005</td> <td>  152.710</td> <td> 0.000</td> <td>    0.719</td> <td>    0.738</td>\n",
       "</tr>\n",
       "<tr>\n",
       "  <th>ar.L3</th>  <td>   -0.0044</td> <td>    0.008</td> <td>   -0.588</td> <td> 0.556</td> <td>   -0.019</td> <td>    0.010</td>\n",
       "</tr>\n",
       "<tr>\n",
       "  <th>ma.L1</th>  <td>    0.9929</td> <td>    0.002</td> <td>  441.369</td> <td> 0.000</td> <td>    0.988</td> <td>    0.997</td>\n",
       "</tr>\n",
       "<tr>\n",
       "  <th>sigma2</th> <td> 2384.1348</td> <td>   17.725</td> <td>  134.508</td> <td> 0.000</td> <td> 2349.395</td> <td> 2418.875</td>\n",
       "</tr>\n",
       "</table>\n",
       "<table class=\"simpletable\">\n",
       "<tr>\n",
       "  <th>Ljung-Box (L1) (Q):</th>     <td>0.00</td> <th>  Jarque-Bera (JB):  </th> <td>15538.39</td>\n",
       "</tr>\n",
       "<tr>\n",
       "  <th>Prob(Q):</th>                <td>0.99</td> <th>  Prob(JB):          </th>   <td>0.00</td>  \n",
       "</tr>\n",
       "<tr>\n",
       "  <th>Heteroskedasticity (H):</th> <td>0.92</td> <th>  Skew:              </th>   <td>-0.19</td> \n",
       "</tr>\n",
       "<tr>\n",
       "  <th>Prob(H) (two-sided):</th>    <td>0.03</td> <th>  Kurtosis:          </th>   <td>9.50</td>  \n",
       "</tr>\n",
       "</table><br/><br/>Warnings:<br/>[1] Covariance matrix calculated using the outer product of gradients (complex-step)."
      ],
      "text/plain": [
       "<class 'statsmodels.iolib.summary.Summary'>\n",
       "\"\"\"\n",
       "                               SARIMAX Results                                \n",
       "==============================================================================\n",
       "Dep. Variable:                 Actual   No. Observations:                 8784\n",
       "Model:                 ARIMA(3, 0, 1)   Log Likelihood              -46620.594\n",
       "Date:                Mon, 30 May 2022   AIC                          93253.188\n",
       "Time:                        02:58:30   BIC                          93295.672\n",
       "Sample:                    01-01-2020   HQIC                         93267.662\n",
       "                         - 12-31-2020                                         \n",
       "Covariance Type:                  opg                                         \n",
       "==============================================================================\n",
       "                 coef    std err          z      P>|z|      [0.025      0.975]\n",
       "------------------------------------------------------------------------------\n",
       "const         12.5786      1.946      6.465      0.000       8.765      16.392\n",
       "ar.L1         -0.2635      0.007    -40.413      0.000      -0.276      -0.251\n",
       "ar.L2          0.7283      0.005    152.710      0.000       0.719       0.738\n",
       "ar.L3         -0.0044      0.008     -0.588      0.556      -0.019       0.010\n",
       "ma.L1          0.9929      0.002    441.369      0.000       0.988       0.997\n",
       "sigma2      2384.1348     17.725    134.508      0.000    2349.395    2418.875\n",
       "===================================================================================\n",
       "Ljung-Box (L1) (Q):                   0.00   Jarque-Bera (JB):             15538.39\n",
       "Prob(Q):                              0.99   Prob(JB):                         0.00\n",
       "Heteroskedasticity (H):               0.92   Skew:                            -0.19\n",
       "Prob(H) (two-sided):                  0.03   Kurtosis:                         9.50\n",
       "===================================================================================\n",
       "\n",
       "Warnings:\n",
       "[1] Covariance matrix calculated using the outer product of gradients (complex-step).\n",
       "\"\"\""
      ]
     },
     "execution_count": 18,
     "metadata": {},
     "output_type": "execute_result"
    }
   ],
   "source": [
    "model = sm.tsa.arima.ARIMA(df_timeseries['Actual'], order=(3, 0, 1))\n",
    "fitted = model.fit()\n",
    "fitted.summary()"
   ]
  },
  {
   "cell_type": "code",
   "execution_count": 19,
   "id": "4499a6eb",
   "metadata": {},
   "outputs": [
    {
     "data": {
      "text/html": [
       "<table class=\"simpletable\">\n",
       "<caption>SARIMAX Results</caption>\n",
       "<tr>\n",
       "  <th>Dep. Variable:</th>        <td>Actual</td>      <th>  No. Observations:  </th>    <td>8784</td>   \n",
       "</tr>\n",
       "<tr>\n",
       "  <th>Model:</th>            <td>ARIMA(3, 0, 2)</td>  <th>  Log Likelihood     </th> <td>-46585.584</td>\n",
       "</tr>\n",
       "<tr>\n",
       "  <th>Date:</th>            <td>Mon, 30 May 2022</td> <th>  AIC                </th>  <td>93185.167</td>\n",
       "</tr>\n",
       "<tr>\n",
       "  <th>Time:</th>                <td>02:58:37</td>     <th>  BIC                </th>  <td>93234.732</td>\n",
       "</tr>\n",
       "<tr>\n",
       "  <th>Sample:</th>             <td>01-01-2020</td>    <th>  HQIC               </th>  <td>93202.053</td>\n",
       "</tr>\n",
       "<tr>\n",
       "  <th></th>                   <td>- 12-31-2020</td>   <th>                     </th>      <td> </td>    \n",
       "</tr>\n",
       "<tr>\n",
       "  <th>Covariance Type:</th>        <td>opg</td>       <th>                     </th>      <td> </td>    \n",
       "</tr>\n",
       "</table>\n",
       "<table class=\"simpletable\">\n",
       "<tr>\n",
       "     <td></td>       <th>coef</th>     <th>std err</th>      <th>z</th>      <th>P>|z|</th>  <th>[0.025</th>    <th>0.975]</th>  \n",
       "</tr>\n",
       "<tr>\n",
       "  <th>const</th>  <td>   12.6187</td> <td>    3.420</td> <td>    3.689</td> <td> 0.000</td> <td>    5.915</td> <td>   19.322</td>\n",
       "</tr>\n",
       "<tr>\n",
       "  <th>ar.L1</th>  <td>    0.6577</td> <td>    0.012</td> <td>   55.792</td> <td> 0.000</td> <td>    0.635</td> <td>    0.681</td>\n",
       "</tr>\n",
       "<tr>\n",
       "  <th>ar.L2</th>  <td>    0.9890</td> <td>    0.003</td> <td>  332.516</td> <td> 0.000</td> <td>    0.983</td> <td>    0.995</td>\n",
       "</tr>\n",
       "<tr>\n",
       "  <th>ar.L3</th>  <td>   -0.6609</td> <td>    0.010</td> <td>  -66.654</td> <td> 0.000</td> <td>   -0.680</td> <td>   -0.641</td>\n",
       "</tr>\n",
       "<tr>\n",
       "  <th>ma.L1</th>  <td>    0.0399</td> <td>    0.010</td> <td>    3.893</td> <td> 0.000</td> <td>    0.020</td> <td>    0.060</td>\n",
       "</tr>\n",
       "<tr>\n",
       "  <th>ma.L2</th>  <td>   -0.9464</td> <td>    0.010</td> <td>  -95.025</td> <td> 0.000</td> <td>   -0.966</td> <td>   -0.927</td>\n",
       "</tr>\n",
       "<tr>\n",
       "  <th>sigma2</th> <td> 2361.6606</td> <td>   17.555</td> <td>  134.533</td> <td> 0.000</td> <td> 2327.254</td> <td> 2396.067</td>\n",
       "</tr>\n",
       "</table>\n",
       "<table class=\"simpletable\">\n",
       "<tr>\n",
       "  <th>Ljung-Box (L1) (Q):</th>     <td>4.78</td> <th>  Jarque-Bera (JB):  </th> <td>15342.53</td>\n",
       "</tr>\n",
       "<tr>\n",
       "  <th>Prob(Q):</th>                <td>0.03</td> <th>  Prob(JB):          </th>   <td>0.00</td>  \n",
       "</tr>\n",
       "<tr>\n",
       "  <th>Heteroskedasticity (H):</th> <td>0.92</td> <th>  Skew:              </th>   <td>-0.16</td> \n",
       "</tr>\n",
       "<tr>\n",
       "  <th>Prob(H) (two-sided):</th>    <td>0.02</td> <th>  Kurtosis:          </th>   <td>9.47</td>  \n",
       "</tr>\n",
       "</table><br/><br/>Warnings:<br/>[1] Covariance matrix calculated using the outer product of gradients (complex-step)."
      ],
      "text/plain": [
       "<class 'statsmodels.iolib.summary.Summary'>\n",
       "\"\"\"\n",
       "                               SARIMAX Results                                \n",
       "==============================================================================\n",
       "Dep. Variable:                 Actual   No. Observations:                 8784\n",
       "Model:                 ARIMA(3, 0, 2)   Log Likelihood              -46585.584\n",
       "Date:                Mon, 30 May 2022   AIC                          93185.167\n",
       "Time:                        02:58:37   BIC                          93234.732\n",
       "Sample:                    01-01-2020   HQIC                         93202.053\n",
       "                         - 12-31-2020                                         \n",
       "Covariance Type:                  opg                                         \n",
       "==============================================================================\n",
       "                 coef    std err          z      P>|z|      [0.025      0.975]\n",
       "------------------------------------------------------------------------------\n",
       "const         12.6187      3.420      3.689      0.000       5.915      19.322\n",
       "ar.L1          0.6577      0.012     55.792      0.000       0.635       0.681\n",
       "ar.L2          0.9890      0.003    332.516      0.000       0.983       0.995\n",
       "ar.L3         -0.6609      0.010    -66.654      0.000      -0.680      -0.641\n",
       "ma.L1          0.0399      0.010      3.893      0.000       0.020       0.060\n",
       "ma.L2         -0.9464      0.010    -95.025      0.000      -0.966      -0.927\n",
       "sigma2      2361.6606     17.555    134.533      0.000    2327.254    2396.067\n",
       "===================================================================================\n",
       "Ljung-Box (L1) (Q):                   4.78   Jarque-Bera (JB):             15342.53\n",
       "Prob(Q):                              0.03   Prob(JB):                         0.00\n",
       "Heteroskedasticity (H):               0.92   Skew:                            -0.16\n",
       "Prob(H) (two-sided):                  0.02   Kurtosis:                         9.47\n",
       "===================================================================================\n",
       "\n",
       "Warnings:\n",
       "[1] Covariance matrix calculated using the outer product of gradients (complex-step).\n",
       "\"\"\""
      ]
     },
     "execution_count": 19,
     "metadata": {},
     "output_type": "execute_result"
    }
   ],
   "source": [
    "model = sm.tsa.arima.ARIMA(df_timeseries['Actual'], order=(3, 0, 2))\n",
    "fitted = model.fit()\n",
    "fitted.summary()"
   ]
  },
  {
   "cell_type": "markdown",
   "id": "071ef190",
   "metadata": {},
   "source": [
    "From models with all statistically significant parameters, select the model with the **Lowest** AIC value"
   ]
  },
  {
   "cell_type": "code",
   "execution_count": 20,
   "id": "7710a2f5",
   "metadata": {},
   "outputs": [],
   "source": [
    "orders = [(1, 0, 0), (2, 0, 0), (3, 0, 0), (2, 0, 1), (2, 0, 2), (3, 0, 1), (3, 0, 2)]"
   ]
  },
  {
   "cell_type": "code",
   "execution_count": 21,
   "id": "428051e7",
   "metadata": {},
   "outputs": [],
   "source": [
    "aicc_values = []\n",
    "for order in orders:\n",
    "    model = sm.tsa.arima.ARIMA(df_timeseries['Actual'], order=order)\n",
    "    fitted = model.fit()\n",
    "    aic_value = fitted.aicc\n",
    "    aicc_values.append(aic_value)\n"
   ]
  },
  {
   "cell_type": "code",
   "execution_count": 22,
   "id": "34d44d4d",
   "metadata": {},
   "outputs": [
    {
     "name": "stdout",
     "output_type": "stream",
     "text": [
      "Best model: (3, 0, 2)\n"
     ]
    }
   ],
   "source": [
    "min_idx = np.argmin(aicc_values)\n",
    "print(f\"Best model: {orders[min_idx]}\")\n",
    "\n",
    "# Select the best\n",
    "model = sm.tsa.arima.ARIMA(df_timeseries['Actual'], order=orders[min_idx])\n",
    "fitted = model.fit()"
   ]
  },
  {
   "cell_type": "markdown",
   "id": "80362072",
   "metadata": {},
   "source": [
    "See, if the residuals are white noise (no autocorrelation)"
   ]
  },
  {
   "cell_type": "code",
   "execution_count": 23,
   "id": "71ac3ae0",
   "metadata": {},
   "outputs": [
    {
     "data": {
      "image/png": "[encoded data removed]",
      "text/plain": [
       "<Figure size 432x288 with 2 Axes>"
      ]
     },
     "metadata": {
      "needs_background": "light"
     },
     "output_type": "display_data"
    }
   ],
   "source": [
    "residuals = pd.DataFrame(fitted.resid)\n",
    "fig, ax = plt.subplots(1, 2)\n",
    "residuals.plot(title='residuals', ax=ax[0])\n",
    "residuals.plot(kind='kde', title='Density', ax=ax[1])\n",
    "plt.show()"
   ]
  },
  {
   "cell_type": "code",
   "execution_count": 24,
   "id": "4abed68c",
   "metadata": {},
   "outputs": [
    {
     "data": {
      "image/png": "[encoded data removed]",
      "text/plain": [
       "<Figure size 1080x864 with 4 Axes>"
      ]
     },
     "metadata": {
      "needs_background": "light"
     },
     "output_type": "display_data"
    }
   ],
   "source": [
    "fitted.plot_diagnostics(figsize=(15, 12))\n",
    "plt.show()"
   ]
  },
  {
   "cell_type": "markdown",
   "id": "d4771ffb",
   "metadata": {},
   "source": [
    "* The tails of the KDE are relatively not-heavy, which is suprising, considering, that most of the real processes have heavy tails  \n",
    "* The correlogram shows, that the autocorrelation structure is removed and residuals are mostly white noise (MA(0) process) "
   ]
  },
  {
   "cell_type": "markdown",
   "id": "77a6e3b9",
   "metadata": {},
   "source": [
    "## Validation \n",
    "\n",
    "Validate the model, and analyze the results of different forecast horizons. Use cross-validation as a validation method and RMSE and MAPE as metrics.  \n",
    "\n",
    "Since the results of tests described above gave results, that timeseries are stationary, we can take use parts of the original series as training-test data, as the probability distribution must be the same. \n",
    "\n",
    "The **error** is different from residuals, in a way that residuals are for training errors, but error considers test data. \n",
    "$$e_{T+h} = y_{T+h} - \\hat{y}_{T+h|T}$$\n",
    "\n",
    "where $T$ is the size of training data\n",
    "\n",
    "Time series data is harder to cross-validate, because of the sequential nature"
   ]
  },
  {
   "cell_type": "code",
   "execution_count": 25,
   "id": "61e97333",
   "metadata": {},
   "outputs": [],
   "source": [
    "def train_test_split(data, train_size):\n",
    "    x_len = data.shape[0]\n",
    "    train_size = int(x_len * train_size)\n",
    "\n",
    "    train = data.iloc[:train_size, data.columns.get_loc('Actual')]\n",
    "    test = data.iloc[train_size:, data.columns.get_loc('Actual')]\n",
    "    return train, test"
   ]
  },
  {
   "cell_type": "code",
   "execution_count": 26,
   "id": "ef9a04a6",
   "metadata": {},
   "outputs": [
    {
     "data": {
      "text/plain": [
       "<AxesSubplot:xlabel='from'>"
      ]
     },
     "execution_count": 26,
     "metadata": {},
     "output_type": "execute_result"
    },
    {
     "data": {
      "image/png": "[encoded data removed]",
      "text/plain": [
       "<Figure size 432x288 with 1 Axes>"
      ]
     },
     "metadata": {
      "needs_background": "light"
     },
     "output_type": "display_data"
    }
   ],
   "source": [
    "train, test = train_test_split(df_timeseries, 0.95)\n",
    "model = sm.tsa.arima.ARIMA(train, order=(3, 0, 2))\n",
    "fitted = model.fit()\n",
    "train.plot()\n",
    "test.plot()"
   ]
  },
  {
   "cell_type": "code",
   "execution_count": 27,
   "id": "dcfe45b8",
   "metadata": {},
   "outputs": [
    {
     "name": "stdout",
     "output_type": "stream",
     "text": [
      "TRAIN:                      Actual\n",
      "from                       \n",
      "2020-01-01 00:00:00 -81.387\n",
      "2020-01-01 01:00:00 -64.872\n",
      "2020-01-01 02:00:00   2.369\n",
      "2020-01-01 03:00:00  15.039\n",
      "2020-01-01 04:00:00  21.496\n",
      "...                     ...\n",
      "2020-02-01 15:00:00   2.472\n",
      "2020-02-01 16:00:00  24.262\n",
      "2020-02-01 17:00:00 -62.587\n",
      "2020-02-01 18:00:00 -42.319\n",
      "2020-02-01 19:00:00  -6.449\n",
      "\n",
      "[764 rows x 1 columns]\n",
      "\n",
      "TEST:                      Actual\n",
      "from                       \n",
      "2020-02-01 20:00:00  51.992\n",
      "2020-02-01 21:00:00  56.247\n",
      "2020-02-01 22:00:00  49.337\n",
      "2020-02-01 23:00:00  84.046\n",
      "2020-02-02 00:00:00  71.574\n",
      "...                     ...\n",
      "2020-03-04 05:00:00  -1.718\n",
      "2020-03-04 06:00:00  21.711\n",
      "2020-03-04 07:00:00  35.013\n",
      "2020-03-04 08:00:00 -10.955\n",
      "2020-03-04 09:00:00 -24.037\n",
      "\n",
      "[758 rows x 1 columns]\n",
      "TRAIN:                      Actual\n",
      "from                       \n",
      "2020-01-01 00:00:00 -81.387\n",
      "2020-01-01 01:00:00 -64.872\n",
      "2020-01-01 02:00:00   2.369\n",
      "2020-01-01 03:00:00  15.039\n",
      "2020-01-01 04:00:00  21.496\n",
      "...                     ...\n",
      "2020-03-04 05:00:00  -1.718\n",
      "2020-03-04 06:00:00  21.711\n",
      "2020-03-04 07:00:00  35.013\n",
      "2020-03-04 08:00:00 -10.955\n",
      "2020-03-04 09:00:00 -24.037\n",
      "\n",
      "[1522 rows x 1 columns]\n",
      "\n",
      "TEST:                       Actual\n",
      "from                        \n",
      "2020-03-04 10:00:00 -161.894\n",
      "2020-03-04 11:00:00 -164.815\n",
      "2020-03-04 12:00:00 -145.628\n",
      "2020-03-04 13:00:00 -187.657\n",
      "2020-03-04 14:00:00 -143.851\n",
      "...                      ...\n",
      "2020-04-04 19:00:00  152.166\n",
      "2020-04-04 20:00:00   43.352\n",
      "2020-04-04 21:00:00  -33.259\n",
      "2020-04-04 22:00:00  -21.730\n",
      "2020-04-04 23:00:00  -26.014\n",
      "\n",
      "[758 rows x 1 columns]\n",
      "TRAIN:                       Actual\n",
      "from                        \n",
      "2020-01-01 00:00:00  -81.387\n",
      "2020-01-01 01:00:00  -64.872\n",
      "2020-01-01 02:00:00    2.369\n",
      "2020-01-01 03:00:00   15.039\n",
      "2020-01-01 04:00:00   21.496\n",
      "...                      ...\n",
      "2020-04-04 19:00:00  152.166\n",
      "2020-04-04 20:00:00   43.352\n",
      "2020-04-04 21:00:00  -33.259\n",
      "2020-04-04 22:00:00  -21.730\n",
      "2020-04-04 23:00:00  -26.014\n",
      "\n",
      "[2280 rows x 1 columns]\n",
      "\n",
      "TEST:                       Actual\n",
      "from                        \n",
      "2020-04-05 00:00:00   14.765\n",
      "2020-04-05 01:00:00 -103.545\n",
      "2020-04-05 02:00:00  -68.835\n",
      "2020-04-05 03:00:00  -41.660\n",
      "2020-04-05 04:00:00  -37.826\n",
      "...                      ...\n",
      "2020-05-06 09:00:00  -38.289\n",
      "2020-05-06 10:00:00    3.107\n",
      "2020-05-06 11:00:00   19.047\n",
      "2020-05-06 12:00:00   43.897\n",
      "2020-05-06 13:00:00   61.083\n",
      "\n",
      "[758 rows x 1 columns]\n",
      "TRAIN:                      Actual\n",
      "from                       \n",
      "2020-01-01 00:00:00 -81.387\n",
      "2020-01-01 01:00:00 -64.872\n",
      "2020-01-01 02:00:00   2.369\n",
      "2020-01-01 03:00:00  15.039\n",
      "2020-01-01 04:00:00  21.496\n",
      "...                     ...\n",
      "2020-05-06 09:00:00 -38.289\n",
      "2020-05-06 10:00:00   3.107\n",
      "2020-05-06 11:00:00  19.047\n",
      "2020-05-06 12:00:00  43.897\n",
      "2020-05-06 13:00:00  61.083\n",
      "\n",
      "[3038 rows x 1 columns]\n",
      "\n",
      "TEST:                       Actual\n",
      "from                        \n",
      "2020-05-06 14:00:00  118.642\n",
      "2020-05-06 15:00:00  148.133\n",
      "2020-05-06 16:00:00  121.584\n",
      "2020-05-06 17:00:00  105.236\n",
      "2020-05-06 18:00:00   79.210\n",
      "...                      ...\n",
      "2020-06-06 23:00:00  -69.095\n",
      "2020-06-07 00:00:00 -137.432\n",
      "2020-06-07 01:00:00   21.996\n",
      "2020-06-07 02:00:00   62.188\n",
      "2020-06-07 03:00:00   54.755\n",
      "\n",
      "[758 rows x 1 columns]\n",
      "TRAIN:                       Actual\n",
      "from                        \n",
      "2020-01-01 00:00:00  -81.387\n",
      "2020-01-01 01:00:00  -64.872\n",
      "2020-01-01 02:00:00    2.369\n",
      "2020-01-01 03:00:00   15.039\n",
      "2020-01-01 04:00:00   21.496\n",
      "...                      ...\n",
      "2020-06-06 23:00:00  -69.095\n",
      "2020-06-07 00:00:00 -137.432\n",
      "2020-06-07 01:00:00   21.996\n",
      "2020-06-07 02:00:00   62.188\n",
      "2020-06-07 03:00:00   54.755\n",
      "\n",
      "[3796 rows x 1 columns]\n",
      "\n",
      "TEST:                       Actual\n",
      "from                        \n",
      "2020-06-07 04:00:00   77.345\n",
      "2020-06-07 05:00:00   72.405\n",
      "2020-06-07 06:00:00   42.035\n",
      "2020-06-07 07:00:00   10.390\n",
      "2020-06-07 08:00:00 -127.331\n",
      "...                      ...\n",
      "2020-07-08 13:00:00  -90.509\n",
      "2020-07-08 14:00:00  -65.067\n",
      "2020-07-08 15:00:00   32.584\n",
      "2020-07-08 16:00:00  103.126\n",
      "2020-07-08 17:00:00   73.128\n",
      "\n",
      "[758 rows x 1 columns]\n",
      "TRAIN:                       Actual\n",
      "from                        \n",
      "2020-01-01 00:00:00  -81.387\n",
      "2020-01-01 01:00:00  -64.872\n",
      "2020-01-01 02:00:00    2.369\n",
      "2020-01-01 03:00:00   15.039\n",
      "2020-01-01 04:00:00   21.496\n",
      "...                      ...\n",
      "2020-07-08 13:00:00  -90.509\n",
      "2020-07-08 14:00:00  -65.067\n",
      "2020-07-08 15:00:00   32.584\n",
      "2020-07-08 16:00:00  103.126\n",
      "2020-07-08 17:00:00   73.128\n",
      "\n",
      "[4554 rows x 1 columns]\n",
      "\n",
      "TEST:                      Actual\n",
      "from                       \n",
      "2020-07-08 18:00:00  -4.693\n",
      "2020-07-08 19:00:00 -64.436\n",
      "2020-07-08 20:00:00 -62.170\n",
      "2020-07-08 21:00:00 -44.945\n",
      "2020-07-08 22:00:00 -14.673\n",
      "...                     ...\n",
      "2020-08-09 03:00:00  50.099\n",
      "2020-08-09 04:00:00  40.509\n",
      "2020-08-09 05:00:00  66.132\n",
      "2020-08-09 06:00:00  61.820\n",
      "2020-08-09 07:00:00  17.279\n",
      "\n",
      "[758 rows x 1 columns]\n",
      "TRAIN:                      Actual\n",
      "from                       \n",
      "2020-01-01 00:00:00 -81.387\n",
      "2020-01-01 01:00:00 -64.872\n",
      "2020-01-01 02:00:00   2.369\n",
      "2020-01-01 03:00:00  15.039\n",
      "2020-01-01 04:00:00  21.496\n",
      "...                     ...\n",
      "2020-08-09 03:00:00  50.099\n",
      "2020-08-09 04:00:00  40.509\n",
      "2020-08-09 05:00:00  66.132\n",
      "2020-08-09 06:00:00  61.820\n",
      "2020-08-09 07:00:00  17.279\n",
      "\n",
      "[5312 rows x 1 columns]\n",
      "\n",
      "TEST:                       Actual\n",
      "from                        \n",
      "2020-08-09 08:00:00  -27.047\n",
      "2020-08-09 09:00:00  -25.159\n",
      "2020-08-09 10:00:00  -10.326\n",
      "2020-08-09 11:00:00   31.386\n",
      "2020-08-09 12:00:00   43.551\n",
      "...                      ...\n",
      "2020-09-09 17:00:00  -29.728\n",
      "2020-09-09 18:00:00  -54.444\n",
      "2020-09-09 19:00:00   -5.040\n",
      "2020-09-09 20:00:00   45.714\n",
      "2020-09-09 21:00:00  122.208\n",
      "\n",
      "[758 rows x 1 columns]\n",
      "TRAIN:                       Actual\n",
      "from                        \n",
      "2020-01-01 00:00:00  -81.387\n",
      "2020-01-01 01:00:00  -64.872\n",
      "2020-01-01 02:00:00    2.369\n",
      "2020-01-01 03:00:00   15.039\n",
      "2020-01-01 04:00:00   21.496\n",
      "...                      ...\n",
      "2020-09-09 17:00:00  -29.728\n",
      "2020-09-09 18:00:00  -54.444\n",
      "2020-09-09 19:00:00   -5.040\n",
      "2020-09-09 20:00:00   45.714\n",
      "2020-09-09 21:00:00  122.208\n",
      "\n",
      "[6070 rows x 1 columns]\n",
      "\n",
      "TEST:                      Actual\n",
      "from                       \n",
      "2020-09-09 22:00:00  57.126\n",
      "2020-09-09 23:00:00  99.571\n",
      "2020-09-10 00:00:00 -19.763\n",
      "2020-09-10 01:00:00 -62.401\n",
      "2020-09-10 02:00:00 -38.361\n",
      "...                     ...\n",
      "2020-10-11 07:00:00  20.769\n",
      "2020-10-11 08:00:00  -7.432\n",
      "2020-10-11 09:00:00 -13.527\n",
      "2020-10-11 10:00:00 -31.034\n",
      "2020-10-11 11:00:00 -22.829\n",
      "\n",
      "[758 rows x 1 columns]\n",
      "TRAIN:                      Actual\n",
      "from                       \n",
      "2020-01-01 00:00:00 -81.387\n",
      "2020-01-01 01:00:00 -64.872\n",
      "2020-01-01 02:00:00   2.369\n",
      "2020-01-01 03:00:00  15.039\n",
      "2020-01-01 04:00:00  21.496\n",
      "...                     ...\n",
      "2020-10-11 07:00:00  20.769\n",
      "2020-10-11 08:00:00  -7.432\n",
      "2020-10-11 09:00:00 -13.527\n",
      "2020-10-11 10:00:00 -31.034\n",
      "2020-10-11 11:00:00 -22.829\n",
      "\n",
      "[6828 rows x 1 columns]\n",
      "\n",
      "TEST:                      Actual\n",
      "from                       \n",
      "2020-10-11 12:00:00  -9.325\n",
      "2020-10-11 13:00:00  39.229\n",
      "2020-10-11 14:00:00  32.137\n",
      "2020-10-11 15:00:00  10.738\n",
      "2020-10-11 16:00:00   4.873\n",
      "...                     ...\n",
      "2020-11-11 21:00:00 -12.494\n",
      "2020-11-11 22:00:00  45.861\n",
      "2020-11-11 23:00:00  43.761\n",
      "2020-11-12 00:00:00 -18.021\n",
      "2020-11-12 01:00:00   9.127\n",
      "\n",
      "[758 rows x 1 columns]\n",
      "TRAIN:                      Actual\n",
      "from                       \n",
      "2020-01-01 00:00:00 -81.387\n",
      "2020-01-01 01:00:00 -64.872\n",
      "2020-01-01 02:00:00   2.369\n",
      "2020-01-01 03:00:00  15.039\n",
      "2020-01-01 04:00:00  21.496\n",
      "...                     ...\n",
      "2020-11-11 21:00:00 -12.494\n",
      "2020-11-11 22:00:00  45.861\n",
      "2020-11-11 23:00:00  43.761\n",
      "2020-11-12 00:00:00 -18.021\n",
      "2020-11-12 01:00:00   9.127\n",
      "\n",
      "[7586 rows x 1 columns]\n",
      "\n",
      "TEST:                       Actual\n",
      "from                        \n",
      "2020-11-12 02:00:00   16.903\n",
      "2020-11-12 03:00:00   -4.055\n",
      "2020-11-12 04:00:00    1.512\n",
      "2020-11-12 05:00:00   26.152\n",
      "2020-11-12 06:00:00  114.932\n",
      "...                      ...\n",
      "2020-12-13 11:00:00  -65.669\n",
      "2020-12-13 12:00:00  -36.279\n",
      "2020-12-13 13:00:00  -24.558\n",
      "2020-12-13 14:00:00  -30.501\n",
      "2020-12-13 15:00:00  -20.155\n",
      "\n",
      "[758 rows x 1 columns]\n"
     ]
    }
   ],
   "source": [
    "from sklearn.model_selection import TimeSeriesSplit\n",
    "\n",
    "# Returns 10 folds of [training], test \n",
    "tscv = TimeSeriesSplit(n_splits=10)\n",
    "for train_idx, test_idx in tscv.split(train):\n",
    "    X_train, X_test = df_timeseries.iloc[train_idx], df_timeseries.iloc[test_idx]\n",
    "#     y_train, y_test = df_timeseries[train_idx], df_timeseries[test_idx]\n",
    "\n",
    "    print(\"TRAIN:\", X_train)\n",
    "    print()\n",
    "    print(\"TEST:\", X_test)\n",
    "\n",
    "    model = sm.tsa.arima.ARIMA(X_train['Actual'], order=(3, 0, 1))\n",
    "    fitted = model.fit()\n",
    "    \n",
    "    fitted.get_prediction(start=X_test.index[0], end=X_test.index[-1], dynamic=False)\n",
    "    \n"
   ]
  },
  {
   "cell_type": "markdown",
   "id": "61636d3b",
   "metadata": {},
   "source": [
    "### Naive baseline model\n",
    "\n",
    "The more complicated models must perform better than the naive baseline. Naive baseline forecast just last seen value."
   ]
  },
  {
   "cell_type": "code",
   "execution_count": 28,
   "id": "31ebec6a",
   "metadata": {},
   "outputs": [],
   "source": [
    "from sklearn.metrics import mean_squared_error\n",
    "\n",
    "\n",
    "def validate_naive_forecast(train, test, steps=1):\n",
    "    history = [x for x in train]\n",
    "    predictions = []\n",
    "    predicted_observations=[]\n",
    "    reduced_test_size = steps -1\n",
    "\n",
    "    for i in range(len(test) - reduced_test_size):\n",
    "        yhat = history[-1]\n",
    "        predictions.append(yhat)\n",
    "        current_observation = test[i]\n",
    "        predicted_observation = test[i+steps-1]\n",
    "        \n",
    "        predicted_observations.append(predicted_observation)\n",
    "        history.append(current_observation)\n",
    "        # print(f'Forecast {yhat}, Actual {predicted_observation}')\n",
    "\n",
    "    predicted_observations = np.array(predicted_observations)\n",
    "    rmse = round(np.sqrt(mean_squared_error(predicted_observations, predictions)), 2)\n",
    "    mape = round(np.mean(np.abs(predictions - predicted_observations)/np.abs(predicted_observations)), 2)\n",
    "    mae = round(np.mean(np.abs(predictions - predicted_observations)), 2)\n",
    "    \n",
    "    error_metrics = {'rmse': rmse, 'mape': mape, 'mae': mae}\n",
    "    return error_metrics, predictions\n"
   ]
  },
  {
   "cell_type": "code",
   "execution_count": 29,
   "id": "2f43d53f",
   "metadata": {},
   "outputs": [
    {
     "name": "stdout",
     "output_type": "stream",
     "text": [
      "Naive forecast metrics\n",
      "RMSE: 62.22\n",
      "MAPE: 9.88\n",
      "MAE: 46.65\n"
     ]
    }
   ],
   "source": [
    "error_metrics, predictions = validate_naive_forecast(train, test, steps=2)\n",
    "print(\"Naive forecast metrics\")\n",
    "print(f\"RMSE: {error_metrics['rmse']}\")\n",
    "print(f\"MAPE: {error_metrics['mape']}\")\n",
    "print(f\"MAE: {error_metrics['mae']}\")"
   ]
  },
  {
   "cell_type": "code",
   "execution_count": 30,
   "id": "3a6e65d9",
   "metadata": {},
   "outputs": [
    {
     "data": {
      "text/plain": [
       "<matplotlib.legend.Legend at 0x7f8c963d9910>"
      ]
     },
     "execution_count": 30,
     "metadata": {},
     "output_type": "execute_result"
    },
    {
     "data": {
      "image/png": "[encoded data removed]",
      "text/plain": [
       "<Figure size 432x288 with 1 Axes>"
      ]
     },
     "metadata": {
      "needs_background": "light"
     },
     "output_type": "display_data"
    }
   ],
   "source": [
    "plt.plot(test.values)\n",
    "plt.plot(predictions, label='predictions')\n",
    "plt.legend()"
   ]
  },
  {
   "cell_type": "code",
   "execution_count": 31,
   "id": "42885855",
   "metadata": {},
   "outputs": [
    {
     "data": {
      "image/png": "[encoded data removed]",
      "text/plain": [
       "<Figure size 432x288 with 1 Axes>"
      ]
     },
     "metadata": {
      "needs_background": "light"
     },
     "output_type": "display_data"
    }
   ],
   "source": [
    "plt.plot(test.values[300:], label='Real observations')\n",
    "plt.plot(predictions[300:], label='Naive predictions 2h ahead')\n",
    "plt.legend()\n",
    "plt.show()"
   ]
  },
  {
   "cell_type": "code",
   "execution_count": 32,
   "id": "86e6c792",
   "metadata": {},
   "outputs": [
    {
     "name": "stdout",
     "output_type": "stream",
     "text": [
      "Naive forecast metrics\n",
      "RMSE: 71.86\n",
      "MAPE: 9.41\n",
      "MAE: 54.61\n"
     ]
    }
   ],
   "source": [
    "error_metrics, predictions = validate_naive_forecast(train, test, steps=3)\n",
    "print(\"Naive forecast metrics\")\n",
    "print(f\"RMSE: {error_metrics['rmse']}\")\n",
    "print(f\"MAPE: {error_metrics['mape']}\")\n",
    "print(f\"MAE: {error_metrics['mae']}\")"
   ]
  },
  {
   "cell_type": "code",
   "execution_count": 33,
   "id": "bc4dcc05",
   "metadata": {},
   "outputs": [
    {
     "name": "stdout",
     "output_type": "stream",
     "text": [
      "Naive forecast metrics\n",
      "RMSE: 77.08\n",
      "MAPE: 7.44\n",
      "MAE: 58.66\n"
     ]
    }
   ],
   "source": [
    "error_metrics, predictions = validate_naive_forecast(train, test, steps=4)\n",
    "print(\"Naive forecast metrics\")\n",
    "print(f\"RMSE: {error_metrics['rmse']}\")\n",
    "print(f\"MAPE: {error_metrics['mape']}\")\n",
    "print(f\"MAE: {error_metrics['mae']}\")"
   ]
  },
  {
   "cell_type": "markdown",
   "id": "c3de80cc",
   "metadata": {},
   "source": [
    "### In-sample Naive error metrics\n",
    "\n",
    "Real case study results will be provided as a separate notebook  \n",
    "**2h ahead**:\n",
    "\n",
    "RMSE: 62.22   \n",
    "MAE: 46.65  \n",
    "\n",
    "**3h ahead**: \n",
    "\n",
    "RMSE: 71.86  \n",
    "MAE: 54.61  \n",
    "\n",
    "**4h ahead**:  \n",
    "\n",
    "RMSE: 77.08  \n",
    "MAE: 58.66  "
   ]
  },
  {
   "cell_type": "markdown",
   "id": "6b0208b2",
   "metadata": {},
   "source": [
    "## Get ARIMA error metrics\n",
    "\n",
    "To reduce time, don't refit the model in every step as this would be unnecessary"
   ]
  },
  {
   "cell_type": "code",
   "execution_count": 34,
   "id": "63aabc2f",
   "metadata": {},
   "outputs": [],
   "source": [
    "def validate_arima_forecast(fitted, train, test, steps=1) -> dict():\n",
    "    \"\"\"\n",
    "    For each step predict the \"steps\" new observations. Add up the prediction errors.\n",
    "    Error is for the whole length of the test data (same length in every validation, to compare metrics)\n",
    "    \n",
    "    :param fitted: ARIMAResults fitted model.\n",
    "    \"\"\"\n",
    "    RE_FIT_ARIMA_ITERATIONS=20\n",
    "    predictions = []\n",
    "    test = test.values\n",
    "    reduced_test_size = steps - 2\n",
    "    predicted_observations=[]\n",
    "    for i in range(len(test) - reduced_test_size):\n",
    "        \n",
    "        yhat = fitted.forecast(steps)[-1]\n",
    "        predictions.append(yhat)  # Take the value corresponding to forecast horizon.\n",
    "        \n",
    "        refit=False\n",
    "        \n",
    "        # It is not necessary, to refit every time, but every 20 times will be optimal.\n",
    "#         if i % RE_FIT_ARIMA_ITERATIONS == 0:\n",
    "#             refit=True\n",
    "        \n",
    "        # We add 1 observation value at every step, not depending on forecast horizon!\n",
    "        observation = df_timeseries[len(fitted.fittedvalues):len(fitted.fittedvalues)+steps]\n",
    "    \n",
    "        fitted = fitted.append(observation.iloc[[0]], refit=refit)  # ARIMAResults object append. D\n",
    "        predicted_observations.append(observation.iloc[-1, 0])  \n",
    "        \n",
    "        # print(f'Forecast {yhat}, Actual {observation.iloc[-1, 0]}')\n",
    "\n",
    "    predicted_observations = np.array(predicted_observations)\n",
    "    rmse = round(np.sqrt(mean_squared_error(predicted_observations, predictions)), 2)\n",
    "    mape = round(np.mean(np.abs(predictions - predicted_observations)/np.abs(predicted_observations)), 2)\n",
    "    mae = round(np.mean(np.abs(predictions - predicted_observations)), 2)\n",
    "    \n",
    "    error_metrics = {'rmse': rmse, 'mape': mape, 'mae': mae}\n",
    "\n",
    "    return error_metrics, predictions\n",
    "    "
   ]
  },
  {
   "cell_type": "code",
   "execution_count": 35,
   "id": "017de977",
   "metadata": {},
   "outputs": [],
   "source": [
    "model = sm.tsa.arima.ARIMA(train, order=(3, 0, 2))\n",
    "fitted = model.fit()"
   ]
  },
  {
   "cell_type": "code",
   "execution_count": 36,
   "id": "8dc7d33c",
   "metadata": {},
   "outputs": [
    {
     "data": {
      "text/plain": [
       "from\n",
       "2020-12-13 16:00:00   -17.273\n",
       "2020-12-13 17:00:00    12.599\n",
       "2020-12-13 18:00:00    23.657\n",
       "2020-12-13 19:00:00    30.783\n",
       "2020-12-13 20:00:00    18.723\n",
       "                        ...  \n",
       "2020-12-31 19:00:00   -43.471\n",
       "2020-12-31 20:00:00    69.884\n",
       "2020-12-31 21:00:00    51.770\n",
       "2020-12-31 22:00:00     2.744\n",
       "2020-12-31 23:00:00    28.456\n",
       "Name: Actual, Length: 440, dtype: float64"
      ]
     },
     "execution_count": 36,
     "metadata": {},
     "output_type": "execute_result"
    }
   ],
   "source": [
    "test"
   ]
  },
  {
   "cell_type": "code",
   "execution_count": 37,
   "id": "c6bbf304",
   "metadata": {},
   "outputs": [
    {
     "name": "stdout",
     "output_type": "stream",
     "text": [
      "ARIMA  forecast metrics\n",
      "RMSE: 55.33\n",
      "MAPE: 6.0\n",
      "MAE: 41.54\n"
     ]
    }
   ],
   "source": [
    "error_metrics, predictions = validate_arima_forecast(fitted, train, test, steps=2)\n",
    "print(\"ARIMA  forecast metrics\")\n",
    "print(f\"RMSE: {error_metrics['rmse']}\")\n",
    "print(f\"MAPE: {error_metrics['mape']}\")\n",
    "print(f\"MAE: {error_metrics['mae']}\")"
   ]
  },
  {
   "cell_type": "code",
   "execution_count": 38,
   "id": "002b5976",
   "metadata": {},
   "outputs": [
    {
     "data": {
      "text/plain": [
       "<matplotlib.legend.Legend at 0x7f8c97b0e2e0>"
      ]
     },
     "execution_count": 38,
     "metadata": {},
     "output_type": "execute_result"
    },
    {
     "data": {
      "image/png": "[encoded data removed]",
      "text/plain": [
       "<Figure size 432x288 with 1 Axes>"
      ]
     },
     "metadata": {
      "needs_background": "light"
     },
     "output_type": "display_data"
    }
   ],
   "source": [
    "plt.plot(test.values, label='actual')\n",
    "plt.plot(predictions, label='predictions')\n",
    "plt.legend()"
   ]
  },
  {
   "cell_type": "code",
   "execution_count": null,
   "id": "285f5192",
   "metadata": {},
   "outputs": [],
   "source": []
  },
  {
   "cell_type": "code",
   "execution_count": 39,
   "id": "20746fc8",
   "metadata": {},
   "outputs": [
    {
     "data": {
      "image/png": "[encoded data removed]",
      "text/plain": [
       "<Figure size 432x288 with 1 Axes>"
      ]
     },
     "metadata": {
      "needs_background": "light"
     },
     "output_type": "display_data"
    }
   ],
   "source": [
    "plt.plot(test.values[160:260], label='Real observations')\n",
    "plt.plot(predictions[160:260], label='ARIMA predictions 2h ahead')\n",
    "plt.legend()\n",
    "plt.show()"
   ]
  },
  {
   "cell_type": "code",
   "execution_count": 40,
   "id": "28179c8d",
   "metadata": {},
   "outputs": [
    {
     "name": "stdout",
     "output_type": "stream",
     "text": [
      "ARIMA  forecast metrics\n",
      "RMSE: 60.95\n",
      "MAPE: 4.77\n",
      "MAE: 46.36\n"
     ]
    }
   ],
   "source": [
    "error_metrics, predictions = validate_arima_forecast(fitted, train, test, steps=3)\n",
    "print(\"ARIMA  forecast metrics\")\n",
    "print(f\"RMSE: {error_metrics['rmse']}\")\n",
    "print(f\"MAPE: {error_metrics['mape']}\")\n",
    "print(f\"MAE: {error_metrics['mae']}\")"
   ]
  },
  {
   "cell_type": "code",
   "execution_count": 41,
   "id": "9a2e4526",
   "metadata": {},
   "outputs": [
    {
     "name": "stdout",
     "output_type": "stream",
     "text": [
      "ARIMA  forecast metrics\n",
      "RMSE: 63.5\n",
      "MAPE: 3.75\n",
      "MAE: 48.66\n"
     ]
    }
   ],
   "source": [
    "error_metrics, predictions = validate_arima_forecast(fitted, train, test, steps=4)\n",
    "print(\"ARIMA  forecast metrics\")\n",
    "print(f\"RMSE: {error_metrics['rmse']}\")\n",
    "print(f\"MAPE: {error_metrics['mape']}\")\n",
    "print(f\"MAE: {error_metrics['mae']}\")"
   ]
  },
  {
   "cell_type": "markdown",
   "id": "87244d75",
   "metadata": {},
   "source": [
    "## ARIMA results \n",
    "\n",
    "The 2021 data is left for backtesting, and this is the validation on test data in 2020.  \n",
    "The backtesting results are brought out in separate file. Current analysis serves purpose of analyzing the forecast horizon effects on different models  \n",
    "\n",
    "**2h ahead:**  \n",
    "RMSE: 55.33  \n",
    "MAE: 41.54  \n",
    "\n",
    "**3h ahead:**  \n",
    "RMSE: 60.95  \n",
    "MAE: 46.36\n",
    "\n",
    "**4h ahead:**  \n",
    "RMSE: 63.5  \n",
    "MAE: 48.66"
   ]
  },
  {
   "cell_type": "markdown",
   "id": "882b09ce",
   "metadata": {},
   "source": [
    "Experiment translating the regression problem to a classification one"
   ]
  },
  {
   "cell_type": "code",
   "execution_count": 42,
   "id": "2765f935",
   "metadata": {},
   "outputs": [
    {
     "name": "stdout",
     "output_type": "stream",
     "text": [
      "Directional accuracy: 0.8\n"
     ]
    }
   ],
   "source": [
    "right_side = 0\n",
    "total = 0\n",
    "for i in range(len(predictions)):\n",
    "    if test[i] > 10:\n",
    "        if predictions[i] > 0:\n",
    "            right_side+=1\n",
    "        total+=1\n",
    "    elif test[i] < -10:\n",
    "        if predictions[i] < 0:\n",
    "            right_side +=1\n",
    "        total+=1\n",
    "print(f'Directional accuracy: {right_side/total}')"
   ]
  },
  {
   "cell_type": "markdown",
   "id": "d68ee353",
   "metadata": {},
   "source": [
    "## Exponential Smoothing"
   ]
  },
  {
   "cell_type": "code",
   "execution_count": 43,
   "id": "c6dbe2ed",
   "metadata": {},
   "outputs": [],
   "source": [
    "model = sm.tsa.arima.ARIMA(train, order=(0, 1, 1))\n",
    "fitted = model.fit()"
   ]
  },
  {
   "cell_type": "code",
   "execution_count": 44,
   "id": "70d5fda9",
   "metadata": {},
   "outputs": [
    {
     "name": "stdout",
     "output_type": "stream",
     "text": [
      "ARIMA  forecast metrics\n",
      "RMSE: 60.96\n",
      "MAPE: 9.39\n",
      "MAE: 45.89\n"
     ]
    }
   ],
   "source": [
    "error_metrics, predictions = validate_arima_forecast(fitted, train, test, steps=2)\n",
    "print(\"ARIMA  forecast metrics\")\n",
    "print(f\"RMSE: {error_metrics['rmse']}\")\n",
    "print(f\"MAPE: {error_metrics['mape']}\")\n",
    "print(f\"MAE: {error_metrics['mae']}\")"
   ]
  },
  {
   "cell_type": "code",
   "execution_count": 45,
   "id": "687b6561",
   "metadata": {},
   "outputs": [
    {
     "name": "stdout",
     "output_type": "stream",
     "text": [
      "ARIMA  forecast metrics\n",
      "RMSE: 69.93\n",
      "MAPE: 8.53\n",
      "MAE: 53.24\n"
     ]
    }
   ],
   "source": [
    "error_metrics, predictions = validate_arima_forecast(fitted, train, test, steps=3)\n",
    "print(\"ARIMA  forecast metrics\")\n",
    "print(f\"RMSE: {error_metrics['rmse']}\")\n",
    "print(f\"MAPE: {error_metrics['mape']}\")\n",
    "print(f\"MAE: {error_metrics['mae']}\")"
   ]
  },
  {
   "cell_type": "code",
   "execution_count": 46,
   "id": "a7a828ad",
   "metadata": {},
   "outputs": [
    {
     "name": "stdout",
     "output_type": "stream",
     "text": [
      "ARIMA  forecast metrics\n",
      "RMSE: 74.83\n",
      "MAPE: 6.88\n",
      "MAE: 56.81\n"
     ]
    }
   ],
   "source": [
    "error_metrics, predictions = validate_arima_forecast(fitted, train, test, steps=4)\n",
    "print(\"ARIMA  forecast metrics\")\n",
    "print(f\"RMSE: {error_metrics['rmse']}\")\n",
    "print(f\"MAPE: {error_metrics['mape']}\")\n",
    "print(f\"MAE: {error_metrics['mae']}\")"
   ]
  },
  {
   "cell_type": "markdown",
   "id": "88bb9234",
   "metadata": {},
   "source": [
    "## Exponential smoothing results\n",
    "\n",
    "**2h ahead:**  \n",
    "RMSE: 60.96  \n",
    "MAE: 45.89   \n",
    "\n",
    "**3h ahead:**   \n",
    "RMSE: 69.93  \n",
    "MAE: 53.24  \n",
    "\n",
    "**4h ahead:**  \n",
    "RMSE: 74.83  \n",
    "MAE: 56.81  "
   ]
  },
  {
   "cell_type": "markdown",
   "id": "97d8fdad",
   "metadata": {},
   "source": [
    "## Interpretation and model selection\n",
    "\n",
    "\n",
    "Look at RMSE only  \n",
    "\n",
    "|  df| Naive  | Arima   | Exponential Smoothing  |   |\n",
    "|----------|---|---|---|---|\n",
    "| 2h ahead  | 62.22 |55.33 | 60.96  |   |\n",
    "| 3h ahead  | 71.86  | 60.95  | 69.93  |   |\n",
    "| 4h ahead  | 77.08  | 63.5  | 74.83  |   |\n",
    "\n",
    "It can be interpreted, that ARIMA performs the best and more importantly, the results get worse by increasing the forecast horizon. However, ARIMA \"decays\" more slowly than Naive and Exponential Smoothing model"
   ]
  },
  {
   "cell_type": "markdown",
   "id": "f17fd105",
   "metadata": {},
   "source": [
    "This is for manually checking the logic of validation steps. To make sure, that no infomation leaks to validation (non-antipacivity)\n",
    "\n",
    "---"
   ]
  },
  {
   "cell_type": "code",
   "execution_count": 47,
   "id": "4eb8def5",
   "metadata": {},
   "outputs": [
    {
     "data": {
      "text/plain": [
       "from\n",
       "2020-01-01 00:00:00   -81.387\n",
       "2020-01-01 01:00:00   -64.872\n",
       "2020-01-01 02:00:00     2.369\n",
       "2020-01-01 03:00:00    15.039\n",
       "2020-01-01 04:00:00    21.496\n",
       "                        ...  \n",
       "2020-12-13 11:00:00   -65.669\n",
       "2020-12-13 12:00:00   -36.279\n",
       "2020-12-13 13:00:00   -24.558\n",
       "2020-12-13 14:00:00   -30.501\n",
       "2020-12-13 15:00:00   -20.155\n",
       "Name: Actual, Length: 8344, dtype: float64"
      ]
     },
     "execution_count": 47,
     "metadata": {},
     "output_type": "execute_result"
    }
   ],
   "source": [
    "train"
   ]
  },
  {
   "cell_type": "code",
   "execution_count": 48,
   "id": "8e7f4352",
   "metadata": {},
   "outputs": [
    {
     "data": {
      "text/plain": [
       "2020-12-13 16:00:00   -13.586719\n",
       "2020-12-13 17:00:00   -14.781286\n",
       "Freq: H, Name: predicted_mean, dtype: float64"
      ]
     },
     "execution_count": 48,
     "metadata": {},
     "output_type": "execute_result"
    }
   ],
   "source": [
    "model = sm.tsa.arima.ARIMA(train, order=(3, 0, 2))\n",
    "fitted=model.fit()\n",
    "prediction = fitted.forecast(2)\n",
    "prediction"
   ]
  },
  {
   "cell_type": "code",
   "execution_count": 49,
   "id": "5519d164",
   "metadata": {},
   "outputs": [
    {
     "data": {
      "text/plain": [
       "-14.781286496907558"
      ]
     },
     "execution_count": 49,
     "metadata": {},
     "output_type": "execute_result"
    }
   ],
   "source": [
    "\n",
    "prediction_2step=prediction[1]\n",
    "prediction_2step"
   ]
  },
  {
   "cell_type": "code",
   "execution_count": 50,
   "id": "3785f1b2",
   "metadata": {},
   "outputs": [
    {
     "data": {
      "text/html": [
       "<div>\n",
       "<style scoped>\n",
       "    .dataframe tbody tr th:only-of-type {\n",
       "        vertical-align: middle;\n",
       "    }\n",
       "\n",
       "    .dataframe tbody tr th {\n",
       "        vertical-align: top;\n",
       "    }\n",
       "\n",
       "    .dataframe thead th {\n",
       "        text-align: right;\n",
       "    }\n",
       "</style>\n",
       "<table border=\"1\" class=\"dataframe\">\n",
       "  <thead>\n",
       "    <tr style=\"text-align: right;\">\n",
       "      <th></th>\n",
       "      <th>Actual</th>\n",
       "    </tr>\n",
       "    <tr>\n",
       "      <th>from</th>\n",
       "      <th></th>\n",
       "    </tr>\n",
       "  </thead>\n",
       "  <tbody>\n",
       "    <tr>\n",
       "      <th>2020-12-13 16:00:00</th>\n",
       "      <td>-17.273</td>\n",
       "    </tr>\n",
       "  </tbody>\n",
       "</table>\n",
       "</div>"
      ],
      "text/plain": [
       "                     Actual\n",
       "from                       \n",
       "2020-12-13 16:00:00 -17.273"
      ]
     },
     "execution_count": 50,
     "metadata": {},
     "output_type": "execute_result"
    }
   ],
   "source": [
    "observation=df_timeseries[len(fitted.fittedvalues):len(fitted.fittedvalues)+2]\n",
    "observation.iloc[:-1]"
   ]
  },
  {
   "cell_type": "code",
   "execution_count": 51,
   "id": "6c113fe0",
   "metadata": {},
   "outputs": [],
   "source": [
    "forecast= fitted.get_forecast(len(test), alpha=0.05)"
   ]
  },
  {
   "cell_type": "code",
   "execution_count": 52,
   "id": "7af90f95",
   "metadata": {},
   "outputs": [],
   "source": [
    "conf_int = forecast.conf_int()"
   ]
  },
  {
   "cell_type": "code",
   "execution_count": 53,
   "id": "7cd0df28",
   "metadata": {},
   "outputs": [
    {
     "data": {
      "image/png": "[encoded data removed]",
      "text/plain": [
       "<Figure size 1200x500 with 1 Axes>"
      ]
     },
     "metadata": {
      "needs_background": "light"
     },
     "output_type": "display_data"
    }
   ],
   "source": [
    "# Make as pandas series\n",
    "forecast_series = pd.Series(forecast.predicted_mean, index=test.index)\n",
    "lower_series = pd.Series(conf_int.iloc[:, 0], index=test.index)\n",
    "upper_series = pd.Series(conf_int.iloc[:, 1], index=test.index)\n",
    "\n",
    "# Plot\n",
    "plt.figure(figsize=(12,5), dpi=100)\n",
    "plt.plot(train, label='training')\n",
    "plt.plot(test, label='actual')\n",
    "plt.plot(forecast_series, label='forecast')\n",
    "plt.fill_between(lower_series.index, lower_series, upper_series, \n",
    "                 color='k', alpha=.15)\n",
    "plt.title('Forecast vs Actuals')\n",
    "plt.legend(loc='upper left', fontsize=8)\n",
    "plt.show()"
   ]
  },
  {
   "cell_type": "markdown",
   "id": "edd1e183",
   "metadata": {},
   "source": [
    "A very illustrative plot, that shows, why short term makes a lot more sense in this problem than long-term forecast horizon"
   ]
  },
  {
   "cell_type": "code",
   "execution_count": null,
   "id": "f1d4ba0d",
   "metadata": {},
   "outputs": [],
   "source": []
  },
  {
   "cell_type": "code",
   "execution_count": 54,
   "id": "a62e34b8",
   "metadata": {},
   "outputs": [
    {
     "data": {
      "image/png": "[encoded data removed]",
      "text/plain": [
       "<Figure size 432x288 with 4 Axes>"
      ]
     },
     "metadata": {
      "needs_background": "light"
     },
     "output_type": "display_data"
    }
   ],
   "source": [
    "result = seasonal_decompose(df_timeseries.dropna(), model='additive')\n",
    "result.plot()\n",
    "plt.show()"
   ]
  },
  {
   "cell_type": "code",
   "execution_count": null,
   "id": "6b0d4350",
   "metadata": {},
   "outputs": [],
   "source": []
  }
 ],
 "metadata": {
  "kernelspec": {
   "display_name": "Python [conda env:root] *",
   "language": "python",
   "name": "conda-root-py"
  },
  "language_info": {
   "codemirror_mode": {
    "name": "ipython",
    "version": 3
   },
   "file_extension": ".py",
   "mimetype": "text/x-python",
   "name": "python",
   "nbconvert_exporter": "python",
   "pygments_lexer": "ipython3",
   "version": "3.9.7"
  }
 },
 "nbformat": 4,
 "nbformat_minor": 5
}
